{
 "cells": [
  {
   "cell_type": "markdown",
   "metadata": {
    "id": "i0-bkD6C8QOy"
   },
   "source": [
    "# **Food Commodity Prices Analysis and Forecasting in Kenya**\n",
    "\n",
    "**By:** Charles Kagwanja   **|**   Kevin Kagia  |   Lucy Njambi  |\n",
    " Mwenda Mugambi\n",
    "\n",
    "\n",
    "\n",
    "---\n"
   ]
  },
  {
   "cell_type": "markdown",
   "metadata": {
    "id": "bTZHgI188QO1"
   },
   "source": [
    "## **Introduction**\n",
    "The focus of this project is to analyze and predict the dynamics of food commodity prices in various regions of Kenya. This initiative is essential in a country where agriculture is not only a key economic driver but also vital to the sustenance of its population. The fluctuation in food prices significantly impacts consumers, retailers, farmers, and policymakers. Understanding these price trends and being able to forecast future changes are crucial for effective agricultural planning, budgeting, and policy-making."
   ]
  },
  {
   "cell_type": "markdown",
   "metadata": {
    "id": "v7ViByVc8QO1"
   },
   "source": [
    "### Why This Project Matters\n",
    "\n",
    "1. **Economic Impact on Farmers and Producers**: Empowering farmers with the knowledge of future price trends, which can guide their crop production and marketing strategies.\n",
    "\n",
    "2. **Consumer Protection and Budgeting**: Assisting consumers, especially in lower-income groups, to better plan their food budgets.\n",
    "\n",
    "3. **Policy Making and Food Security**: Enabling policymakers to formulate strategies that can stabilize food markets and ensure food security.\n",
    "\n",
    "4. **Retail and Distribution Management**: Helping retailers and distributors in optimizing their inventory and pricing strategies.\n",
    "\n",
    "5. **Aid and Intervention Planning**: Assisting NGOs and international organizations in planning and distributing aid more effectively.\n",
    "\n",
    "6. **Market Stability and Investment**: Attracting investment in the agricultural sector by providing a clearer understanding of market dynamics.\n",
    "\n",
    "7. **Research and Development**: Contributing to academic and practical research in market dynamics and agricultural economics.\n",
    "\n",
    "### Goals of the Project\n",
    "\n",
    "- **Analyzing Price Trends and Seasonality**: Identify historical patterns in commodity prices across different markets in Kenya.\n",
    "- **Understanding Regional Variations**: Examine price differences across various regions to understand market dynamics.\n",
    "- **Forecasting Future Prices**: Develop models to predict future commodity prices.\n",
    "\n",
    "\n",
    "### Primary Stakeholders\n",
    "\n",
    "- Kenyan Ministry of Agriculture\n",
    "- Farmers' Associations and Agricultural Cooperatives\n",
    "- Retailers and Market Analysts\n",
    "- Non-Governmental Organizations and International Bodies\n",
    "- The General Public"
   ]
  },
  {
   "cell_type": "markdown",
   "metadata": {
    "id": "jwnBH-JO8QO2"
   },
   "source": [
    "## **Business Understanding**\n",
    "\n",
    "This project aims to provide actionable insights into the trends and future predictions of food commodity prices in Kenya. By leveraging data science and time series forecasting methods, this project seeks to contribute towards more stable and predictable food markets in Kenya."
   ]
  },
  {
   "cell_type": "markdown",
   "metadata": {
    "id": "9Ydnuc6N8QO2"
   },
   "source": [
    "## **Data Understanding**\n",
    "### Data Source\n",
    "\n",
    "The dataset for this project was obtained from the Humanitarian Data Exchange (HDX), specifically from the World Food Programme's food price database for Kenya. The dataset can be accessed [here](https://data.humdata.org/dataset/wfp-food-prices-for-kenya).\n",
    "\n",
    "This dataset is particularly suitable for our analysis due to the following reasons:\n",
    "1. **Comprehensiveness**: It covers a wide range of food commodities and spans multiple regions within Kenya.\n",
    "2. **Relevance**: The data directly relates to the prices of food commodities, which is the central focus of our project.\n",
    "3. **Timeliness**: The dataset includes recent data, which is crucial for accurate forecasting.\n",
    "\n",
    "First, we'll load the dataset and take a preliminary look at its structure, types of data it contains, and any initial observations we can make about it."
   ]
  },
  {
   "cell_type": "code",
   "execution_count": 1,
   "metadata": {
    "colab": {
     "base_uri": "https://localhost:8080/"
    },
    "id": "hRUShmT28QO2",
    "outputId": "e6789cc5-4b3d-4bda-f777-4182ec38fcc8"
   },
   "outputs": [
    {
     "ename": "ImportError",
     "evalue": "cannot import name 'deprecate_ndim_indexing' from 'pandas.core.indexers' (C:\\Users\\Admin\\anaconda3\\envs\\learn-env\\lib\\site-packages\\pandas\\core\\indexers\\__init__.py)",
     "output_type": "error",
     "traceback": [
      "\u001b[1;31m---------------------------------------------------------------------------\u001b[0m",
      "\u001b[1;31mImportError\u001b[0m                               Traceback (most recent call last)",
      "\u001b[1;32m<ipython-input-1-f1265b8b9fff>\u001b[0m in \u001b[0;36m<module>\u001b[1;34m\u001b[0m\n\u001b[0;32m      1\u001b[0m \u001b[1;31m# Importing necessary Libraries\u001b[0m\u001b[1;33m\u001b[0m\u001b[1;33m\u001b[0m\u001b[1;33m\u001b[0m\u001b[0m\n\u001b[0;32m      2\u001b[0m \u001b[1;32mimport\u001b[0m \u001b[0mnumpy\u001b[0m \u001b[1;32mas\u001b[0m \u001b[0mnp\u001b[0m\u001b[1;33m\u001b[0m\u001b[1;33m\u001b[0m\u001b[0m\n\u001b[1;32m----> 3\u001b[1;33m \u001b[1;32mimport\u001b[0m \u001b[0mpandas\u001b[0m \u001b[1;32mas\u001b[0m \u001b[0mpd\u001b[0m\u001b[1;33m\u001b[0m\u001b[1;33m\u001b[0m\u001b[0m\n\u001b[0m\u001b[0;32m      4\u001b[0m \u001b[1;32mimport\u001b[0m \u001b[0mseaborn\u001b[0m \u001b[1;32mas\u001b[0m \u001b[0msns\u001b[0m\u001b[1;33m\u001b[0m\u001b[1;33m\u001b[0m\u001b[0m\n\u001b[0;32m      5\u001b[0m \u001b[1;32mimport\u001b[0m \u001b[0mmatplotlib\u001b[0m\u001b[1;33m.\u001b[0m\u001b[0mpyplot\u001b[0m \u001b[1;32mas\u001b[0m \u001b[0mplt\u001b[0m\u001b[1;33m\u001b[0m\u001b[1;33m\u001b[0m\u001b[0m\n",
      "\u001b[1;32m~\\anaconda3\\envs\\learn-env\\lib\\site-packages\\pandas\\__init__.py\u001b[0m in \u001b[0;36m<module>\u001b[1;34m\u001b[0m\n\u001b[0;32m     48\u001b[0m \u001b[1;32mimport\u001b[0m \u001b[0mpandas\u001b[0m\u001b[1;33m.\u001b[0m\u001b[0mcore\u001b[0m\u001b[1;33m.\u001b[0m\u001b[0mconfig_init\u001b[0m\u001b[1;33m\u001b[0m\u001b[1;33m\u001b[0m\u001b[0m\n\u001b[0;32m     49\u001b[0m \u001b[1;33m\u001b[0m\u001b[0m\n\u001b[1;32m---> 50\u001b[1;33m from pandas.core.api import (\n\u001b[0m\u001b[0;32m     51\u001b[0m     \u001b[1;31m# dtype\u001b[0m\u001b[1;33m\u001b[0m\u001b[1;33m\u001b[0m\u001b[1;33m\u001b[0m\u001b[0m\n\u001b[0;32m     52\u001b[0m     \u001b[0mInt8Dtype\u001b[0m\u001b[1;33m,\u001b[0m\u001b[1;33m\u001b[0m\u001b[1;33m\u001b[0m\u001b[0m\n",
      "\u001b[1;32m~\\anaconda3\\envs\\learn-env\\lib\\site-packages\\pandas\\core\\api.py\u001b[0m in \u001b[0;36m<module>\u001b[1;34m\u001b[0m\n\u001b[0;32m     27\u001b[0m     \u001b[0mvalue_counts\u001b[0m\u001b[1;33m,\u001b[0m\u001b[1;33m\u001b[0m\u001b[1;33m\u001b[0m\u001b[0m\n\u001b[0;32m     28\u001b[0m )\n\u001b[1;32m---> 29\u001b[1;33m \u001b[1;32mfrom\u001b[0m \u001b[0mpandas\u001b[0m\u001b[1;33m.\u001b[0m\u001b[0mcore\u001b[0m\u001b[1;33m.\u001b[0m\u001b[0marrays\u001b[0m \u001b[1;32mimport\u001b[0m \u001b[0mCategorical\u001b[0m\u001b[1;33m\u001b[0m\u001b[1;33m\u001b[0m\u001b[0m\n\u001b[0m\u001b[0;32m     30\u001b[0m \u001b[1;32mfrom\u001b[0m \u001b[0mpandas\u001b[0m\u001b[1;33m.\u001b[0m\u001b[0mcore\u001b[0m\u001b[1;33m.\u001b[0m\u001b[0marrays\u001b[0m\u001b[1;33m.\u001b[0m\u001b[0mboolean\u001b[0m \u001b[1;32mimport\u001b[0m \u001b[0mBooleanDtype\u001b[0m\u001b[1;33m\u001b[0m\u001b[1;33m\u001b[0m\u001b[0m\n\u001b[0;32m     31\u001b[0m from pandas.core.arrays.floating import (\n",
      "\u001b[1;32m~\\anaconda3\\envs\\learn-env\\lib\\site-packages\\pandas\\core\\arrays\\__init__.py\u001b[0m in \u001b[0;36m<module>\u001b[1;34m\u001b[0m\n\u001b[0;32m      5\u001b[0m )\n\u001b[0;32m      6\u001b[0m \u001b[1;32mfrom\u001b[0m \u001b[0mpandas\u001b[0m\u001b[1;33m.\u001b[0m\u001b[0mcore\u001b[0m\u001b[1;33m.\u001b[0m\u001b[0marrays\u001b[0m\u001b[1;33m.\u001b[0m\u001b[0mboolean\u001b[0m \u001b[1;32mimport\u001b[0m \u001b[0mBooleanArray\u001b[0m\u001b[1;33m\u001b[0m\u001b[1;33m\u001b[0m\u001b[0m\n\u001b[1;32m----> 7\u001b[1;33m \u001b[1;32mfrom\u001b[0m \u001b[0mpandas\u001b[0m\u001b[1;33m.\u001b[0m\u001b[0mcore\u001b[0m\u001b[1;33m.\u001b[0m\u001b[0marrays\u001b[0m\u001b[1;33m.\u001b[0m\u001b[0mcategorical\u001b[0m \u001b[1;32mimport\u001b[0m \u001b[0mCategorical\u001b[0m\u001b[1;33m\u001b[0m\u001b[1;33m\u001b[0m\u001b[0m\n\u001b[0m\u001b[0;32m      8\u001b[0m \u001b[1;32mfrom\u001b[0m \u001b[0mpandas\u001b[0m\u001b[1;33m.\u001b[0m\u001b[0mcore\u001b[0m\u001b[1;33m.\u001b[0m\u001b[0marrays\u001b[0m\u001b[1;33m.\u001b[0m\u001b[0mdatetimes\u001b[0m \u001b[1;32mimport\u001b[0m \u001b[0mDatetimeArray\u001b[0m\u001b[1;33m\u001b[0m\u001b[1;33m\u001b[0m\u001b[0m\n\u001b[0;32m      9\u001b[0m \u001b[1;32mfrom\u001b[0m \u001b[0mpandas\u001b[0m\u001b[1;33m.\u001b[0m\u001b[0mcore\u001b[0m\u001b[1;33m.\u001b[0m\u001b[0marrays\u001b[0m\u001b[1;33m.\u001b[0m\u001b[0mfloating\u001b[0m \u001b[1;32mimport\u001b[0m \u001b[0mFloatingArray\u001b[0m\u001b[1;33m\u001b[0m\u001b[1;33m\u001b[0m\u001b[0m\n",
      "\u001b[1;32m~\\anaconda3\\envs\\learn-env\\lib\\site-packages\\pandas\\core\\arrays\\categorical.py\u001b[0m in \u001b[0;36m<module>\u001b[1;34m\u001b[0m\n\u001b[0;32m    108\u001b[0m     \u001b[0msanitize_array\u001b[0m\u001b[1;33m,\u001b[0m\u001b[1;33m\u001b[0m\u001b[1;33m\u001b[0m\u001b[0m\n\u001b[0;32m    109\u001b[0m )\n\u001b[1;32m--> 110\u001b[1;33m \u001b[1;32mfrom\u001b[0m \u001b[0mpandas\u001b[0m\u001b[1;33m.\u001b[0m\u001b[0mcore\u001b[0m\u001b[1;33m.\u001b[0m\u001b[0mindexers\u001b[0m \u001b[1;32mimport\u001b[0m \u001b[0mdeprecate_ndim_indexing\u001b[0m\u001b[1;33m\u001b[0m\u001b[1;33m\u001b[0m\u001b[0m\n\u001b[0m\u001b[0;32m    111\u001b[0m \u001b[1;32mfrom\u001b[0m \u001b[0mpandas\u001b[0m\u001b[1;33m.\u001b[0m\u001b[0mcore\u001b[0m\u001b[1;33m.\u001b[0m\u001b[0mops\u001b[0m\u001b[1;33m.\u001b[0m\u001b[0mcommon\u001b[0m \u001b[1;32mimport\u001b[0m \u001b[0munpack_zerodim_and_defer\u001b[0m\u001b[1;33m\u001b[0m\u001b[1;33m\u001b[0m\u001b[0m\n\u001b[0;32m    112\u001b[0m \u001b[1;32mfrom\u001b[0m \u001b[0mpandas\u001b[0m\u001b[1;33m.\u001b[0m\u001b[0mcore\u001b[0m\u001b[1;33m.\u001b[0m\u001b[0msorting\u001b[0m \u001b[1;32mimport\u001b[0m \u001b[0mnargsort\u001b[0m\u001b[1;33m\u001b[0m\u001b[1;33m\u001b[0m\u001b[0m\n",
      "\u001b[1;31mImportError\u001b[0m: cannot import name 'deprecate_ndim_indexing' from 'pandas.core.indexers' (C:\\Users\\Admin\\anaconda3\\envs\\learn-env\\lib\\site-packages\\pandas\\core\\indexers\\__init__.py)"
     ]
    }
   ],
   "source": [
    "# Importing necessary Libraries\n",
    "import numpy as np\n",
    "import pandas as pd\n",
    "import seaborn as sns\n",
    "import matplotlib.pyplot as plt\n",
    "import matplotlib.dates as mdates\n",
    "# !pip install pystan\n",
    "# !pip install prophet --no-binary :all:\n",
    "from prophet import Prophet\n",
    "\n",
    "!pip install pmdarima\n",
    "from pmdarima import auto_arima\n",
    "from statsmodels.tsa.arima_model import ARIMA\n",
    "from statsmodels.tsa.stattools import adfuller\n",
    "from statsmodels.tsa.seasonal import seasonal_decompose\n",
    "\n",
    "from sklearn.model_selection import train_test_split\n",
    "from sklearn.metrics import mean_squared_error, mean_absolute_error\n",
    "\n",
    "%matplotlib inline\n",
    "import warnings\n",
    "warnings.filterwarnings('ignore')"
   ]
  },
  {
   "cell_type": "markdown",
   "metadata": {
    "id": "oeINz66V8QO3"
   },
   "source": [
    "### Dataset Overview\n",
    "Here, we will load the dataset and present its size, and an overview of its features."
   ]
  },
  {
   "cell_type": "code",
   "execution_count": null,
   "metadata": {
    "colab": {
     "base_uri": "https://localhost:8080/"
    },
    "id": "A0psFg838QO4",
    "outputId": "9c543177-3449-471e-909b-ce314424b135"
   },
   "outputs": [],
   "source": [
    "# Loading the dataset\n",
    "data = pd.read_csv('Data/wfp_food_prices_ken.csv')\n",
    "\n",
    "# Checking the size of the dataset\n",
    "print(f\"\\nThe dataset contains {data.shape[0]} rows and {data.shape[1]} columns.\\n\")"
   ]
  },
  {
   "cell_type": "code",
   "execution_count": null,
   "metadata": {
    "colab": {
     "base_uri": "https://localhost:8080/"
    },
    "id": "DMpTLdaQ8QO4",
    "outputId": "9614eaab-a035-4d1f-fbc8-80156f66a9d7",
    "scrolled": true
   },
   "outputs": [],
   "source": [
    "# Checking the columns in our dataframe\n",
    "data.columns"
   ]
  },
  {
   "cell_type": "markdown",
   "metadata": {
    "id": "vPT2daKh8QO4"
   },
   "source": [
    "#### **Column Descriptions**\n",
    "- <code><b>(date):</b></code>, Indicates the date of the price recording\n",
    "- <code><b>Administrative Levels (admin1, admin2):</b></code>, Geographical categorizations, Representing different regions and sub-regions in Kenya.\n",
    "- <code><b>(market):</b></code>,  The specific market where prices were recorded.\n",
    "- <code><b>(latitude, longitude): </b></code>,  The geographical location of each market.\n",
    "- <code><b> (category): </b></code>, The type of food commodity (e.g., cereals, pulses).\n",
    "- <code><b> (commodity): </b></code>, The specific food item (e.g., Maize, Beans).\n",
    "- <code><b> (unit): </b></code>,The unit of measurement for the price.\n",
    "- <code><b> (priceflag): </b></code>, Indicates the nature of the price data (e.g., actual, estimated).\n",
    "- <code><b> (pricetype): </b></code>, Whether the price is retail or wholesale.\n",
    "- <code><b> (currency):</b></code>, The currency in which the price is given.\n",
    "- <code><b> (price): </b></code>, The price of the commodity in Kenyan Shillings.\n",
    "- <code><b> (usdprice): </b></code>,  The price converted to US Dollars."
   ]
  },
  {
   "cell_type": "code",
   "execution_count": null,
   "metadata": {
    "id": "2IoHUVQM8QO5"
   },
   "outputs": [],
   "source": [
    "# Renaming the 'admin1' and 'admin2' columns to more understandable names\n",
    "data = data.rename(columns={'admin1': 'region', 'admin2': 'district'})"
   ]
  },
  {
   "cell_type": "code",
   "execution_count": null,
   "metadata": {
    "colab": {
     "base_uri": "https://localhost:8080/"
    },
    "id": "Y40pdY458QO5",
    "outputId": "4a8d9ac9-0c00-447b-800f-7704bddd8561"
   },
   "outputs": [],
   "source": [
    "# Displaying general information about the dataset\n",
    "# to confirm if the datatypes in the description match the expected entries in our dataset\n",
    "data.info()"
   ]
  },
  {
   "cell_type": "code",
   "execution_count": null,
   "metadata": {
    "colab": {
     "base_uri": "https://localhost:8080/",
     "height": 600
    },
    "id": "Wv7viYyr8QO5",
    "outputId": "ee4a37d6-77dd-41b8-dd83-6bb26e6ad654",
    "scrolled": true
   },
   "outputs": [],
   "source": [
    "# Displaying data entries to get a glimpse of our dataset.\n",
    "data"
   ]
  },
  {
   "cell_type": "markdown",
   "metadata": {
    "id": "ZyyW1gqL8QO5"
   },
   "source": [
    "### Initial cleaning of the dataset\n",
    "\n",
    "From these outputs, we can see that the first row seems to contain unnecessary headers. We can go ahead and drop that row.\n",
    "We will also go ahead to convert the **date, latitude, longitude, price,** and **usdprice** columns to their appropriate data types."
   ]
  },
  {
   "cell_type": "code",
   "execution_count": null,
   "metadata": {
    "colab": {
     "base_uri": "https://localhost:8080/"
    },
    "id": "nC485Spn8QO6",
    "outputId": "e5405c10-2f28-4af4-a848-086c31106069",
    "scrolled": true
   },
   "outputs": [],
   "source": [
    "# Removing the first row\n",
    "data = data.drop(index=0)\n",
    "print(f\"\\nThe dataset now contains {data.shape[0]} rows and {data.shape[1]} columns after dropping the first row.\\n\")\n",
    "\n",
    "# Converting appropriate columns to their correct data types\n",
    "data['date'] = pd.to_datetime(data['date'])\n",
    "data['price'] = pd.to_numeric(data['price'], errors='coerce')"
   ]
  },
  {
   "cell_type": "code",
   "execution_count": null,
   "metadata": {
    "colab": {
     "base_uri": "https://localhost:8080/"
    },
    "id": "aAa5TRT28QO6",
    "outputId": "6402ded0-b34e-4f31-8150-cb18d13355f5",
    "scrolled": true
   },
   "outputs": [],
   "source": [
    "#Confirming the change to the data types\n",
    "data.info()"
   ]
  },
  {
   "cell_type": "markdown",
   "metadata": {
    "id": "Yo0fnTff8QO6"
   },
   "source": [
    "Great. now we can see that the datatypes have been updated to the appropriate types and we can also see that we don't have any missing values, we can proceed to drop some columns **'region', 'category', 'priceflag', 'usdprice', 'longitude'** and **'latitude'** will not be necessary in our analysis."
   ]
  },
  {
   "cell_type": "code",
   "execution_count": null,
   "metadata": {
    "id": "T16qbkc_8QO6"
   },
   "outputs": [],
   "source": [
    "# Listing of columns to drop\n",
    "columns_to_drop = ['region', 'category', 'priceflag', 'usdprice', 'longitude', 'latitude']\n",
    "\n",
    "# Dropping the specified columns\n",
    "data = data.drop(columns=columns_to_drop, errors='ignore')"
   ]
  },
  {
   "cell_type": "markdown",
   "metadata": {
    "id": "EZr_wcdQ8QO6"
   },
   "source": [
    "###  Basic Statistics\n",
    "In this section, We'll get a brief statistical overview of the numerical features in the dataset."
   ]
  },
  {
   "cell_type": "code",
   "execution_count": null,
   "metadata": {
    "colab": {
     "base_uri": "https://localhost:8080/",
     "height": 581
    },
    "id": "IyTn7L6v8QO7",
    "outputId": "2db3bcea-4c27-418b-ef7c-ef366bb121de"
   },
   "outputs": [],
   "source": [
    "# Displaying basic statistics\n",
    "data.describe(include='all')"
   ]
  },
  {
   "cell_type": "markdown",
   "metadata": {
    "id": "Ad-K4CBZ8QO7"
   },
   "source": [
    "* The dataset covers a time span from **January 2006** to **August 2023**.\n",
    "* It includes 22 Districts in Kenya, with **62 different markets represented.**\n",
    "* There are **47 unique commodities**, with **'Maize (white)'** being the most frequent.\n",
    "* Prices vary significantly, with some commodities having prices as low as **5 KES** and as high as **19,800 KES**. The average price is around **2025 KES**.\n",
    "* The dataset includes both **wholesale and retail price** types."
   ]
  },
  {
   "cell_type": "markdown",
   "metadata": {
    "id": "_gjUyib28QO7"
   },
   "source": [
    "## Univariate Analysis\n",
    "In this section, wIn this stage, we'll analyze individual variables (features) to understand their characteristics. This includes distribution, central tendency, variability, and presence of outliers.e take a deeper aproach into our analysis to find more trends that may inform our next steps"
   ]
  },
  {
   "cell_type": "markdown",
   "metadata": {
    "id": "Y59MQcLC8QO7"
   },
   "source": [
    "### Price Distribution\n",
    "We'll start by examining the distribution of commodity prices (in Kenyan Shilling) to understand its range, central tendency, and any potential skewness or outliers."
   ]
  },
  {
   "cell_type": "code",
   "execution_count": null,
   "metadata": {
    "colab": {
     "base_uri": "https://localhost:8080/",
     "height": 203
    },
    "id": "JN5FZo8X8QO7",
    "outputId": "aa60fbb9-ad1d-4c80-a475-e62772354f97",
    "scrolled": true
   },
   "outputs": [],
   "source": [
    "# Plotting the distribution of prices\n",
    "plt.figure(figsize=(16, 4))\n",
    "sns.histplot(data['price'], kde=True, bins= 40)\n",
    "plt.title('Distribution of Commodity Prices')\n",
    "plt.xlabel('Price (KES)')\n",
    "plt.ylabel('Frequency')\n",
    "plt.grid()\n",
    "plt.show()"
   ]
  },
  {
   "cell_type": "markdown",
   "metadata": {
    "id": "ks5pJMUP8QO7"
   },
   "source": [
    "The histogram shows a highly right-skewed distribution. This suggests that most commodity prices are on the lower end, with a few commodities having significantly higher prices.\n",
    "\n",
    "The presence of a long tail indicates substantial variation in prices, with a small number of commodities being much more expensive than the majority."
   ]
  },
  {
   "cell_type": "code",
   "execution_count": null,
   "metadata": {
    "colab": {
     "base_uri": "https://localhost:8080/",
     "height": 212
    },
    "id": "kgOG0Duq8QO8",
    "outputId": "520f8055-f5fb-4907-b334-f088f573192a"
   },
   "outputs": [],
   "source": [
    "# Boxplot for commodity prices to identify outliers\n",
    "plt.figure(figsize = (16, 4))\n",
    "sns.boxplot(x = data['price'], palette = 'Set2')\n",
    "plt.title('Box Plot of Commodity Prices')\n",
    "plt.xlabel('Price (KES)')\n",
    "plt.grid()\n",
    "plt.show()"
   ]
  },
  {
   "cell_type": "markdown",
   "metadata": {
    "id": "IdQrxT898QO8"
   },
   "source": [
    "The box plot further illustrates the skewness in the data with many outliers on the higher end. These outliers represent commodities with exceptionally high prices.\n",
    "The median price (indicated by the line inside the box) is relatively low compared to the maximum price, reinforcing the notion of a skewed distribution."
   ]
  },
  {
   "cell_type": "markdown",
   "metadata": {
    "id": "Qu3YJDk98QO8"
   },
   "source": [
    "### Comodity Frequencies\n",
    "Let's create a bar plot to show the frequency of different commodities in the dataset. This will help us understand which commodities are most common and might be of greater interest for further analysis. ​"
   ]
  },
  {
   "cell_type": "code",
   "execution_count": null,
   "metadata": {
    "colab": {
     "base_uri": "https://localhost:8080/",
     "height": 247
    },
    "id": "42pLgTNW8QO9",
    "outputId": "64f3e7d4-f394-47bc-e564-ec6374aff0ad"
   },
   "outputs": [],
   "source": [
    "# Top 10 most frequent commodities in the dataset\n",
    "top_commodities = data['commodity'].value_counts().head(10)\n",
    "\n",
    "plt.figure(figsize=(16, 4))\n",
    "top_commodities.plot(kind='bar', color='blue')\n",
    "plt.title('Top 10 Most Frequent Commodities')\n",
    "plt.xlabel('Commodity')\n",
    "plt.ylabel('Frequency')\n",
    "plt.xticks(rotation=90)\n",
    "plt.grid()\n",
    "plt.show()"
   ]
  },
  {
   "cell_type": "markdown",
   "metadata": {
    "id": "O3y03Ub_8QO9"
   },
   "source": [
    "### District Distribution Analysis"
   ]
  },
  {
   "cell_type": "code",
   "execution_count": null,
   "metadata": {
    "colab": {
     "base_uri": "https://localhost:8080/",
     "height": 236
    },
    "id": "lvhuHlaq8QO9",
    "outputId": "5e75314e-5267-4a48-dca5-c359325abbb3"
   },
   "outputs": [],
   "source": [
    "# Re-running the code for Top 10 districts with the most records in the dataset\n",
    "top_markets = data['district'].value_counts().head(10)\n",
    "\n",
    "plt.figure(figsize=(16, 4))\n",
    "top_markets.plot(kind='bar', color='orange')\n",
    "plt.title('Top 10 Districts with Most Records')\n",
    "plt.xlabel('Market')\n",
    "plt.ylabel('Number of Records')\n",
    "plt.xticks(rotation=90)\n",
    "plt.grid()\n",
    "plt.show()\n"
   ]
  },
  {
   "cell_type": "markdown",
   "metadata": {
    "id": "GuOQxzFJ8QO9"
   },
   "source": [
    "From this analysis we can see the top 10 districts with the most records in the dataset.\n",
    "* Markets like **Nairobi**, **Turkana**, **Mombasa** and **Uasin Gishu** are among the most represented, indicating either their larger market size or more frequent data collection.\n",
    "\n",
    "* This distribution helps in understanding which markets are most prominent in the dataset, which is important for evaluating the representativeness of our analysis and identifying any potential gaps in market coverage."
   ]
  },
  {
   "cell_type": "markdown",
   "metadata": {
    "id": "kpz303Wh8QO9"
   },
   "source": [
    "## Bivariate Analysis\n",
    "In this section, we'll explore relationships between two variables at a time. This can provide insights into how different variables interact with each other, which is particularly useful for understanding the dynamics of commodity prices in relation to other factors."
   ]
  },
  {
   "cell_type": "markdown",
   "metadata": {
    "id": "Eui9pG8C8QO-"
   },
   "source": [
    "###  **Commodity vs. Price**\n",
    "We'll start by analyzing the commodity prices have changed per variation. Before we do,  We first check the number and type of commodities we have."
   ]
  },
  {
   "cell_type": "code",
   "execution_count": null,
   "metadata": {
    "colab": {
     "base_uri": "https://localhost:8080/"
    },
    "id": "az0yqcON8QO-",
    "outputId": "39b02ad7-695e-4911-f98d-3775be1bff30"
   },
   "outputs": [],
   "source": [
    "# Checking for the value counts of each commodity.\n",
    "data[\"commodity\"].value_counts().sort_index(ascending=True)"
   ]
  },
  {
   "cell_type": "code",
   "execution_count": null,
   "metadata": {
    "colab": {
     "base_uri": "https://localhost:8080/",
     "height": 805
    },
    "id": "PaKw_nX58QO-",
    "outputId": "5cfd28e4-8de1-474f-ed0c-6eaecd7f3fa6"
   },
   "outputs": [],
   "source": [
    "# List of commodity pairs/groups for comparison\n",
    "commodity_groups = {\n",
    "    'Beans': ['Beans', 'Beans (dry)', 'Beans (dolichos)','Beans (kidney)',\n",
    "              'Beans (mung)','Beans (rosecoco)','Beans (yellow)'],\n",
    "\n",
    "    'Maize': ['Maize', 'Maize (white)', 'Maize (white, dry)'],\n",
    "    'Potatoes (Irish)': ['Potatoes (Irish)', 'Potatoes (Irish, red)',\n",
    "                         'Potatoes (Irish, white)'],\n",
    "\n",
    "    'Milk (UHT)': ['Milk (cow, pasteurized)', 'Milk (UHT)',\n",
    "                   'Milk (cow, fresh)'],\n",
    "\n",
    "    'Rice': ['Rice', 'Rice (aromatic)', 'Rice (imported, Pakistan)'],\n",
    "    'Sorghum': ['Sorghum', 'Sorghum (red)', 'Sorghum (white)'],\n",
    "\n",
    "}\n",
    "\n",
    "# density plots for each commodity group\n",
    "plt.figure(figsize=(12, 15))\n",
    "for i, (group_name, commodities) in enumerate(commodity_groups.items(), 1):\n",
    "    plt.subplot(len(commodity_groups), 1, i)\n",
    "    for commodity in commodities:\n",
    "        subset = data[data['commodity'] == commodity]\n",
    "        sns.kdeplot(subset['price'], label=commodity, shade=True)\n",
    "    plt.title(f'Density Plot for {group_name}')\n",
    "    plt.xlabel('Price in KES')\n",
    "    plt.ylabel('Density')\n",
    "    plt.legend()\n",
    "\n",
    "plt.tight_layout()\n",
    "plt.show()"
   ]
  },
  {
   "cell_type": "markdown",
   "metadata": {
    "id": "XBogxy9L8QO-"
   },
   "source": [
    "We'll go on to merge the commodities in order to simply our analysis moving on for a general analysis, the goal is to simplify the dataset while still capturing the essence of market variations."
   ]
  },
  {
   "cell_type": "code",
   "execution_count": null,
   "metadata": {
    "colab": {
     "base_uri": "https://localhost:8080/",
     "height": 244
    },
    "id": "66R0gGHe8QO-",
    "outputId": "007ce2b1-4faf-4ce8-8661-72cacb2559eb",
    "scrolled": true
   },
   "outputs": [],
   "source": [
    "# Defining the mapping of variants to general categories\n",
    "commodity_replacement = {\n",
    "    'Beans (dry)': 'Beans',\n",
    "    'Beans (kidney)': 'Beans',\n",
    "    'Beans (rosecoco)': 'Beans',\n",
    "    'Beans (yellow)': 'Beans',\n",
    "    'Beans (dolichos)': 'Beans',\n",
    "    'Beans (mung)': 'Beans',\n",
    "    'Maize (white)': 'Maize',\n",
    "    'Maize (white, dry)': 'Maize',\n",
    "    'Potatoes (Irish)': 'Potatoes',\n",
    "    'Potatoes (Irish, red)': 'Potatoes',\n",
    "    'Potatoes (Irish, white)': 'Potatoes',\n",
    "    'Rice (imported, Pakistan)':'Rice',\n",
    "    'Rice (aromatic)' : 'Rice',\n",
    "    'Sorghum (white)' : 'Sorghum',\n",
    "    'Sorghum (red)' : 'Sorghum',\n",
    "    'Onions (red)' : 'Onions',\n",
    "    'Onions (dry)': 'Onions',\n",
    "    'Milk (cow, pasteurized)':'Milk',\n",
    "    'Milk (UHT)' : 'Milk',\n",
    "    'Milk (cow, fresh)' : 'Milk'\n",
    "}\n",
    "\n",
    "# Updating the 'commodity' column by replacing variant names with the general category name\n",
    "data['commodity'] = data['commodity'].replace(commodity_replacement)\n",
    "\n",
    "# Confirming the changes\n",
    "# Plotting the bar chart with value counts\n",
    "plt.figure(figsize=(16, 4.2))\n",
    "top_commodities = data['commodity'].value_counts().head(10)\n",
    "bars = plt.bar(top_commodities.index, top_commodities.values, color='green')\n",
    "\n",
    "# Adding the text with the value counts above each bar\n",
    "for bar in bars:\n",
    "    yval = bar.get_height()\n",
    "    plt.text(bar.get_x() + bar.get_width()/2, yval + 5, int(yval), ha='center', va='bottom')\n",
    "\n",
    "plt.title('Top 10 Most Frequent Commodities')\n",
    "plt.xlabel('Commodity')\n",
    "plt.ylabel('Frequency')\n",
    "plt.xticks(rotation=45)\n",
    "plt.grid()\n",
    "plt.show()"
   ]
  },
  {
   "cell_type": "code",
   "execution_count": null,
   "metadata": {
    "colab": {
     "base_uri": "https://localhost:8080/",
     "height": 1000
    },
    "id": "IMU4RwG78QO-",
    "outputId": "7378e020-66aa-4546-c27a-48328b62017d"
   },
   "outputs": [],
   "source": [
    "# Setting the date to index\n",
    "data.set_index('date', inplace=True)\n",
    "\n",
    "# Get the list of unique commodities\n",
    "commodities = data['commodity'].unique()\n",
    "\n",
    "# Calculating the number of rows for the subplots\n",
    "num_rows = len(commodities) // 2 + (len(commodities) % 2 > 0)\n",
    "\n",
    "# Setting up the matplotlib figure\n",
    "fig, axes = plt.subplots(nrows=num_rows, ncols=2, figsize=(14, 5 * num_rows), sharex=True)\n",
    "\n",
    "# Flattening the axes array for easy iteration\n",
    "axes = axes.flatten()\n",
    "\n",
    "# Plotting each commodity's price over time in a subplot\n",
    "for i, commodity in enumerate(commodities):\n",
    "    sns.lineplot(data=data[data['commodity'] == commodity]['price'], ax=axes[i])\n",
    "    axes[i].set_title(commodity)\n",
    "    axes[i].set_ylabel('Price in KES')\n",
    "\n",
    "# Remove any unused subplots if commodities are an odd number\n",
    "if len(commodities) % 2:\n",
    "    fig.delaxes(axes[-1])\n",
    "\n",
    "plt.tight_layout()\n",
    "plt.show();"
   ]
  },
  {
   "cell_type": "markdown",
   "metadata": {
    "id": "USj9rRdV8QPK"
   },
   "source": [
    "From this visualization, we can see that not all the commodity prices have been recorded since 2006.\n",
    "In order to reduce noise, We will go ahead and drop all the commodities that have not been recorded since 2006"
   ]
  },
  {
   "cell_type": "code",
   "execution_count": null,
   "metadata": {
    "colab": {
     "base_uri": "https://localhost:8080/"
    },
    "id": "MCAJKPFh8QPK",
    "outputId": "cf23eaa0-1909-4d1c-d4ef-a2691ace750c"
   },
   "outputs": [],
   "source": [
    "# Filtering data to include only commodities with records starting from 2006 or earlier\n",
    "commodities_since_2006 = data[data.index.year <= 2006]['commodity'].unique()\n",
    "\n",
    "# Now filtering main dataframe to include only these commodities\n",
    "filtered_data = data[data['commodity'].isin(commodities_since_2006)]\n",
    "\n",
    "# After filtering we check the unique commodities and their counts again\n",
    "filtered_commodity_counts = filtered_data['commodity'].value_counts()\n",
    "filtered_commodity_counts"
   ]
  },
  {
   "cell_type": "code",
   "execution_count": null,
   "metadata": {
    "colab": {
     "base_uri": "https://localhost:8080/",
     "height": 918
    },
    "id": "IdCW1lBB8QPL",
    "outputId": "267bb537-b004-41d1-f5ac-15a5638cf1b7",
    "scrolled": true
   },
   "outputs": [],
   "source": [
    "# Getting the list of unique commodities after filtering\n",
    "commodities = filtered_data['commodity'].unique()\n",
    "\n",
    "# Calculating the number of rows for the subplots\n",
    "num_rows = len(commodities) // 2 + (len(commodities) % 2)\n",
    "\n",
    "# Setying up the matplotlib figure\n",
    "fig, axes = plt.subplots(nrows=num_rows, ncols=2, figsize=(14, 5 * num_rows), sharex=True)\n",
    "\n",
    "# Flattening the axes array for easy iteration\n",
    "axes = axes.flatten()\n",
    "\n",
    "# Ploting each commodity's price over time in a subplot\n",
    "for i, commodity in enumerate(commodities):\n",
    "    sns.lineplot(data=filtered_data[filtered_data['commodity'] == commodity]['price'], ax=axes[i])\n",
    "    axes[i].set_title(commodity)\n",
    "    axes[i].set_ylabel('Price in KES')\n",
    "    axes[i].set_xlabel('Date')\n",
    "\n",
    "plt.tight_layout()\n",
    "plt.show();"
   ]
  },
  {
   "cell_type": "markdown",
   "metadata": {
    "id": "Km_WTYCg8QPL"
   },
   "source": [
    "Great. Now that we have commoditie with substatial data, we can proceed to the next level of our analysis."
   ]
  },
  {
   "cell_type": "markdown",
   "metadata": {
    "id": "9XSrZQHm8QPL"
   },
   "source": [
    "### **Price vs. District**\n",
    "Next, we'll examine the relationship between commodity prices and different districts. This can highlight regional price variations."
   ]
  },
  {
   "cell_type": "code",
   "execution_count": null,
   "metadata": {
    "colab": {
     "base_uri": "https://localhost:8080/",
     "height": 1000
    },
    "id": "B_iEUVyz8QPL",
    "outputId": "1a09f66d-6858-401d-d457-0b5743d37f45"
   },
   "outputs": [],
   "source": [
    "# Selecting the commodities for visualization\n",
    "key_commodities = ['Maize', 'Beans', 'Potatoes', 'Sorghum', 'Oil (vegetable)', 'Milk', 'Bread' ]\n",
    "\n",
    "# Seting up the matplotlib figure - adjust the size as needed\n",
    "num_rows = len(key_commodities)\n",
    "fig, axes = plt.subplots(nrows=num_rows, ncols=1, figsize=(16, 4*num_rows))\n",
    "\n",
    "# Flattening the axes array if it's multidimensional\n",
    "axes = axes.flatten() if num_rows > 1 else [axes]\n",
    "\n",
    "# box plots for each commodity's price across districts\n",
    "for i, commodity in enumerate(key_commodities):\n",
    "    sns.boxplot(data=filtered_data[filtered_data['commodity'] == commodity], x='district', y='price', ax=axes[i])\n",
    "    axes[i].set_title(f'Price Distribution of {commodity} Across Districts')\n",
    "    axes[i].set_xticklabels(axes[i].get_xticklabels(), rotation=45)\n",
    "    axes[i].set_ylabel('Price in KES')\n",
    "    axes[i].set_xlabel('District')\n",
    "\n",
    "plt.tight_layout()\n",
    "plt.show();"
   ]
  },
  {
   "cell_type": "markdown",
   "metadata": {
    "id": "fMRn0gpR8QPM"
   },
   "source": [
    "from this analysis, We cans see that\n",
    "* **Maize** prices vary widely across districts, with some having higher median prices and greater variability, suggesting regional factors influence prices.\n",
    "* **Beans** also exhibit significant variation, indicating occasional spikes possibly due to seasonal shortages.\n",
    "* **Potato** prices are relatively consistent across districts, with occasional outliers indicating price surges.\n",
    "* **Sorghum** prices vary notably, reflecting regional differences in its importance.\n",
    "* **Vegetable oil** prices are relatively uniform, but some districts show greater price ranges.\n",
    "* **Milk prices** show less variability, suggesting a more consistent supply chain, though occasional fluctuations occur.\n",
    "* **Limited data on bread** prices hinders comparative district analysis so we will go on and drop the commodity all together"
   ]
  },
  {
   "cell_type": "code",
   "execution_count": null,
   "metadata": {
    "colab": {
     "base_uri": "https://localhost:8080/"
    },
    "id": "Zw_lN4eb8QPM",
    "outputId": "96878f8f-1b49-4822-b6d5-2c49c2293ea8"
   },
   "outputs": [],
   "source": [
    "# Filtering and maintaining rows where the commodity is not \"Bread\"\n",
    "filtered_data = filtered_data[filtered_data['commodity'] != 'Bread']\n",
    "filtered_commodity_counts = filtered_data['commodity'].value_counts()\n",
    "filtered_commodity_counts"
   ]
  },
  {
   "cell_type": "markdown",
   "metadata": {
    "id": "yOj7Dhuo8QPM"
   },
   "source": [
    "### Unit vs Commodity\n",
    "Next we'll analyse our data to understand how many different units we have recorderd per each commodity."
   ]
  },
  {
   "cell_type": "code",
   "execution_count": null,
   "metadata": {
    "colab": {
     "base_uri": "https://localhost:8080/",
     "height": 426
    },
    "id": "xTln1vB_8QPM",
    "outputId": "25029902-3b97-4aaf-a6b6-36d8a76edc31"
   },
   "outputs": [],
   "source": [
    "# Grouping for analysis\n",
    "unit_analysis = filtered_data.groupby(['commodity', 'unit']).size().reset_index(name='count')\n",
    "\n",
    "# Sorting the results for better readability\n",
    "unit_analysis = unit_analysis.sort_values(by=['commodity', 'count'], ascending=[True, False])\n",
    "\n",
    "# Displaying the dataframe\n",
    "unit_analysis"
   ]
  },
  {
   "cell_type": "markdown",
   "metadata": {
    "id": "RKYLy92h8QPM"
   },
   "source": [
    "* **Beans:** The majority of bean prices are recorded in '90 KG' units, followed by 'KG'. This suggests that beans are commonly traded in bulk.\n",
    "\n",
    "* **Maize:** Maize prices are commonly reported in both 'KG' and '90 KG', with more records in 'KG'. This reflects the different market segments (retail vs. wholesale).\n",
    "\n",
    "* **Milk:** Milk is primarily measured in '500 ML' units, with very few records in 'L' and '200 ML'. The dominance of the '500 ML' unit indicates standard packaging size for milk.\n",
    "\n",
    "* **Oil (Vegetable):** All records for vegetable oil are in liters, which indicates consistency in the unit of measurement for vegetable oil.\n",
    "\n",
    "* **Potatoes:** Potatoes also have a significant number of records in '50 KG' suggesting bulk trade, but there are also a substantial number of records in 'KG' which might represent smaller purchases or retail sales.\n",
    "\n",
    "* **Sorghum:** The unit '90 KG' is used for most of the sorghum records, with fewer in 'KG'. This is indicative of bulk trade for sorghum."
   ]
  },
  {
   "cell_type": "markdown",
   "metadata": {
    "id": "kHKTtSZ-8QPN"
   },
   "source": [
    "To compare prices across all commodities we'll need to standardize the units of measure. For solid commodities like beans, maize, and sorghum, 'KG' could be the standard unit. For the liquids, 'L' (liter) could be the standard."
   ]
  },
  {
   "cell_type": "code",
   "execution_count": null,
   "metadata": {
    "colab": {
     "base_uri": "https://localhost:8080/",
     "height": 661
    },
    "id": "Bj1u7Ltq8QPN",
    "outputId": "2aa48ca8-e60c-4b00-9bc4-0cd2971fdca0"
   },
   "outputs": [],
   "source": [
    "# Defining the conversion factors\n",
    "conversion_factors = {\n",
    "    '90 KG': 1/90,   # Converting prices for 90 KG to price per KG\n",
    "    'KG': 1,         # No conversion needed\n",
    "    '500 ML': 2,     # Converting prices for 500 ML to price per L\n",
    "    'L': 1,          # No conversion needed\n",
    "    '50 KG': 1/50,   # Converting prices for 50 KG to price per KG\n",
    "    '200 ML': 5      # Converting prices for 200 ML to price per L\n",
    "}\n",
    "\n",
    "# Applying the conversion factors to create a new 'standardized_price' column\n",
    "filtered_data['standardized_price'] = filtered_data.apply(\n",
    "    lambda row: row['price'] * conversion_factors.get(row['unit'], 1), axis=1\n",
    ")\n",
    "\n",
    "\n",
    "filtered_data = filtered_data.reset_index()\n",
    "filtered_data = filtered_data.rename(columns={\"index\":'date'})\n",
    "\n",
    "# Saving the updated DataFrame to a new CSV file\n",
    "#filtered_data.to_csv('Data/filtered_data.csv', index=False)\n",
    "\n",
    "# Sampling the data to confirm the changes\n",
    "filtered_data.sample(10)"
   ]
  },
  {
   "cell_type": "code",
   "execution_count": null,
   "metadata": {
    "colab": {
     "base_uri": "https://localhost:8080/",
     "height": 240
    },
    "id": "Xk-fTN_u8QPN",
    "outputId": "f6932b61-6083-466f-a8f4-67dc6a34e4e6"
   },
   "outputs": [],
   "source": [
    "# Plotting the distribution of prices\n",
    "plt.figure(figsize=(16, 5))\n",
    "sns.histplot(filtered_data['standardized_price'], kde=True, bins= 40)\n",
    "plt.title('Distribution of standardized_prices')\n",
    "plt.xlabel('Price (KES)')\n",
    "plt.ylabel('Frequency')\n",
    "plt.grid()\n",
    "plt.show()"
   ]
  },
  {
   "cell_type": "markdown",
   "metadata": {
    "id": "t3uBc75V8QPN"
   },
   "source": [
    "###  Commodity vs  PriceType\n",
    "Next we'll analyse our data to understand the pricetype distribution per each commodity."
   ]
  },
  {
   "cell_type": "code",
   "execution_count": null,
   "metadata": {
    "colab": {
     "base_uri": "https://localhost:8080/",
     "height": 363
    },
    "id": "DNqqXCWd8QPN",
    "outputId": "72009976-091c-44b6-8b3a-a494c78ee8c7"
   },
   "outputs": [],
   "source": [
    "# Grouping the data by commodity and price type\n",
    "price_type_analysis = filtered_data.groupby(['commodity', 'pricetype']).size().reset_index(name='count')\n",
    "\n",
    "# Sorting the results for better readabilityc\n",
    "price_type_analysis = price_type_analysis.sort_values(by=['commodity', 'count'], ascending=[True, False])\n",
    "\n",
    "# Checking the results\n",
    "price_type_analysis"
   ]
  },
  {
   "cell_type": "markdown",
   "metadata": {
    "id": "98pd9C468QPO"
   },
   "source": [
    "**Beans:** The majority of price records for beans are for wholesale prices, which are more than three times the records for retail prices. This suggests that beans are commonly traded in bulk, and wholesale prices are more frequently reported.\n",
    "\n",
    "**Maize:** Wholesale prices for maize also have a higher count compared to retail, but the difference is not as pronounced as with beans. This indicates a significant presence of maize in both wholesale and retail markets.\n",
    "\n",
    "**Milk:** All price records for milk are retail, indicating that the dataset might be capturing consumer prices rather than bulk trading prices.\n",
    "\n",
    "**Oil (Vegetable):** Similar to milk, all records for vegetable oil are retail prices, suggesting the data reflects end-consumer pricing.\n",
    "\n",
    "**Potatoes:** The count of wholesale price records is significantly higher than retail for potatoes, indicating a focus on bulk trade within the dataset for this commodity.\n",
    "\n",
    "**Sorghum:** Wholesale price records outnumber retail ones."
   ]
  },
  {
   "cell_type": "markdown",
   "metadata": {
    "id": "JFpMh_t88QPO"
   },
   "source": [
    "### Temporal Analysis:\n",
    "Now we'll check how the standardized prices of commodities fluctuate over time due to various factors such as seasonality, demand, broader economic conditions and supply changes."
   ]
  },
  {
   "cell_type": "code",
   "execution_count": null,
   "metadata": {
    "colab": {
     "base_uri": "https://localhost:8080/",
     "height": 704
    },
    "id": "JStre7_s8QPO",
    "outputId": "6cd1b9c9-39f9-414e-94c2-81b7699a66ac"
   },
   "outputs": [],
   "source": [
    "# Grouping by 'commodity' and resample to get monthly means\n",
    "filtered_data.set_index('date', inplace=True)# Setting the date to index\n",
    "grouped = filtered_data.groupby('commodity').resample('M')['standardized_price'].mean()\n",
    "\n",
    "# Resetting the index\n",
    "grouped = grouped.reset_index()\n",
    "\n",
    "# Plotting each commodity\n",
    "commodities = grouped['commodity'].unique()\n",
    "for commodity in commodities:\n",
    "    plt.figure(figsize=(16, 2))\n",
    "    sns.lineplot(\n",
    "        data=grouped[grouped['commodity'] == commodity],\n",
    "        x='date',\n",
    "        y='standardized_price'\n",
    "    )\n",
    "    plt.title(f'Standardized Monthly Prices of {commodity} Over Time')\n",
    "    plt.xlabel('Date')\n",
    "    plt.ylabel('Standardized Price')\n",
    "    plt.grid()\n",
    "    plt.show()\n",
    "\n",
    "filtered_data = filtered_data.reset_index()\n",
    "filtered_data = filtered_data.rename(columns={\"index\":'date'})"
   ]
  },
  {
   "cell_type": "markdown",
   "metadata": {
    "id": "fnZJ0l0X8QPO"
   },
   "source": [
    "The visualizations indicate both **seasonal patterns and long-term trends** in the prices of commodities. These patterns are critical for any predictive modeling efforts.\n",
    "The fluctuations and trends can be influenced by a variety of factors including **market demand**, **supply chain issues**, **seasonal harvests**, and **broader economic conditions**.\n",
    "Our predictive model will need to account for these temporal dynamics."
   ]
  },
  {
   "cell_type": "markdown",
   "metadata": {
    "id": "EaSY89mT8QPO"
   },
   "source": [
    "### Outlier Detection:\n",
    "Next we analyse our data to Identify any outliers since they can distort predictive modeling and can be indicative of data entry errors, unusual market conditions, or true price spikes."
   ]
  },
  {
   "cell_type": "code",
   "execution_count": null,
   "metadata": {
    "colab": {
     "base_uri": "https://localhost:8080/"
    },
    "id": "7mm_xIy08QPO",
    "outputId": "0c53d3f9-0d67-4370-a2de-b839de089e77"
   },
   "outputs": [],
   "source": [
    "# Creating a function to calculate IQR and identify outliers\n",
    "def detect_outliers_iqr(data):\n",
    "    q1 = data.quantile(0.25)\n",
    "    q3 = data.quantile(0.75)\n",
    "    iqr = q3 - q1\n",
    "    lower_bound = q1 - (1.5 * iqr)\n",
    "    upper_bound = q3 + (1.5 * iqr)\n",
    "    outliers = data[(data < lower_bound) | (data > upper_bound)]\n",
    "    return outliers\n",
    "\n",
    "# We will now apply this function to each commodity group in our dataset\n",
    "outliers_by_commodity = {}\n",
    "\n",
    "for commodity in filtered_data['commodity'].unique():\n",
    "    commodity_data = filtered_data[filtered_data['commodity'] == commodity]['standardized_price']\n",
    "    outliers = detect_outliers_iqr(commodity_data)\n",
    "    outliers_by_commodity[commodity] = outliers\n",
    "\n",
    "# Displaying the outliers for each commodity\n",
    "for commodity, outliers in outliers_by_commodity.items():\n",
    "    print(f\"Outliers for {commodity}:\")\n",
    "    print(outliers)\n",
    "    print(\"\\n\")"
   ]
  },
  {
   "cell_type": "markdown",
   "metadata": {
    "id": "GcOD8oAW8QPP"
   },
   "source": [
    "* **Maize:** Numerous outliers observed between 2013 and 2023, with notable spikes in 2017 and 2023.\n",
    "Potential indicators of market stress, supply issues, or external factors impacting prices.\n",
    "* **Beans:** Outliers concentrated in 2021 and 2023, reaching up to 220 units.\n",
    "Suggestive of high demand or reduced supply, prompting further investigation into market conditions.\n",
    "* **Potatoes:** Outliers across multiple years, highest prices recorded in 2018 and 2023.\n",
    "Persistent outliers indicate recurring factors affecting the potato market, potentially linked to seasonal weather impacts.\n",
    "* **Sorghum:** Fewer outliers compared to other commodities, significant spikes in 2021 and 2023.\n",
    "* **Milk:** No outliers detected, indicating consistent milk prices without extreme spikes or dips.\n",
    "* **Oil (Vegetable):** Sporadic outliers across the dataset's timeline, significant spikes in 2018, 2022, and 2023.\n",
    "Possibly linked to global oil prices or shifts in trade policies, as vegetable oil prices are influenced by international markets."
   ]
  },
  {
   "cell_type": "markdown",
   "metadata": {
    "id": "VAEKQhQy8QPP"
   },
   "source": [
    "* **Limitations**: Price trends in the different Districts could be affected by multiple factore includung demand and supply and Transport and Production cost.   "
   ]
  },
  {
   "cell_type": "code",
   "execution_count": null,
   "metadata": {
    "colab": {
     "base_uri": "https://localhost:8080/"
    },
    "id": "zMRHfk8V8QPP",
    "outputId": "5047c40b-f972-49bd-e63b-cb3555f933fe"
   },
   "outputs": [],
   "source": [
    "nested_dict = {}\n",
    "\n",
    "for a in range(0, len(filtered_data['pricetype'].unique())):\n",
    "    pricetype_name = filtered_data['pricetype'].unique()[a]\n",
    "    nested_dict[pricetype_name] = {}\n",
    "    df_pricetype = filtered_data[filtered_data['pricetype']==pricetype_name]\n",
    "\n",
    "    for b in range(0, len(df_pricetype['district'].unique())):\n",
    "        region_name = df_pricetype['district'].unique()[b]\n",
    "        nested_dict[pricetype_name][region_name] = {}\n",
    "\n",
    "        df_region = df_pricetype[df_pricetype['district'] == region_name]\n",
    "\n",
    "\n",
    "        for d in range(0, len(df_region['commodity'].unique())):\n",
    "            item_name = df_region['commodity'].unique()[d]\n",
    "            nested_dict[pricetype_name][region_name][item_name] = df_region[df_region['commodity'] == item_name]\n",
    "\n",
    "# Access nested_dict as needed\n",
    "nested_dict.keys()"
   ]
  },
  {
   "cell_type": "code",
   "execution_count": null,
   "metadata": {
    "colab": {
     "base_uri": "https://localhost:8080/",
     "height": 1000
    },
    "id": "oDtskJQ28QPP",
    "outputId": "bfe79771-0ce3-4130-ee39-293dd980b794"
   },
   "outputs": [],
   "source": [
    "# Iterate through price types\n",
    "for pricetype_name, pricetype_data in nested_dict.items():\n",
    "\n",
    "    # Get a list of all unique commodities for the current price type\n",
    "    unique_commodities = set(commodity for region_data in pricetype_data.values() for commodity in region_data.keys())\n",
    "\n",
    "    # Iterate through unique commodities\n",
    "    for commodity_name in unique_commodities:\n",
    "\n",
    "        # Create an empty DataFrame to accumulate data for the current commodity\n",
    "        df_commodity = pd.DataFrame()\n",
    "\n",
    "        # Iterate through regions\n",
    "        for region_name, region_data in pricetype_data.items():\n",
    "\n",
    "            # Check if the commodity exists in the current region\n",
    "            if commodity_name in region_data:\n",
    "                # Append data for the current commodity in the current region to the DataFrame\n",
    "                df_commodity = pd.concat([df_commodity, region_data[commodity_name]], ignore_index=True)\n",
    "\n",
    "        # Check if the DataFrame is not empty and contains 'date' and 'price' columns\n",
    "        if not df_commodity.empty and 'date' in df_commodity.columns and 'price' in df_commodity.columns:\n",
    "            # Plotting\n",
    "            plt.figure(figsize=(16, 2))\n",
    "            sns.lineplot(\n",
    "                data=df_commodity,\n",
    "                x='date',\n",
    "                y='standardized_price',\n",
    "                label=pricetype_name\n",
    "            )\n",
    "            plt.title(f' {pricetype_name} price for {commodity_name}')\n",
    "            plt.xlabel('Date')\n",
    "            plt.ylabel('Price')\n",
    "            plt.legend()\n",
    "            plt.grid()\n",
    "            plt.show()\n",
    "        else:\n",
    "            print(f\"Skipping plot for {commodity_name} ({pricetype_name}): Empty or missing 'date'/'price' columns.\")"
   ]
  },
  {
   "cell_type": "code",
   "execution_count": null,
   "metadata": {
    "colab": {
     "base_uri": "https://localhost:8080/",
     "height": 366
    },
    "id": "ObycjP_b8QPQ",
    "outputId": "2c217155-e8e8-46f6-a7bb-a51258c2d687"
   },
   "outputs": [],
   "source": [
    "district_counts = filtered_data['district'].value_counts()\n",
    "\n",
    "plt.figure(figsize=(15, 7))\n",
    "sns.barplot(x=district_counts.index, y=district_counts.values)\n",
    "plt.title('Frequency of Each District')\n",
    "plt.xlabel('District')\n",
    "plt.ylabel('Frequency')\n",
    "plt.xticks(rotation=90)\n",
    "plt.show()"
   ]
  },
  {
   "cell_type": "code",
   "execution_count": null,
   "metadata": {
    "colab": {
     "base_uri": "https://localhost:8080/",
     "height": 332
    },
    "id": "SZbFQkST8QPQ",
    "outputId": "77027b03-a83c-4ae3-f36f-90fce50aec7e"
   },
   "outputs": [],
   "source": [
    "district_counts = filtered_data[filtered_data['district']=='Nairobi']['pricetype'].value_counts()\n",
    "\n",
    "plt.figure(figsize=(15, 7))\n",
    "sns.barplot(x=district_counts.index, y=district_counts.values)\n",
    "plt.title('Frequency of Each pricetype')\n",
    "plt.xlabel('Price Type')\n",
    "plt.ylabel('Frequency')\n",
    "plt.show()"
   ]
  },
  {
   "cell_type": "code",
   "execution_count": null,
   "metadata": {
    "colab": {
     "base_uri": "https://localhost:8080/",
     "height": 334
    },
    "id": "9zTGbtYV8QPQ",
    "outputId": "b0ffcc0f-9f97-4e33-8b1e-3e32dadac166"
   },
   "outputs": [],
   "source": [
    "district_counts = filtered_data[filtered_data['district']=='Nairobi']['commodity'].value_counts()\n",
    "\n",
    "plt.figure(figsize=(15, 7))\n",
    "sns.barplot(x=district_counts.index, y=district_counts.values)\n",
    "plt.title('Frequency of Each Commodity')\n",
    "plt.xlabel('Commodity')\n",
    "plt.ylabel('Frequency')\n",
    "plt.show()"
   ]
  },
  {
   "cell_type": "code",
   "execution_count": null,
   "metadata": {
    "id": "XhLvsdt-8QPR"
   },
   "outputs": [],
   "source": [
    "# Drop the specified columns\n",
    "columns_to_drop = ['market', 'unit', 'currency', 'price']\n",
    "filtered_data.drop(columns=columns_to_drop, inplace=True)"
   ]
  },
  {
   "cell_type": "code",
   "execution_count": null,
   "metadata": {
    "colab": {
     "base_uri": "https://localhost:8080/"
    },
    "id": "cHHvY5kz8QPR",
    "outputId": "708ad9ab-cf93-4f4e-c5ff-57e2bf27a6db"
   },
   "outputs": [],
   "source": [
    "df_nairobi = filtered_data[filtered_data['district'] == 'Nairobi']\n",
    "df_nairobi.shape"
   ]
  },
  {
   "cell_type": "code",
   "execution_count": null,
   "metadata": {
    "colab": {
     "base_uri": "https://localhost:8080/",
     "height": 206
    },
    "id": "K_r1uiA5XRcx",
    "outputId": "a5edb556-2eae-41a4-826b-04ea94777be4"
   },
   "outputs": [],
   "source": [
    "df_nairobi.head()"
   ]
  },
  {
   "cell_type": "code",
   "execution_count": null,
   "metadata": {
    "id": "scudcR9gYKK_"
   },
   "outputs": [],
   "source": [
    "X"
   ]
  },
  {
   "cell_type": "code",
   "execution_count": null,
   "metadata": {
    "id": "Y3gGatP9XkJP"
   },
   "outputs": [],
   "source": [
    "X_train,X_test,y_train,y_test= train_test_split()"
   ]
  },
  {
   "cell_type": "code",
   "execution_count": null,
   "metadata": {
    "colab": {
     "base_uri": "https://localhost:8080/"
    },
    "id": "J7XQHyzx8QPR",
    "outputId": "261e2e6a-66da-47e9-c186-c9102dbd89f9"
   },
   "outputs": [],
   "source": [
    "nairobi_dict = {}\n",
    "\n",
    "for a in range(0, len(df_nairobi['pricetype'].unique())):\n",
    "    pricetype_name = df_nairobi['pricetype'].unique()[a]\n",
    "    nairobi_dict[pricetype_name] = {}\n",
    "    df_pricetype = df_nairobi[df_nairobi['pricetype']==pricetype_name]\n",
    "\n",
    "    for b in range(0, len(df_pricetype['district'].unique())):\n",
    "        region_name = df_pricetype['district'].unique()[b]\n",
    "        nairobi_dict[pricetype_name][region_name] = {}\n",
    "\n",
    "        df_region = df_pricetype[df_pricetype['district'] == region_name]\n",
    "\n",
    "\n",
    "        for d in range(0, len(df_region['commodity'].unique())):\n",
    "            item_name = df_region['commodity'].unique()[d]\n",
    "            nairobi_dict[pricetype_name][region_name][item_name] = df_region[df_region['commodity'] == item_name]\n",
    "\n",
    "# Access nested_dict as needed\n",
    "nairobi_dict.keys()"
   ]
  },
  {
   "cell_type": "code",
   "execution_count": null,
   "metadata": {
    "colab": {
     "base_uri": "https://localhost:8080/",
     "height": 1000
    },
    "id": "Buhf0wvn8QPR",
    "outputId": "29f0e242-ddd3-4ef0-cec2-0af1dd40f2bb",
    "scrolled": true
   },
   "outputs": [],
   "source": [
    "df = pd.DataFrame({\n",
    "    'date': nairobi_dict['Wholesale']['Nairobi']['Maize']['date'],\n",
    "    'value': nairobi_dict['Wholesale']['Nairobi']['Maize']['standardized_price']\n",
    "})\n",
    "\n",
    "#auto_arima model\n",
    "model = auto_arima(df['value'], trace=True, suppress_warnings=True)\n",
    "b\n",
    "# model summary\n",
    "print(model.summary())\n",
    "\n",
    "# fitted model\n",
    "n_periods = 300\n",
    "forecast, conf_int = model.predict(n_periods=n_periods, return_conf_int=True)\n",
    "forecast_start_date = df['date'].iloc[-1] + pd.DateOffset(1)\n",
    "forecast_dates = pd.date_range(forecast_start_date, periods=n_periods, freq='D')\n",
    "\n",
    "#  DataFrame for the forecast\n",
    "forecast_df = pd.DataFrame({\n",
    "    'date': forecast_dates,\n",
    "    'forecast': forecast,\n",
    "    'lower_bound': conf_int[:, 0],\n",
    "    'upper_bound': conf_int[:, 1]\n",
    "})\n",
    "\n",
    "# Plotting the original series and forecasted values\n",
    "plt.figure(figsize=(10, 6))\n",
    "plt.plot(df['date'], df['value'], label='Original Series')\n",
    "forecast_start_date = df['date'].iloc[-1] + pd.DateOffset(1)\n",
    "forecast_dates = pd.date_range(forecast_start_date, periods=n_periods, freq='D')\n",
    "plt.plot(forecast_dates, forecast, label='Forecast', color='red')\n",
    "plt.fill_between(forecast_dates, conf_int[:, 0], conf_int[:, 1], color='red', alpha=0.3)\n",
    "plt.title('ARIMA Forecast using pmdarima')\n",
    "plt.xlabel('Date')\n",
    "plt.ylabel('Value')\n",
    "plt.legend()\n",
    "plt.show()\n",
    "\n",
    "print(forecast_df)"
   ]
  },
  {
   "cell_type": "code",
   "execution_count": null,
   "metadata": {
    "id": "T0OhCj34UDFV"
   },
   "outputs": [],
   "source": [
    "# import numpy as np\n",
    "# # Extract all commodity data from nested_dict\n",
    "# commodity_data = []\n",
    "# for item in nested_dict.values():\n",
    "#     for sub_item in item.values():\n",
    "#         for sub_sub_item in sub_item.values():\n",
    "#             commodity_data.append(sub_sub_item)\n",
    "\n",
    "# # Create a new DataFrame encompassing all commodities\n",
    "# df_all_commodities = pd.DataFrame({\n",
    "#     'date': [data['date'] for data in commodity_data],\n",
    "#     'value': [data['standardized_price'] for data in commodity_data]\n",
    "# })\n",
    "\n",
    "# # Run auto_arima model\n",
    "# model_all_commodities = auto_arima(df_all_commodities['value'], trace=True, suppress_warnings=True)\n",
    "\n",
    "# # Get forecast for all commodities\n",
    "# n_periods = 10\n",
    "# forecast_all, conf_int_all = model_all_commodities.predict(n_periods=n_periods, return_conf_int=True)\n",
    "# forecast_start_date = df_all_commodities['date'].iloc[-1] + pd.DateOffset(1)\n",
    "# forecast_dates = pd.date_range(forecast_start_date, periods=n_periods, freq='D')\n",
    "\n",
    "# # Create DataFrame for the forecast for all commodities\n",
    "# forecast_df_all = pd.DataFrame({\n",
    "#     'date': forecast_dates,\n",
    "#     'forecast': forecast_all,\n",
    "#     'lower_bound': conf_int_all[:, 0],\n",
    "#     'upper_bound': conf_int_all[:, 1]\n",
    "# })\n",
    "\n",
    "# # Plotting the original series and forecasted values for all commodities\n",
    "# plt.figure(figsize=(10, 6))\n",
    "# plt.plot(df_all_commodities['date'], df_all_commodities['value'], label='Original Series')\n",
    "# plt.plot(forecast_dates, forecast_all, label='Forecast', color='red')\n",
    "# plt.fill_between(forecast_dates, conf_int_all[:, 0], conf_int_all[:, 1], color='red', alpha=0.3)\n",
    "# plt.title('ARIMA Forecast for All Commodities in Nairobi')\n",
    "# plt.xlabel('Date')\n",
    "# plt.ylabel('Value')\n",
    "# plt.legend()\n",
    "# plt.show()\n",
    "\n",
    "# # Print the forecast DataFrame for all commodities\n",
    "# print(forecast_df_all)"
   ]
  },
  {
   "cell_type": "code",
   "execution_count": null,
   "metadata": {
    "id": "IhaLaVen8QPS"
   },
   "outputs": [],
   "source": [
    "import pickle"
   ]
  },
  {
   "cell_type": "code",
   "execution_count": null,
   "metadata": {
    "colab": {
     "base_uri": "https://localhost:8080/",
     "height": 636
    },
    "id": "zMXvU0wb8QPS",
    "outputId": "b8e6d304-6dd5-4206-d77c-4bfccb8cb10f"
   },
   "outputs": [],
   "source": [
    "df_prophet = pd.DataFrame({\n",
    "    'ds': df['date'],\n",
    "    'y': df['value']\n",
    "})\n",
    "\n",
    "# Creating a Prophet model and fitting it to the data\n",
    "model_prophet = Prophet()\n",
    "model_prophet.fit(df_prophet)\n",
    "\n",
    "# Creating a future dataframe for making predictions\n",
    "future = model_prophet.make_future_dataframe(periods=n_periods)\n",
    "\n",
    "# Making predictions using the Prophet model\n",
    "forecast_prophet = model_prophet.predict(future)\n",
    "\n",
    "# Extracting the required columns from the forecast dataframe\n",
    "forecast_dates = forecast_prophet['ds'].tail(n_periods)\n",
    "forecast_values = forecast_prophet['yhat'].tail(n_periods)\n",
    "lower_bound = forecast_prophet['yhat_lower'].tail(n_periods)\n",
    "upper_bound = forecast_prophet['yhat_upper'].tail(n_periods)\n",
    "\n",
    "\n",
    "# Creating a new DataFrame for the Prophet forecast\n",
    "forecast_df_prophet = pd.DataFrame({\n",
    "    'date': forecast_dates,\n",
    "    'forecast': forecast_values,\n",
    "    'lower_bound': lower_bound,\n",
    "    'upper_bound': upper_bound\n",
    "})\n",
    "\n",
    "# Plotting the original series and forecasted values using Prophet\n",
    "plt.figure(figsize=(10, 6))\n",
    "plt.plot(df_prophet['ds'], df_prophet['y'], label='Original Series')\n",
    "plt.plot(forecast_dates, forecast_values, label='Forecast', color='red')\n",
    "plt.fill_between(forecast_dates, lower_bound, upper_bound, color='red', alpha=0.3)\n",
    "plt.title('Prophet Forecast')\n",
    "plt.xlabel('Date')\n",
    "plt.ylabel('Value')\n",
    "plt.legend()\n",
    "plt.show()\n",
    "\n",
    "# Printing the Prophet forecast DataFrame\n",
    "#print(forecast_df_prophet)\n",
    "# print(model_prophet.stan_backend.stan_fit)\n",
    "#fig1 = model_prophet.plot(forecast_prophet)\n",
    "\n",
    "# Plot the components\n",
    "#fig2 = model_prophet.plot_components(forecast_prophet)"
   ]
  },
  {
   "cell_type": "code",
   "execution_count": null,
   "metadata": {
    "colab": {
     "base_uri": "https://localhost:8080/",
     "height": 1000,
     "referenced_widgets": [
      "1faebd3bf18b4014a8166edfffc1d0e9",
      "41e4168fe0234f86b895f42978438182",
      "321db87f67454b36813cd1673e7f3c88",
      "44b71b4fa5564e249b64dc4008f6d7cc",
      "8af2a721b6d04b4099538474281cd21c",
      "2c5d71b2655840c89e1451b87f52a619",
      "13620ed8fd9641be94ebb9e0c3cf3bfd",
      "9444460e85a14bd78ee8b2f24838a7bc",
      "a9d095b401614a7aa6489cb29bd88cb5",
      "e4ee999418284648aae8dba3ff7af979",
      "f9dd39b95b0641f4b99f054cd6581b63"
     ]
    },
    "id": "SZO2TgMECxd1",
    "outputId": "44730677-71ca-407b-8095-141e9b72ee6b"
   },
   "outputs": [],
   "source": [
    "from prophet.diagnostics import cross_validation, performance_metrics\n",
    "from prophet.plot import plot_cross_validation_metric\n",
    "import matplotlib.pyplot as plt\n",
    "\n",
    "# Assume m is your fitted Prophet model\n",
    "df_cv = cross_validation(model_prophet, initial='730 days', period='180 days', horizon='365 days')\n",
    "df_p = performance_metrics(df_cv)\n",
    "\n",
    "print(df_p.head())\n",
    "\n",
    "# Plotting cross validation metric\n",
    "# fig = plot_cross_validation_metric(df_cv, metric='mape')\n",
    "# plt.show()"
   ]
  },
  {
   "cell_type": "code",
   "execution_count": null,
   "metadata": {
    "colab": {
     "base_uri": "https://localhost:8080/"
    },
    "id": "sOA9ZovBEDqw",
    "outputId": "4e33551d-d480-46df-b062-e54b7ecbff0e"
   },
   "outputs": [],
   "source": [
    "print(df_p.head())"
   ]
  },
  {
   "cell_type": "code",
   "execution_count": null,
   "metadata": {
    "id": "5Ezu_zgQLDfP"
   },
   "outputs": [],
   "source": [
    "def comod(df,nested_dict):\n",
    "    item = []\n",
    "    print(df['pricetype'].unique())\n",
    "    item1 = input(\"Enter the price type from the list: \")\n",
    "    if item1 not in df['pricetype'].unique():\n",
    "        print('Kindly enter a valid option: ')\n",
    "        print(df['pricetype'].unique())\n",
    "        item1 = input(\"Enter the price type from the list: \")\n",
    "    item.append(item1)\n",
    "    print(df[df['pricetype'] == item1]['district'].unique())\n",
    "    item2 = input(\"Enter the market you are looking for from the list: \")\n",
    "    if item2 not in df[df['pricetype'] == item1]['district'].unique():\n",
    "        print('Kindly enter a valid option: ')\n",
    "        print(df[df['pricetype'] == item1]['district'].unique())\n",
    "        item2 = input(\"Enter the market you are looking for from the list: \")\n",
    "    item.append(item2)\n",
    "    print(df[(df['pricetype'] == item1) & (df['district'] == item2)]['commodity'].unique())\n",
    "    item3 = input(\"Enter the commodity you wish from the existing list: \")\n",
    "    if item3 not in df[(df['pricetype'] == item1) & (df['district'] == item2)]['commodity'].unique():\n",
    "        print('Kindly enter a valid option: ')\n",
    "        print(df[(df['pricetype'] == item1) & (df['district'] == item2)]['commodity'].unique())\n",
    "        item3 = input(\"Enter the commodity you wish from the existing list: \")\n",
    "    item.append(item3)\n",
    "\n",
    "    ref = nested_dict\n",
    "    for i in item:\n",
    "        ref = ref[i]\n",
    "    return ref\n",
    "\n",
    "\n",
    "def Arima_model(ref):\n",
    "    print(\"\\n\")\n",
    "    print('Model in Progress: ')\n",
    "    print(\"\\n\")\n",
    "    import pandas as pd\n",
    "    import matplotlib.pyplot as plt\n",
    "    from pmdarima import auto_arima\n",
    "    import numpy as np\n",
    "\n",
    "    df = pd.DataFrame({\n",
    "        'date': ref['date'],\n",
    "        'value': ref['standardized_price']\n",
    "    })\n",
    "\n",
    "    # auto_arima model\n",
    "    model = auto_arima(df['value'], trace=True, suppress_warnings=True)\n",
    "\n",
    "    # model summary\n",
    "    print(model.summary())\n",
    "\n",
    "    # fitted model\n",
    "    n_periods = 10\n",
    "    forecast, conf_int = model.predict(n_periods=n_periods, return_conf_int=True)\n",
    "    forecast_start_date = df['date'].iloc[-1] + pd.DateOffset(1)\n",
    "    forecast_dates = pd.date_range(forecast_start_date, periods=n_periods, freq='D')\n",
    "\n",
    "    # DataFrame for the forecast\n",
    "    forecast_df = pd.DataFrame({\n",
    "        'date': forecast_dates,\n",
    "        'forecast': forecast,\n",
    "        'lower_bound': conf_int[:, 0],\n",
    "        'upper_bound': conf_int[:, 1]\n",
    "    })\n",
    "\n",
    "    # Plotting the original series and forecasted values\n",
    "    plt.figure(figsize=(10, 6))\n",
    "    plt.plot(df['date'], df['value'], label='Original Series')\n",
    "    forecast_start_date = df['date'].iloc[-1] + pd.DateOffset(1)\n",
    "    forecast_dates = pd.date_range(forecast_start_date, periods=n_periods, freq='D')\n",
    "    plt.plot(forecast_dates, forecast, label='Forecast', color='red')\n",
    "    plt.fill_between(forecast_dates, conf_int[:, 0], conf_int[:, 1], color='red', alpha=0.3)\n",
    "    plt.title(f'ARIMA price Forecast for {ref[\"commodity\"].unique()[0]} ')\n",
    "    plt.xlabel('Date')\n",
    "    plt.ylabel('Value')\n",
    "    plt.legend()\n",
    "    plt.show()\n",
    "\n",
    "    print(forecast_df)\n",
    "\n"
   ]
  },
  {
   "cell_type": "code",
   "execution_count": null,
   "metadata": {
    "id": "OYIXeD2XXAD8"
   },
   "outputs": [],
   "source": []
  },
  {
   "cell_type": "code",
   "execution_count": null,
   "metadata": {
    "id": "883gTPUB8QPS"
   },
   "outputs": [],
   "source": [
    "# ref=nairobi_dict\n",
    "# for i in item:\n",
    "#     ref= ref[i]\n",
    "\n",
    "# print(ref.sample(5))"
   ]
  },
  {
   "cell_type": "code",
   "execution_count": null,
   "metadata": {
    "id": "wiiswmPEFbU_"
   },
   "outputs": [],
   "source": []
  }
 ],
 "metadata": {
  "colab": {
   "provenance": []
  },
  "kernelspec": {
   "display_name": "learn-env",
   "language": "python",
   "name": "learn-env"
  },
  "language_info": {
   "codemirror_mode": {
    "name": "ipython",
    "version": 3
   },
   "file_extension": ".py",
   "mimetype": "text/x-python",
   "name": "python",
   "nbconvert_exporter": "python",
   "pygments_lexer": "ipython3",
   "version": "3.8.5"
  },
  "widgets": {
   "application/vnd.jupyter.widget-state+json": {
    "13620ed8fd9641be94ebb9e0c3cf3bfd": {
     "model_module": "@jupyter-widgets/controls",
     "model_module_version": "1.5.0",
     "model_name": "DescriptionStyleModel",
     "state": {
      "_model_module": "@jupyter-widgets/controls",
      "_model_module_version": "1.5.0",
      "_model_name": "DescriptionStyleModel",
      "_view_count": null,
      "_view_module": "@jupyter-widgets/base",
      "_view_module_version": "1.2.0",
      "_view_name": "StyleView",
      "description_width": ""
     }
    },
    "1faebd3bf18b4014a8166edfffc1d0e9": {
     "model_module": "@jupyter-widgets/controls",
     "model_module_version": "1.5.0",
     "model_name": "HBoxModel",
     "state": {
      "_dom_classes": [],
      "_model_module": "@jupyter-widgets/controls",
      "_model_module_version": "1.5.0",
      "_model_name": "HBoxModel",
      "_view_count": null,
      "_view_module": "@jupyter-widgets/controls",
      "_view_module_version": "1.5.0",
      "_view_name": "HBoxView",
      "box_style": "",
      "children": [
       "IPY_MODEL_41e4168fe0234f86b895f42978438182",
       "IPY_MODEL_321db87f67454b36813cd1673e7f3c88",
       "IPY_MODEL_44b71b4fa5564e249b64dc4008f6d7cc"
      ],
      "layout": "IPY_MODEL_8af2a721b6d04b4099538474281cd21c"
     }
    },
    "2c5d71b2655840c89e1451b87f52a619": {
     "model_module": "@jupyter-widgets/base",
     "model_module_version": "1.2.0",
     "model_name": "LayoutModel",
     "state": {
      "_model_module": "@jupyter-widgets/base",
      "_model_module_version": "1.2.0",
      "_model_name": "LayoutModel",
      "_view_count": null,
      "_view_module": "@jupyter-widgets/base",
      "_view_module_version": "1.2.0",
      "_view_name": "LayoutView",
      "align_content": null,
      "align_items": null,
      "align_self": null,
      "border": null,
      "bottom": null,
      "display": null,
      "flex": null,
      "flex_flow": null,
      "grid_area": null,
      "grid_auto_columns": null,
      "grid_auto_flow": null,
      "grid_auto_rows": null,
      "grid_column": null,
      "grid_gap": null,
      "grid_row": null,
      "grid_template_areas": null,
      "grid_template_columns": null,
      "grid_template_rows": null,
      "height": null,
      "justify_content": null,
      "justify_items": null,
      "left": null,
      "margin": null,
      "max_height": null,
      "max_width": null,
      "min_height": null,
      "min_width": null,
      "object_fit": null,
      "object_position": null,
      "order": null,
      "overflow": null,
      "overflow_x": null,
      "overflow_y": null,
      "padding": null,
      "right": null,
      "top": null,
      "visibility": null,
      "width": null
     }
    },
    "321db87f67454b36813cd1673e7f3c88": {
     "model_module": "@jupyter-widgets/controls",
     "model_module_version": "1.5.0",
     "model_name": "FloatProgressModel",
     "state": {
      "_dom_classes": [],
      "_model_module": "@jupyter-widgets/controls",
      "_model_module_version": "1.5.0",
      "_model_name": "FloatProgressModel",
      "_view_count": null,
      "_view_module": "@jupyter-widgets/controls",
      "_view_module_version": "1.5.0",
      "_view_name": "ProgressView",
      "bar_style": "success",
      "description": "",
      "description_tooltip": null,
      "layout": "IPY_MODEL_9444460e85a14bd78ee8b2f24838a7bc",
      "max": 30,
      "min": 0,
      "orientation": "horizontal",
      "style": "IPY_MODEL_a9d095b401614a7aa6489cb29bd88cb5",
      "value": 30
     }
    },
    "41e4168fe0234f86b895f42978438182": {
     "model_module": "@jupyter-widgets/controls",
     "model_module_version": "1.5.0",
     "model_name": "HTMLModel",
     "state": {
      "_dom_classes": [],
      "_model_module": "@jupyter-widgets/controls",
      "_model_module_version": "1.5.0",
      "_model_name": "HTMLModel",
      "_view_count": null,
      "_view_module": "@jupyter-widgets/controls",
      "_view_module_version": "1.5.0",
      "_view_name": "HTMLView",
      "description": "",
      "description_tooltip": null,
      "layout": "IPY_MODEL_2c5d71b2655840c89e1451b87f52a619",
      "placeholder": "​",
      "style": "IPY_MODEL_13620ed8fd9641be94ebb9e0c3cf3bfd",
      "value": "100%"
     }
    },
    "44b71b4fa5564e249b64dc4008f6d7cc": {
     "model_module": "@jupyter-widgets/controls",
     "model_module_version": "1.5.0",
     "model_name": "HTMLModel",
     "state": {
      "_dom_classes": [],
      "_model_module": "@jupyter-widgets/controls",
      "_model_module_version": "1.5.0",
      "_model_name": "HTMLModel",
      "_view_count": null,
      "_view_module": "@jupyter-widgets/controls",
      "_view_module_version": "1.5.0",
      "_view_name": "HTMLView",
      "description": "",
      "description_tooltip": null,
      "layout": "IPY_MODEL_e4ee999418284648aae8dba3ff7af979",
      "placeholder": "​",
      "style": "IPY_MODEL_f9dd39b95b0641f4b99f054cd6581b63",
      "value": " 30/30 [00:09&lt;00:00,  5.50it/s]"
     }
    },
    "8af2a721b6d04b4099538474281cd21c": {
     "model_module": "@jupyter-widgets/base",
     "model_module_version": "1.2.0",
     "model_name": "LayoutModel",
     "state": {
      "_model_module": "@jupyter-widgets/base",
      "_model_module_version": "1.2.0",
      "_model_name": "LayoutModel",
      "_view_count": null,
      "_view_module": "@jupyter-widgets/base",
      "_view_module_version": "1.2.0",
      "_view_name": "LayoutView",
      "align_content": null,
      "align_items": null,
      "align_self": null,
      "border": null,
      "bottom": null,
      "display": null,
      "flex": null,
      "flex_flow": null,
      "grid_area": null,
      "grid_auto_columns": null,
      "grid_auto_flow": null,
      "grid_auto_rows": null,
      "grid_column": null,
      "grid_gap": null,
      "grid_row": null,
      "grid_template_areas": null,
      "grid_template_columns": null,
      "grid_template_rows": null,
      "height": null,
      "justify_content": null,
      "justify_items": null,
      "left": null,
      "margin": null,
      "max_height": null,
      "max_width": null,
      "min_height": null,
      "min_width": null,
      "object_fit": null,
      "object_position": null,
      "order": null,
      "overflow": null,
      "overflow_x": null,
      "overflow_y": null,
      "padding": null,
      "right": null,
      "top": null,
      "visibility": null,
      "width": null
     }
    },
    "9444460e85a14bd78ee8b2f24838a7bc": {
     "model_module": "@jupyter-widgets/base",
     "model_module_version": "1.2.0",
     "model_name": "LayoutModel",
     "state": {
      "_model_module": "@jupyter-widgets/base",
      "_model_module_version": "1.2.0",
      "_model_name": "LayoutModel",
      "_view_count": null,
      "_view_module": "@jupyter-widgets/base",
      "_view_module_version": "1.2.0",
      "_view_name": "LayoutView",
      "align_content": null,
      "align_items": null,
      "align_self": null,
      "border": null,
      "bottom": null,
      "display": null,
      "flex": null,
      "flex_flow": null,
      "grid_area": null,
      "grid_auto_columns": null,
      "grid_auto_flow": null,
      "grid_auto_rows": null,
      "grid_column": null,
      "grid_gap": null,
      "grid_row": null,
      "grid_template_areas": null,
      "grid_template_columns": null,
      "grid_template_rows": null,
      "height": null,
      "justify_content": null,
      "justify_items": null,
      "left": null,
      "margin": null,
      "max_height": null,
      "max_width": null,
      "min_height": null,
      "min_width": null,
      "object_fit": null,
      "object_position": null,
      "order": null,
      "overflow": null,
      "overflow_x": null,
      "overflow_y": null,
      "padding": null,
      "right": null,
      "top": null,
      "visibility": null,
      "width": null
     }
    },
    "a9d095b401614a7aa6489cb29bd88cb5": {
     "model_module": "@jupyter-widgets/controls",
     "model_module_version": "1.5.0",
     "model_name": "ProgressStyleModel",
     "state": {
      "_model_module": "@jupyter-widgets/controls",
      "_model_module_version": "1.5.0",
      "_model_name": "ProgressStyleModel",
      "_view_count": null,
      "_view_module": "@jupyter-widgets/base",
      "_view_module_version": "1.2.0",
      "_view_name": "StyleView",
      "bar_color": null,
      "description_width": ""
     }
    },
    "e4ee999418284648aae8dba3ff7af979": {
     "model_module": "@jupyter-widgets/base",
     "model_module_version": "1.2.0",
     "model_name": "LayoutModel",
     "state": {
      "_model_module": "@jupyter-widgets/base",
      "_model_module_version": "1.2.0",
      "_model_name": "LayoutModel",
      "_view_count": null,
      "_view_module": "@jupyter-widgets/base",
      "_view_module_version": "1.2.0",
      "_view_name": "LayoutView",
      "align_content": null,
      "align_items": null,
      "align_self": null,
      "border": null,
      "bottom": null,
      "display": null,
      "flex": null,
      "flex_flow": null,
      "grid_area": null,
      "grid_auto_columns": null,
      "grid_auto_flow": null,
      "grid_auto_rows": null,
      "grid_column": null,
      "grid_gap": null,
      "grid_row": null,
      "grid_template_areas": null,
      "grid_template_columns": null,
      "grid_template_rows": null,
      "height": null,
      "justify_content": null,
      "justify_items": null,
      "left": null,
      "margin": null,
      "max_height": null,
      "max_width": null,
      "min_height": null,
      "min_width": null,
      "object_fit": null,
      "object_position": null,
      "order": null,
      "overflow": null,
      "overflow_x": null,
      "overflow_y": null,
      "padding": null,
      "right": null,
      "top": null,
      "visibility": null,
      "width": null
     }
    },
    "f9dd39b95b0641f4b99f054cd6581b63": {
     "model_module": "@jupyter-widgets/controls",
     "model_module_version": "1.5.0",
     "model_name": "DescriptionStyleModel",
     "state": {
      "_model_module": "@jupyter-widgets/controls",
      "_model_module_version": "1.5.0",
      "_model_name": "DescriptionStyleModel",
      "_view_count": null,
      "_view_module": "@jupyter-widgets/base",
      "_view_module_version": "1.2.0",
      "_view_name": "StyleView",
      "description_width": ""
     }
    }
   }
  }
 },
 "nbformat": 4,
 "nbformat_minor": 4
}
