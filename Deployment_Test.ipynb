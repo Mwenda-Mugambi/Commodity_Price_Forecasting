{
 "cells": [
  {
   "cell_type": "code",
   "execution_count": 7,
   "metadata": {},
   "outputs": [
    {
     "ename": "NameError",
     "evalue": "name 'app' is not defined",
     "output_type": "error",
     "traceback": [
      "\u001b[1;31m---------------------------------------------------------------------------\u001b[0m",
      "\u001b[1;31mNameError\u001b[0m                                 Traceback (most recent call last)",
      "\u001b[1;32m<ipython-input-7-617a133b2da6>\u001b[0m in \u001b[0;36m<module>\u001b[1;34m\u001b[0m\n\u001b[0;32m     29\u001b[0m \u001b[1;33m\u001b[0m\u001b[0m\n\u001b[0;32m     30\u001b[0m \u001b[1;31m# Run this with `streamlit run app.py` in your terminal\u001b[0m\u001b[1;33m\u001b[0m\u001b[1;33m\u001b[0m\u001b[1;33m\u001b[0m\u001b[0m\n\u001b[1;32m---> 31\u001b[1;33m \u001b[0mapp\u001b[0m\u001b[1;33m.\u001b[0m\u001b[0mpy\u001b[0m\u001b[1;33m\u001b[0m\u001b[1;33m\u001b[0m\u001b[0m\n\u001b[0m",
      "\u001b[1;31mNameError\u001b[0m: name 'app' is not defined"
     ]
    }
   ],
   "source": [
    "import streamlit as st\n",
    "import pandas as pd\n",
    "import numpy as np\n",
    "import joblib\n",
    "\n",
    "# # Load your trained model\n",
    "# model = joblib.load('path_to_trained_model.joblib')\n",
    "\n",
    "# # The districts list should be updated with your actual districts\n",
    "districts_list = ['Nairobi', 'Mombasa', 'Kitui'] # Replace with actual districts\n",
    "\n",
    "# Streamlit user interface\n",
    "st.title('Commodity Price Prediction')\n",
    "\n",
    "# User inputs\n",
    "price_type = st.selectbox('Select Price Type', ['Wholesale', 'Retail'])\n",
    "commodity = st.text_input('Enter Commodity Name')\n",
    "district = st.selectbox('Select District', districts_list)\n",
    "\n",
    "# Predict button\n",
    "if st.button('Predict Price'):\n",
    "    # Preprocess inputs and make prediction\n",
    "    # This will need to be updated with the actual preprocessing steps and model inputs\n",
    "    # Here is a placeholder for the prediction code\n",
    "    prediction = model.predict(np.array([[price_type, commodity, district]]))\n",
    "    \n",
    "    # Display the prediction\n",
    "    st.write(f'The predicted price for {commodity} in {district} is: {prediction[0]}')\n",
    "\n",
    "# Run this with `streamlit run app.py` in your terminal\n"
   ]
  },
  {
   "cell_type": "code",
   "execution_count": null,
   "metadata": {},
   "outputs": [],
   "source": []
  }
 ],
 "metadata": {
  "kernelspec": {
   "display_name": "learn-env",
   "language": "python",
   "name": "python3"
  },
  "language_info": {
   "codemirror_mode": {
    "name": "ipython",
    "version": 3
   },
   "file_extension": ".py",
   "mimetype": "text/x-python",
   "name": "python",
   "nbconvert_exporter": "python",
   "pygments_lexer": "ipython3",
   "version": "3.8.5"
  }
 },
 "nbformat": 4,
 "nbformat_minor": 4
}
