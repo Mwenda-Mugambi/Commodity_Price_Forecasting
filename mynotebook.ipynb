{
 "cells": [
  {
   "cell_type": "markdown",
   "metadata": {},
   "source": [
    "# PROJECT OVERVIEW\n",
    "The proposed project aims to conduct a time series analysis and prediction of the prices of basic food commodities in Kenya. By leveraging historical price data, the goal is to gain insights into the patterns, trends, and potential influencing factors affecting food prices over time. The ultimate objective is to develop predictive models that can contribute to informed decision-making and strategies to mitigate challenges related to food affordability and accessibility.\n",
    "\n",
    "Given the significant portion of the population living in poverty and the challenges related to food security, the successful execution of this project has the potential to contribute to poverty alleviation, improved nutrition, and progress toward achieving the United Nations Sustainable Development Goal of zero hunger in Kenya."
   ]
  },
  {
   "cell_type": "markdown",
   "metadata": {},
   "source": [
    "### BUSINESS UNDERSTANDING"
   ]
  },
  {
   "cell_type": "markdown",
   "metadata": {},
   "source": [
    "### FOOD AND NUTRITION SITUATION IN KENYA\n",
    "Kenya, situated in Eastern Africa, faces significant socio-economic challenges, with 35.6% of its population living below the international poverty line of US$1.90 per day. In rural areas, 29% of children experience stunted growth, highlighting the pressing need for improved living conditions and nutritional access. The total population stands at 48.5 million, with a substantial portion struggling to secure adequate quantities of nutritious food.\n",
    "\n",
    "### Challenges:\n",
    "Access to quality and sufficient food remains a major hurdle for a third of the population, exacerbating issues related to poverty and malnutrition. This underscores the importance of addressing food security concerns and aligning efforts with the global goal of achieving zero hunger and improving overall nutrition."
   ]
  },
  {
   "cell_type": "markdown",
   "metadata": {},
   "source": [
    "### DATA UNDERSTANDING"
   ]
  },
  {
   "cell_type": "markdown",
   "metadata": {},
   "source": [
    "### BUSINESS OBJECTIVES\n",
    ">1.Gather an indepth understanding of the dynamics of food prices in Kenya.\n",
    "\n",
    ">2.Develop reliable predictive models for future price trends.\n",
    "\n",
    ">3.Provide informed recommendations for policymakers and stakeholders to address challenges related to food affordability and accessibility."
   ]
  },
  {
   "cell_type": "code",
   "execution_count": 9,
   "metadata": {},
   "outputs": [],
   "source": [
    "import pandas as pd\n",
    "import numpy as np\n",
    "from matplotlib import pyplot as plt\n",
    "import seaborn as sns\n",
    "%matplotlib inline"
   ]
  },
  {
   "cell_type": "code",
   "execution_count": 10,
   "metadata": {},
   "outputs": [
    {
     "data": {
      "text/html": [
       "<div>\n",
       "<style scoped>\n",
       "    .dataframe tbody tr th:only-of-type {\n",
       "        vertical-align: middle;\n",
       "    }\n",
       "\n",
       "    .dataframe tbody tr th {\n",
       "        vertical-align: top;\n",
       "    }\n",
       "\n",
       "    .dataframe thead th {\n",
       "        text-align: right;\n",
       "    }\n",
       "</style>\n",
       "<table border=\"1\" class=\"dataframe\">\n",
       "  <thead>\n",
       "    <tr style=\"text-align: right;\">\n",
       "      <th></th>\n",
       "      <th>date</th>\n",
       "      <th>admin1</th>\n",
       "      <th>admin2</th>\n",
       "      <th>market</th>\n",
       "      <th>latitude</th>\n",
       "      <th>longitude</th>\n",
       "      <th>category</th>\n",
       "      <th>commodity</th>\n",
       "      <th>unit</th>\n",
       "      <th>priceflag</th>\n",
       "      <th>pricetype</th>\n",
       "      <th>currency</th>\n",
       "      <th>price</th>\n",
       "      <th>usdprice</th>\n",
       "    </tr>\n",
       "  </thead>\n",
       "  <tbody>\n",
       "    <tr>\n",
       "      <th>0</th>\n",
       "      <td>#date</td>\n",
       "      <td>#adm1+name</td>\n",
       "      <td>#adm2+name</td>\n",
       "      <td>#loc+market+name</td>\n",
       "      <td>#geo+lat</td>\n",
       "      <td>#geo+lon</td>\n",
       "      <td>#item+type</td>\n",
       "      <td>#item+name</td>\n",
       "      <td>#item+unit</td>\n",
       "      <td>#item+price+flag</td>\n",
       "      <td>#item+price+type</td>\n",
       "      <td>#currency</td>\n",
       "      <td>#value</td>\n",
       "      <td>#value+usd</td>\n",
       "    </tr>\n",
       "    <tr>\n",
       "      <th>1</th>\n",
       "      <td>2006-01-15</td>\n",
       "      <td>Coast</td>\n",
       "      <td>Mombasa</td>\n",
       "      <td>Mombasa</td>\n",
       "      <td>-4.05</td>\n",
       "      <td>39.666667</td>\n",
       "      <td>cereals and tubers</td>\n",
       "      <td>Maize (white)</td>\n",
       "      <td>90 KG</td>\n",
       "      <td>actual</td>\n",
       "      <td>Wholesale</td>\n",
       "      <td>KES</td>\n",
       "      <td>1480.0</td>\n",
       "      <td>20.5041</td>\n",
       "    </tr>\n",
       "    <tr>\n",
       "      <th>2</th>\n",
       "      <td>2006-01-15</td>\n",
       "      <td>Coast</td>\n",
       "      <td>Mombasa</td>\n",
       "      <td>Mombasa</td>\n",
       "      <td>-4.05</td>\n",
       "      <td>39.666667</td>\n",
       "      <td>pulses and nuts</td>\n",
       "      <td>Beans</td>\n",
       "      <td>KG</td>\n",
       "      <td>actual</td>\n",
       "      <td>Wholesale</td>\n",
       "      <td>KES</td>\n",
       "      <td>33.63</td>\n",
       "      <td>0.4659</td>\n",
       "    </tr>\n",
       "    <tr>\n",
       "      <th>3</th>\n",
       "      <td>2006-01-15</td>\n",
       "      <td>Coast</td>\n",
       "      <td>Mombasa</td>\n",
       "      <td>Mombasa</td>\n",
       "      <td>-4.05</td>\n",
       "      <td>39.666667</td>\n",
       "      <td>pulses and nuts</td>\n",
       "      <td>Beans (dry)</td>\n",
       "      <td>90 KG</td>\n",
       "      <td>actual</td>\n",
       "      <td>Wholesale</td>\n",
       "      <td>KES</td>\n",
       "      <td>3246.0</td>\n",
       "      <td>44.9705</td>\n",
       "    </tr>\n",
       "    <tr>\n",
       "      <th>4</th>\n",
       "      <td>2006-01-15</td>\n",
       "      <td>Eastern</td>\n",
       "      <td>Kitui</td>\n",
       "      <td>Kitui</td>\n",
       "      <td>-1.366667</td>\n",
       "      <td>38.016667</td>\n",
       "      <td>cereals and tubers</td>\n",
       "      <td>Maize (white)</td>\n",
       "      <td>KG</td>\n",
       "      <td>actual</td>\n",
       "      <td>Retail</td>\n",
       "      <td>KES</td>\n",
       "      <td>17.0</td>\n",
       "      <td>0.2355</td>\n",
       "    </tr>\n",
       "  </tbody>\n",
       "</table>\n",
       "</div>"
      ],
      "text/plain": [
       "         date      admin1      admin2            market   latitude  longitude  \\\n",
       "0       #date  #adm1+name  #adm2+name  #loc+market+name   #geo+lat   #geo+lon   \n",
       "1  2006-01-15       Coast     Mombasa           Mombasa      -4.05  39.666667   \n",
       "2  2006-01-15       Coast     Mombasa           Mombasa      -4.05  39.666667   \n",
       "3  2006-01-15       Coast     Mombasa           Mombasa      -4.05  39.666667   \n",
       "4  2006-01-15     Eastern       Kitui             Kitui  -1.366667  38.016667   \n",
       "\n",
       "             category      commodity        unit         priceflag  \\\n",
       "0          #item+type     #item+name  #item+unit  #item+price+flag   \n",
       "1  cereals and tubers  Maize (white)       90 KG            actual   \n",
       "2     pulses and nuts          Beans          KG            actual   \n",
       "3     pulses and nuts    Beans (dry)       90 KG            actual   \n",
       "4  cereals and tubers  Maize (white)          KG            actual   \n",
       "\n",
       "          pricetype   currency   price    usdprice  \n",
       "0  #item+price+type  #currency  #value  #value+usd  \n",
       "1         Wholesale        KES  1480.0     20.5041  \n",
       "2         Wholesale        KES   33.63      0.4659  \n",
       "3         Wholesale        KES  3246.0     44.9705  \n",
       "4            Retail        KES    17.0      0.2355  "
      ]
     },
     "execution_count": 10,
     "metadata": {},
     "output_type": "execute_result"
    }
   ],
   "source": [
    "data=pd.read_csv('Data/wfp_food_prices_ken.csv')\n",
    "data.head(5)"
   ]
  },
  {
   "cell_type": "code",
   "execution_count": 11,
   "metadata": {},
   "outputs": [
    {
     "data": {
      "text/html": [
       "<div>\n",
       "<style scoped>\n",
       "    .dataframe tbody tr th:only-of-type {\n",
       "        vertical-align: middle;\n",
       "    }\n",
       "\n",
       "    .dataframe tbody tr th {\n",
       "        vertical-align: top;\n",
       "    }\n",
       "\n",
       "    .dataframe thead th {\n",
       "        text-align: right;\n",
       "    }\n",
       "</style>\n",
       "<table border=\"1\" class=\"dataframe\">\n",
       "  <thead>\n",
       "    <tr style=\"text-align: right;\">\n",
       "      <th></th>\n",
       "      <th>date</th>\n",
       "      <th>admin1</th>\n",
       "      <th>admin2</th>\n",
       "      <th>market</th>\n",
       "      <th>latitude</th>\n",
       "      <th>longitude</th>\n",
       "      <th>category</th>\n",
       "      <th>commodity</th>\n",
       "      <th>unit</th>\n",
       "      <th>priceflag</th>\n",
       "      <th>pricetype</th>\n",
       "      <th>currency</th>\n",
       "      <th>price</th>\n",
       "      <th>usdprice</th>\n",
       "    </tr>\n",
       "  </thead>\n",
       "  <tbody>\n",
       "    <tr>\n",
       "      <th>1</th>\n",
       "      <td>2006-01-15</td>\n",
       "      <td>Coast</td>\n",
       "      <td>Mombasa</td>\n",
       "      <td>Mombasa</td>\n",
       "      <td>-4.05</td>\n",
       "      <td>39.666667</td>\n",
       "      <td>cereals and tubers</td>\n",
       "      <td>Maize (white)</td>\n",
       "      <td>90 KG</td>\n",
       "      <td>actual</td>\n",
       "      <td>Wholesale</td>\n",
       "      <td>KES</td>\n",
       "      <td>1480.0</td>\n",
       "      <td>20.5041</td>\n",
       "    </tr>\n",
       "    <tr>\n",
       "      <th>2</th>\n",
       "      <td>2006-01-15</td>\n",
       "      <td>Coast</td>\n",
       "      <td>Mombasa</td>\n",
       "      <td>Mombasa</td>\n",
       "      <td>-4.05</td>\n",
       "      <td>39.666667</td>\n",
       "      <td>pulses and nuts</td>\n",
       "      <td>Beans</td>\n",
       "      <td>KG</td>\n",
       "      <td>actual</td>\n",
       "      <td>Wholesale</td>\n",
       "      <td>KES</td>\n",
       "      <td>33.63</td>\n",
       "      <td>0.4659</td>\n",
       "    </tr>\n",
       "    <tr>\n",
       "      <th>3</th>\n",
       "      <td>2006-01-15</td>\n",
       "      <td>Coast</td>\n",
       "      <td>Mombasa</td>\n",
       "      <td>Mombasa</td>\n",
       "      <td>-4.05</td>\n",
       "      <td>39.666667</td>\n",
       "      <td>pulses and nuts</td>\n",
       "      <td>Beans (dry)</td>\n",
       "      <td>90 KG</td>\n",
       "      <td>actual</td>\n",
       "      <td>Wholesale</td>\n",
       "      <td>KES</td>\n",
       "      <td>3246.0</td>\n",
       "      <td>44.9705</td>\n",
       "    </tr>\n",
       "    <tr>\n",
       "      <th>4</th>\n",
       "      <td>2006-01-15</td>\n",
       "      <td>Eastern</td>\n",
       "      <td>Kitui</td>\n",
       "      <td>Kitui</td>\n",
       "      <td>-1.366667</td>\n",
       "      <td>38.016667</td>\n",
       "      <td>cereals and tubers</td>\n",
       "      <td>Maize (white)</td>\n",
       "      <td>KG</td>\n",
       "      <td>actual</td>\n",
       "      <td>Retail</td>\n",
       "      <td>KES</td>\n",
       "      <td>17.0</td>\n",
       "      <td>0.2355</td>\n",
       "    </tr>\n",
       "    <tr>\n",
       "      <th>5</th>\n",
       "      <td>2006-01-15</td>\n",
       "      <td>Eastern</td>\n",
       "      <td>Kitui</td>\n",
       "      <td>Kitui</td>\n",
       "      <td>-1.366667</td>\n",
       "      <td>38.016667</td>\n",
       "      <td>cereals and tubers</td>\n",
       "      <td>Potatoes (Irish)</td>\n",
       "      <td>50 KG</td>\n",
       "      <td>actual</td>\n",
       "      <td>Wholesale</td>\n",
       "      <td>KES</td>\n",
       "      <td>1249.99</td>\n",
       "      <td>17.3175</td>\n",
       "    </tr>\n",
       "  </tbody>\n",
       "</table>\n",
       "</div>"
      ],
      "text/plain": [
       "         date   admin1   admin2   market   latitude  longitude  \\\n",
       "1  2006-01-15    Coast  Mombasa  Mombasa      -4.05  39.666667   \n",
       "2  2006-01-15    Coast  Mombasa  Mombasa      -4.05  39.666667   \n",
       "3  2006-01-15    Coast  Mombasa  Mombasa      -4.05  39.666667   \n",
       "4  2006-01-15  Eastern    Kitui    Kitui  -1.366667  38.016667   \n",
       "5  2006-01-15  Eastern    Kitui    Kitui  -1.366667  38.016667   \n",
       "\n",
       "             category         commodity   unit priceflag  pricetype currency  \\\n",
       "1  cereals and tubers     Maize (white)  90 KG    actual  Wholesale      KES   \n",
       "2     pulses and nuts             Beans     KG    actual  Wholesale      KES   \n",
       "3     pulses and nuts       Beans (dry)  90 KG    actual  Wholesale      KES   \n",
       "4  cereals and tubers     Maize (white)     KG    actual     Retail      KES   \n",
       "5  cereals and tubers  Potatoes (Irish)  50 KG    actual  Wholesale      KES   \n",
       "\n",
       "     price usdprice  \n",
       "1   1480.0  20.5041  \n",
       "2    33.63   0.4659  \n",
       "3   3246.0  44.9705  \n",
       "4     17.0   0.2355  \n",
       "5  1249.99  17.3175  "
      ]
     },
     "execution_count": 11,
     "metadata": {},
     "output_type": "execute_result"
    }
   ],
   "source": [
    "#Dropping the first row\n",
    "data.drop(0, inplace=True)\n",
    "data.head()"
   ]
  },
  {
   "cell_type": "markdown",
   "metadata": {},
   "source": [
    "## EXPLORATORY DATA ANALYSIS"
   ]
  },
  {
   "cell_type": "code",
   "execution_count": 12,
   "metadata": {},
   "outputs": [
    {
     "name": "stdout",
     "output_type": "stream",
     "text": [
      "<class 'pandas.core.frame.DataFrame'>\n",
      "Int64Index: 15735 entries, 1 to 15735\n",
      "Data columns (total 14 columns):\n",
      " #   Column     Non-Null Count  Dtype \n",
      "---  ------     --------------  ----- \n",
      " 0   date       15735 non-null  object\n",
      " 1   admin1     15735 non-null  object\n",
      " 2   admin2     15735 non-null  object\n",
      " 3   market     15735 non-null  object\n",
      " 4   latitude   15735 non-null  object\n",
      " 5   longitude  15735 non-null  object\n",
      " 6   category   15735 non-null  object\n",
      " 7   commodity  15735 non-null  object\n",
      " 8   unit       15735 non-null  object\n",
      " 9   priceflag  15735 non-null  object\n",
      " 10  pricetype  15735 non-null  object\n",
      " 11  currency   15735 non-null  object\n",
      " 12  price      15735 non-null  object\n",
      " 13  usdprice   15735 non-null  object\n",
      "dtypes: object(14)\n",
      "memory usage: 1.8+ MB\n"
     ]
    }
   ],
   "source": [
    "# General info about the data\n",
    "data.info()"
   ]
  },
  {
   "cell_type": "code",
   "execution_count": 16,
   "metadata": {},
   "outputs": [
    {
     "data": {
      "text/plain": [
       "Index(['date', 'admin1', 'admin2', 'market', 'latitude', 'longitude',\n",
       "       'category', 'commodity', 'unit', 'priceflag', 'pricetype', 'currency',\n",
       "       'price', 'usdprice'],\n",
       "      dtype='object')"
      ]
     },
     "execution_count": 16,
     "metadata": {},
     "output_type": "execute_result"
    }
   ],
   "source": [
    "data.columns."
   ]
  },
  {
   "cell_type": "code",
   "execution_count": 17,
   "metadata": {},
   "outputs": [
    {
     "data": {
      "text/plain": [
       "(15735, 14)"
      ]
     },
     "execution_count": 17,
     "metadata": {},
     "output_type": "execute_result"
    }
   ],
   "source": [
    "data.shape"
   ]
  },
  {
   "cell_type": "code",
   "execution_count": 27,
   "metadata": {},
   "outputs": [
    {
     "name": "stdout",
     "output_type": "stream",
     "text": [
      "Unique categories:\n",
      "['cereals and tubers' 'pulses and nuts' 'milk and dairy' 'oil and fats'\n",
      " 'non-food' 'meat, fish and eggs' 'miscellaneous food'\n",
      " 'vegetables and fruits']\n",
      "\n",
      "\n",
      "Unique commodities:\n",
      "['Maize (white)' 'Beans' 'Beans (dry)' 'Potatoes (Irish)' 'Sorghum'\n",
      " 'Bread' 'Maize' 'Milk (cow, pasteurized)' 'Oil (vegetable)'\n",
      " 'Fuel (diesel)' 'Fuel (kerosene)' 'Fuel (petrol-gasoline)' 'Maize flour'\n",
      " 'Rice' 'Wheat flour' 'Meat (beef)' 'Meat (goat)' 'Milk (UHT)' 'Sugar'\n",
      " 'Cooking fat' 'Bananas' 'Kale' 'Onions (red)' 'Tomatoes'\n",
      " 'Potatoes (Irish, red)' 'Beans (kidney)' 'Beans (rosecoco)'\n",
      " 'Beans (yellow)' 'Cabbage' 'Onions (dry)' 'Spinach'\n",
      " 'Potatoes (Irish, white)' 'Rice (aromatic)' 'Sorghum (red)'\n",
      " 'Beans (dolichos)' 'Cowpeas' 'Cowpea leaves' 'Maize (white, dry)'\n",
      " 'Beans (mung)' 'Millet (finger)' 'Rice (imported, Pakistan)'\n",
      " 'Fish (omena, dry)' 'Sorghum (white)' 'Salt' 'Meat (camel)'\n",
      " 'Milk (camel, fresh)' 'Milk (cow, fresh)']\n",
      "\n",
      "\n",
      "Unique units of measurements:\n",
      "['90 KG' 'KG' '50 KG' '400 G' '500 ML' 'L' '200 ML' 'Unit' 'Bunch'\n",
      " '126 KG' '13 KG' '64 KG' '200 G' 'Head']\n"
     ]
    }
   ],
   "source": [
    "print(\"Unique categories:\")\n",
    "print(data['category'].unique())\n",
    "print('\\n')\n",
    "print(\"Unique commodities:\")\n",
    "print(data['commodity'].unique())\n",
    "print('\\n')\n",
    "print(\"Unique units of measurements:\")\n",
    "print(data['unit'].unique())"
   ]
  },
  {
   "cell_type": "code",
   "execution_count": 29,
   "metadata": {},
   "outputs": [
    {
     "data": {
      "text/plain": [
       "date         0\n",
       "admin1       0\n",
       "admin2       0\n",
       "market       0\n",
       "latitude     0\n",
       "longitude    0\n",
       "category     0\n",
       "commodity    0\n",
       "unit         0\n",
       "priceflag    0\n",
       "pricetype    0\n",
       "currency     0\n",
       "price        0\n",
       "usdprice     0\n",
       "dtype: int64"
      ]
     },
     "execution_count": 29,
     "metadata": {},
     "output_type": "execute_result"
    }
   ],
   "source": [
    "#Checking for null  values\n",
    "data.isna().sum()"
   ]
  },
  {
   "cell_type": "code",
   "execution_count": 30,
   "metadata": {},
   "outputs": [
    {
     "data": {
      "text/plain": [
       "date         object\n",
       "admin1       object\n",
       "admin2       object\n",
       "market       object\n",
       "latitude     object\n",
       "longitude    object\n",
       "category     object\n",
       "commodity    object\n",
       "unit         object\n",
       "priceflag    object\n",
       "pricetype    object\n",
       "currency     object\n",
       "price        object\n",
       "usdprice     object\n",
       "dtype: object"
      ]
     },
     "execution_count": 30,
     "metadata": {},
     "output_type": "execute_result"
    }
   ],
   "source": [
    "#Checking the datatypes of columns\n",
    "data.dtypes\n"
   ]
  },
  {
   "cell_type": "code",
   "execution_count": null,
   "metadata": {},
   "outputs": [],
   "source": []
  }
 ],
 "metadata": {
  "kernelspec": {
   "display_name": "Python (learn-env)",
   "language": "python",
   "name": "learn-env"
  },
  "language_info": {
   "codemirror_mode": {
    "name": "ipython",
    "version": 3
   },
   "file_extension": ".py",
   "mimetype": "text/x-python",
   "name": "python",
   "nbconvert_exporter": "python",
   "pygments_lexer": "ipython3",
   "version": "3.8.5"
  }
 },
 "nbformat": 4,
 "nbformat_minor": 4
}
