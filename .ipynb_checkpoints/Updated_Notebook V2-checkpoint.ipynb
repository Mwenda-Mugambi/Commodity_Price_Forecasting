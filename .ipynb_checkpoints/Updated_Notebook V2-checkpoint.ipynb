{
 "cells": [
  {
   "cell_type": "markdown",
   "metadata": {
    "id": "i0-bkD6C8QOy"
   },
   "source": [
    "# **Food Commodity Prices Analysis and Forecasting in Kenya**\n",
    "\n",
    "**By:** Charles Kagwanja   **|**   Kevin Kagia  |   Lucy Njambi  |\n",
    " Mwenda Mugambi\n",
    "\n",
    "\n",
    "\n",
    "---\n"
   ]
  },
  {
   "cell_type": "markdown",
   "metadata": {},
   "source": [
    "# 1. **Project Overview**\n",
    "\n",
    "## 1.1 Objective\n",
    "This project aims to analyze and predict wholesale prices in Nairobi, Kenya, harnessing historical data to develop predictive models. It focuses on identifying trends and factors influencing these prices, thereby facilitating informed decision-making in agricultural planning, budgeting, and policy formulation. The project's overarching goal is to contribute to poverty alleviation, improved nutrition, and the realization of the UN Sustainable Development Goal of zero hunger in Kenya.\n",
    "\n",
    "## 1.2 Business Context\n",
    "Focused on Nairobi County's volatile food market, this project addresses the challenge of price unpredictability that affects various sectors. By leveraging data analytics and Time series modeling, the goal is to enhance decision-making processes for entities involved in the supply chain, aligning with efforts to combat poverty and ensure food security in Kenya.\n",
    "\n",
    "## 1.3 Business Challenge\n",
    "The main challenge is developing a reliable forecasting model capable of accurately predicting prices, crucial for effective planning and strategizing. This involves analyzing complex market dynamics and data patterns to anticipate future trends.\n",
    "\n",
    "**Stakeholders**\n",
    "* **Nairobi County Government:** Plays a pivotal role in local governance, including agricultural market oversight and support within Nairobi. \n",
    "* **Kenyan Ministry of Agriculture:** Responsible for agricultural policies and market regulation.\n",
    "* **Retailers and Distributors:** Key players in the supply chain, managing distribution and sales of beans."
   ]
  },
  {
   "cell_type": "markdown",
   "metadata": {
    "id": "v7ViByVc8QO1"
   },
   "source": [
    "## 1.4 Why This Project Matters\n",
    "1. **Consumer Protection and Budgeting**: Assisting consumers, especially in lower-income groups, to better plan their food budgets.\n",
    "\n",
    "2. **Policy Making and Food Security**: Enabling policymakers to formulate strategies that can stabilize food markets and ensure food security.\n",
    "\n",
    "3. **Retail and Distribution Management**: Helping retailers and distributors in optimizing their inventory and pricing strategies.\n",
    "\n",
    "4. **Research and Development**: Contributing to academic and practical research in market dynamics and agricultural economics."
   ]
  },
  {
   "cell_type": "markdown",
   "metadata": {
    "id": "9Ydnuc6N8QO2"
   },
   "source": [
    "# 2. **Data Understanding**\n",
    "### 2.1 Data Source\n",
    "\n",
    "The dataset for this project was obtained from the Humanitarian Data Exchange (HDX), specifically from the World Food Programme's food price database for Kenya. The dataset can be accessed [here](https://data.humdata.org/dataset/wfp-food-prices-for-kenya).\n",
    "\n",
    "This dataset is particularly suitable for our analysis due to the following reasons:\n",
    "1. **Comprehensiveness**: It covers a wide range of food commodities and spans multiple regions within Kenya.\n",
    "2. **Relevance**: The data directly relates to the prices of food commodities, which is the central focus of our project.\n",
    "3. **Timeliness**: The dataset includes recent data, which is crucial for accurate forecasting.\n",
    "\n",
    "First, we'll load the dataset and take a preliminary look at its structure, types of data it contains, and any initial observations we can make about it."
   ]
  },
  {
   "cell_type": "code",
   "execution_count": 4,
   "metadata": {
    "colab": {
     "base_uri": "https://localhost:8080/"
    },
    "id": "hRUShmT28QO2",
    "outputId": "a9dff7de-7968-4f83-9f6b-76622992329e"
   },
   "outputs": [
    {
     "name": "stdout",
     "output_type": "stream",
     "text": [
      "Requirement already satisfied: pmdarima in c:\\users\\admin\\appdata\\roaming\\python\\python38\\site-packages (2.0.4)\n",
      "Requirement already satisfied: joblib>=0.11 in c:\\users\\admin\\appdata\\roaming\\python\\python38\\site-packages (from pmdarima) (1.3.2)\n",
      "Requirement already satisfied: Cython!=0.29.18,!=0.29.31,>=0.29 in c:\\users\\admin\\anaconda3\\envs\\learn-env\\lib\\site-packages (from pmdarima) (0.29.21)\n",
      "Requirement already satisfied: numpy>=1.21.2 in c:\\users\\admin\\anaconda3\\envs\\learn-env\\lib\\site-packages (from pmdarima) (1.24.4)\n",
      "Requirement already satisfied: pandas>=0.19 in c:\\users\\admin\\appdata\\roaming\\python\\python38\\site-packages (from pmdarima) (2.0.3)\n",
      "Requirement already satisfied: scikit-learn>=0.22 in c:\\users\\admin\\appdata\\roaming\\python\\python38\\site-packages (from pmdarima) (1.3.2)\n",
      "Requirement already satisfied: scipy>=1.3.2 in c:\\users\\admin\\anaconda3\\envs\\learn-env\\lib\\site-packages (from pmdarima) (1.10.1)\n",
      "Requirement already satisfied: statsmodels>=0.13.2 in c:\\users\\admin\\anaconda3\\envs\\learn-env\\lib\\site-packages (from pmdarima) (0.14.0)\n",
      "Requirement already satisfied: urllib3 in c:\\users\\admin\\anaconda3\\envs\\learn-env\\lib\\site-packages (from pmdarima) (1.25.10)\n",
      "Requirement already satisfied: setuptools!=50.0.0,>=38.6.0 in c:\\users\\admin\\appdata\\roaming\\python\\python38\\site-packages (from pmdarima) (69.0.2)\n",
      "Requirement already satisfied: packaging>=17.1 in c:\\users\\admin\\anaconda3\\envs\\learn-env\\lib\\site-packages (from pmdarima) (23.2)\n",
      "Requirement already satisfied: python-dateutil>=2.8.2 in c:\\users\\admin\\appdata\\roaming\\python\\python38\\site-packages (from pandas>=0.19->pmdarima) (2.8.2)\n",
      "Requirement already satisfied: pytz>=2020.1 in c:\\users\\admin\\anaconda3\\envs\\learn-env\\lib\\site-packages (from pandas>=0.19->pmdarima) (2020.1)\n",
      "Requirement already satisfied: tzdata>=2022.1 in c:\\users\\admin\\appdata\\roaming\\python\\python38\\site-packages (from pandas>=0.19->pmdarima) (2023.3)\n",
      "Requirement already satisfied: threadpoolctl>=2.0.0 in c:\\users\\admin\\anaconda3\\envs\\learn-env\\lib\\site-packages (from scikit-learn>=0.22->pmdarima) (2.1.0)\n",
      "Requirement already satisfied: patsy>=0.5.2 in c:\\users\\admin\\anaconda3\\envs\\learn-env\\lib\\site-packages (from statsmodels>=0.13.2->pmdarima) (0.5.4)\n",
      "Requirement already satisfied: six in c:\\users\\admin\\anaconda3\\envs\\learn-env\\lib\\site-packages (from patsy>=0.5.2->statsmodels>=0.13.2->pmdarima) (1.15.0)\n"
     ]
    }
   ],
   "source": [
    "# Importing necessary Libraries\n",
    "import numpy as np\n",
    "import pandas as pd\n",
    "import seaborn as sns\n",
    "import matplotlib.pyplot as plt\n",
    "import matplotlib.dates as mdates\n",
    "# !pip install pystan\n",
    "# !pip install prophet --no-binary :all:\n",
    "# from prophet import Prophet\n",
    "import itertools\n",
    "\n",
    "!pip install pmdarima\n",
    "import pmdarima as pm\n",
    "from pmdarima import auto_arima\n",
    "from statsmodels.tsa.arima_model import ARIMA\n",
    "from statsmodels.tsa.stattools import adfuller\n",
    "from statsmodels.tsa.seasonal import seasonal_decompose\n",
    "from statsmodels.tsa.statespace.sarimax import SARIMAX\n",
    "from statsmodels.graphics.tsaplots import plot_acf, plot_pacf\n",
    "\n",
    "from sklearn.model_selection import train_test_split\n",
    "from sklearn.metrics import mean_squared_error, mean_absolute_error\n",
    "\n",
    "%matplotlib inline\n",
    "import warnings\n",
    "warnings.filterwarnings('ignore')"
   ]
  },
  {
   "cell_type": "markdown",
   "metadata": {
    "id": "oeINz66V8QO3"
   },
   "source": [
    "### 2.2 Dataset Overview\n",
    "Here, we will load the dataset and present its size, and an overview of its features."
   ]
  },
  {
   "cell_type": "code",
   "execution_count": 6,
   "metadata": {
    "colab": {
     "base_uri": "https://localhost:8080/"
    },
    "id": "A0psFg838QO4",
    "outputId": "54ba1f54-9d55-4ce1-ddf1-83b9280eeb7c"
   },
   "outputs": [
    {
     "name": "stdout",
     "output_type": "stream",
     "text": [
      "\n",
      "The dataset contains 10102 rows and 8 columns.\n",
      "\n"
     ]
    }
   ],
   "source": [
    "# Loading the dataset\n",
    "data = pd.read_csv('wfp_food_prices_ken.csv')\n",
    "\n",
    "# Checking the size of the dataset\n",
    "print(f\"\\nThe dataset contains {data.shape[0]} rows and {data.shape[1]} columns.\\n\")"
   ]
  },
  {
   "cell_type": "code",
   "execution_count": 7,
   "metadata": {
    "colab": {
     "base_uri": "https://localhost:8080/"
    },
    "id": "DMpTLdaQ8QO4",
    "outputId": "7ec84911-5372-4675-e21d-08461237dc70",
    "scrolled": true
   },
   "outputs": [
    {
     "data": {
      "text/plain": [
       "Index(['district', 'market', 'commodity', 'unit', 'pricetype', 'currency',\n",
       "       'price', 'standardized_price'],\n",
       "      dtype='object')"
      ]
     },
     "execution_count": 7,
     "metadata": {},
     "output_type": "execute_result"
    }
   ],
   "source": [
    "# Checking the columns in our dataframe\n",
    "data.columns"
   ]
  },
  {
   "cell_type": "markdown",
   "metadata": {
    "id": "vPT2daKh8QO4"
   },
   "source": [
    "#### **Column Descriptions**\n",
    "- <code><b>(date):</b></code>, Indicates the date of the price recording\n",
    "- <code><b>Administrative Levels (admin1, admin2):</b></code>, Geographical categorizations, Representing different regions and sub-regions in Kenya.\n",
    "- <code><b>(market):</b></code>,  The specific market where prices were recorded.\n",
    "- <code><b>(latitude, longitude): </b></code>,  The geographical location of each market.\n",
    "- <code><b> (category): </b></code>, The type of food commodity (e.g., cereals, pulses).\n",
    "- <code><b> (commodity): </b></code>, The specific food item (e.g., Maize, Beans).\n",
    "- <code><b> (unit): </b></code>,The unit of measurement for the price.\n",
    "- <code><b> (priceflag): </b></code>, Indicates the nature of the price data (e.g., actual, estimated).\n",
    "- <code><b> (pricetype): </b></code>, Whether the price is retail or wholesale.\n",
    "- <code><b> (currency):</b></code>, The currency in which the price is given.\n",
    "- <code><b> (price): </b></code>, The price of the commodity in Kenyan Shillings.\n",
    "- <code><b> (usdprice): </b></code>,  The price converted to US Dollars."
   ]
  },
  {
   "cell_type": "code",
   "execution_count": 8,
   "metadata": {
    "id": "2IoHUVQM8QO5"
   },
   "outputs": [],
   "source": [
    "# Renaming the 'admin1' and 'admin2' columns to more understandable names\n",
    "data = data.rename(columns={'admin1': 'region', 'admin2': 'district'})"
   ]
  },
  {
   "cell_type": "code",
   "execution_count": 9,
   "metadata": {
    "colab": {
     "base_uri": "https://localhost:8080/"
    },
    "id": "Y40pdY458QO5",
    "outputId": "123e6dc4-5c8a-44a0-e11c-edcabeba550b"
   },
   "outputs": [
    {
     "name": "stdout",
     "output_type": "stream",
     "text": [
      "<class 'pandas.core.frame.DataFrame'>\n",
      "RangeIndex: 10102 entries, 0 to 10101\n",
      "Data columns (total 8 columns):\n",
      " #   Column              Non-Null Count  Dtype  \n",
      "---  ------              --------------  -----  \n",
      " 0   district            10102 non-null  object \n",
      " 1   market              10102 non-null  object \n",
      " 2   commodity           10102 non-null  object \n",
      " 3   unit                10102 non-null  object \n",
      " 4   pricetype           10102 non-null  object \n",
      " 5   currency            10102 non-null  object \n",
      " 6   price               10102 non-null  float64\n",
      " 7   standardized_price  10102 non-null  float64\n",
      "dtypes: float64(2), object(6)\n",
      "memory usage: 631.5+ KB\n"
     ]
    }
   ],
   "source": [
    "# Displaying general information about the dataset\n",
    "# to confirm if the datatypes in the description match the expected entries in our dataset\n",
    "data.info()"
   ]
  },
  {
   "cell_type": "code",
   "execution_count": 10,
   "metadata": {
    "colab": {
     "base_uri": "https://localhost:8080/",
     "height": 600
    },
    "id": "Wv7viYyr8QO5",
    "outputId": "716171d7-57bf-4251-a7c6-97607cb5d566",
    "scrolled": true
   },
   "outputs": [
    {
     "data": {
      "text/html": [
       "<div>\n",
       "<style scoped>\n",
       "    .dataframe tbody tr th:only-of-type {\n",
       "        vertical-align: middle;\n",
       "    }\n",
       "\n",
       "    .dataframe tbody tr th {\n",
       "        vertical-align: top;\n",
       "    }\n",
       "\n",
       "    .dataframe thead th {\n",
       "        text-align: right;\n",
       "    }\n",
       "</style>\n",
       "<table border=\"1\" class=\"dataframe\">\n",
       "  <thead>\n",
       "    <tr style=\"text-align: right;\">\n",
       "      <th></th>\n",
       "      <th>district</th>\n",
       "      <th>market</th>\n",
       "      <th>commodity</th>\n",
       "      <th>unit</th>\n",
       "      <th>pricetype</th>\n",
       "      <th>currency</th>\n",
       "      <th>price</th>\n",
       "      <th>standardized_price</th>\n",
       "    </tr>\n",
       "  </thead>\n",
       "  <tbody>\n",
       "    <tr>\n",
       "      <th>0</th>\n",
       "      <td>Mombasa</td>\n",
       "      <td>Mombasa</td>\n",
       "      <td>Maize</td>\n",
       "      <td>90 KG</td>\n",
       "      <td>Wholesale</td>\n",
       "      <td>KES</td>\n",
       "      <td>1480.00</td>\n",
       "      <td>16.444444</td>\n",
       "    </tr>\n",
       "    <tr>\n",
       "      <th>1</th>\n",
       "      <td>Mombasa</td>\n",
       "      <td>Mombasa</td>\n",
       "      <td>Beans</td>\n",
       "      <td>KG</td>\n",
       "      <td>Wholesale</td>\n",
       "      <td>KES</td>\n",
       "      <td>33.63</td>\n",
       "      <td>33.630000</td>\n",
       "    </tr>\n",
       "    <tr>\n",
       "      <th>2</th>\n",
       "      <td>Mombasa</td>\n",
       "      <td>Mombasa</td>\n",
       "      <td>Beans</td>\n",
       "      <td>90 KG</td>\n",
       "      <td>Wholesale</td>\n",
       "      <td>KES</td>\n",
       "      <td>3246.00</td>\n",
       "      <td>36.066667</td>\n",
       "    </tr>\n",
       "    <tr>\n",
       "      <th>3</th>\n",
       "      <td>Kitui</td>\n",
       "      <td>Kitui</td>\n",
       "      <td>Maize</td>\n",
       "      <td>KG</td>\n",
       "      <td>Retail</td>\n",
       "      <td>KES</td>\n",
       "      <td>17.00</td>\n",
       "      <td>17.000000</td>\n",
       "    </tr>\n",
       "    <tr>\n",
       "      <th>4</th>\n",
       "      <td>Kitui</td>\n",
       "      <td>Kitui</td>\n",
       "      <td>Potatoes</td>\n",
       "      <td>50 KG</td>\n",
       "      <td>Wholesale</td>\n",
       "      <td>KES</td>\n",
       "      <td>1249.99</td>\n",
       "      <td>24.999800</td>\n",
       "    </tr>\n",
       "    <tr>\n",
       "      <th>...</th>\n",
       "      <td>...</td>\n",
       "      <td>...</td>\n",
       "      <td>...</td>\n",
       "      <td>...</td>\n",
       "      <td>...</td>\n",
       "      <td>...</td>\n",
       "      <td>...</td>\n",
       "      <td>...</td>\n",
       "    </tr>\n",
       "    <tr>\n",
       "      <th>10097</th>\n",
       "      <td>Turkana</td>\n",
       "      <td>Mogadishu (Kakuma)</td>\n",
       "      <td>Oil (vegetable)</td>\n",
       "      <td>L</td>\n",
       "      <td>Retail</td>\n",
       "      <td>KES</td>\n",
       "      <td>225.00</td>\n",
       "      <td>225.000000</td>\n",
       "    </tr>\n",
       "    <tr>\n",
       "      <th>10098</th>\n",
       "      <td>Turkana</td>\n",
       "      <td>Mogadishu (Kakuma)</td>\n",
       "      <td>Beans</td>\n",
       "      <td>KG</td>\n",
       "      <td>Retail</td>\n",
       "      <td>KES</td>\n",
       "      <td>190.00</td>\n",
       "      <td>190.000000</td>\n",
       "    </tr>\n",
       "    <tr>\n",
       "      <th>10099</th>\n",
       "      <td>Garissa</td>\n",
       "      <td>Dagahaley (Daadab)</td>\n",
       "      <td>Potatoes</td>\n",
       "      <td>KG</td>\n",
       "      <td>Retail</td>\n",
       "      <td>KES</td>\n",
       "      <td>50.00</td>\n",
       "      <td>50.000000</td>\n",
       "    </tr>\n",
       "    <tr>\n",
       "      <th>10100</th>\n",
       "      <td>Garissa</td>\n",
       "      <td>Dagahaley (Daadab)</td>\n",
       "      <td>Oil (vegetable)</td>\n",
       "      <td>L</td>\n",
       "      <td>Retail</td>\n",
       "      <td>KES</td>\n",
       "      <td>259.23</td>\n",
       "      <td>259.230000</td>\n",
       "    </tr>\n",
       "    <tr>\n",
       "      <th>10101</th>\n",
       "      <td>Garissa</td>\n",
       "      <td>Dagahaley (Daadab)</td>\n",
       "      <td>Beans</td>\n",
       "      <td>KG</td>\n",
       "      <td>Retail</td>\n",
       "      <td>KES</td>\n",
       "      <td>191.67</td>\n",
       "      <td>191.670000</td>\n",
       "    </tr>\n",
       "  </tbody>\n",
       "</table>\n",
       "<p>10102 rows × 8 columns</p>\n",
       "</div>"
      ],
      "text/plain": [
       "      district              market        commodity   unit  pricetype  \\\n",
       "0      Mombasa             Mombasa            Maize  90 KG  Wholesale   \n",
       "1      Mombasa             Mombasa            Beans     KG  Wholesale   \n",
       "2      Mombasa             Mombasa            Beans  90 KG  Wholesale   \n",
       "3        Kitui               Kitui            Maize     KG     Retail   \n",
       "4        Kitui               Kitui         Potatoes  50 KG  Wholesale   \n",
       "...        ...                 ...              ...    ...        ...   \n",
       "10097  Turkana  Mogadishu (Kakuma)  Oil (vegetable)      L     Retail   \n",
       "10098  Turkana  Mogadishu (Kakuma)            Beans     KG     Retail   \n",
       "10099  Garissa  Dagahaley (Daadab)         Potatoes     KG     Retail   \n",
       "10100  Garissa  Dagahaley (Daadab)  Oil (vegetable)      L     Retail   \n",
       "10101  Garissa  Dagahaley (Daadab)            Beans     KG     Retail   \n",
       "\n",
       "      currency    price  standardized_price  \n",
       "0          KES  1480.00           16.444444  \n",
       "1          KES    33.63           33.630000  \n",
       "2          KES  3246.00           36.066667  \n",
       "3          KES    17.00           17.000000  \n",
       "4          KES  1249.99           24.999800  \n",
       "...        ...      ...                 ...  \n",
       "10097      KES   225.00          225.000000  \n",
       "10098      KES   190.00          190.000000  \n",
       "10099      KES    50.00           50.000000  \n",
       "10100      KES   259.23          259.230000  \n",
       "10101      KES   191.67          191.670000  \n",
       "\n",
       "[10102 rows x 8 columns]"
      ]
     },
     "execution_count": 10,
     "metadata": {},
     "output_type": "execute_result"
    }
   ],
   "source": [
    "# Displaying data entries to get a glimpse of our dataset.\n",
    "data"
   ]
  },
  {
   "cell_type": "markdown",
   "metadata": {
    "id": "ZyyW1gqL8QO5"
   },
   "source": [
    "### 2.3 Initial cleaning of the dataset\n",
    "\n",
    "From these outputs, we can see that the first row seems to contain unnecessary headers. We can go ahead and drop that row.\n",
    "We will also go ahead to convert the **date, latitude, longitude, price,** and **usdprice** columns to their appropriate data types."
   ]
  },
  {
   "cell_type": "code",
   "execution_count": 11,
   "metadata": {
    "colab": {
     "base_uri": "https://localhost:8080/"
    },
    "id": "nC485Spn8QO6",
    "outputId": "ed847d0c-ebbd-4c8d-9799-35b223bbb090",
    "scrolled": true
   },
   "outputs": [
    {
     "name": "stdout",
     "output_type": "stream",
     "text": [
      "\n",
      "The dataset now contains 10101 rows and 8 columns after dropping the first row.\n",
      "\n"
     ]
    },
    {
     "ename": "KeyError",
     "evalue": "'date'",
     "output_type": "error",
     "traceback": [
      "\u001b[1;31m---------------------------------------------------------------------------\u001b[0m",
      "\u001b[1;31mKeyError\u001b[0m                                  Traceback (most recent call last)",
      "\u001b[1;32m~\\AppData\\Roaming\\Python\\Python38\\site-packages\\pandas\\core\\indexes\\base.py\u001b[0m in \u001b[0;36mget_loc\u001b[1;34m(self, key)\u001b[0m\n\u001b[0;32m   3652\u001b[0m         \u001b[1;32mtry\u001b[0m\u001b[1;33m:\u001b[0m\u001b[1;33m\u001b[0m\u001b[1;33m\u001b[0m\u001b[0m\n\u001b[1;32m-> 3653\u001b[1;33m             \u001b[1;32mreturn\u001b[0m \u001b[0mself\u001b[0m\u001b[1;33m.\u001b[0m\u001b[0m_engine\u001b[0m\u001b[1;33m.\u001b[0m\u001b[0mget_loc\u001b[0m\u001b[1;33m(\u001b[0m\u001b[0mcasted_key\u001b[0m\u001b[1;33m)\u001b[0m\u001b[1;33m\u001b[0m\u001b[1;33m\u001b[0m\u001b[0m\n\u001b[0m\u001b[0;32m   3654\u001b[0m         \u001b[1;32mexcept\u001b[0m \u001b[0mKeyError\u001b[0m \u001b[1;32mas\u001b[0m \u001b[0merr\u001b[0m\u001b[1;33m:\u001b[0m\u001b[1;33m\u001b[0m\u001b[1;33m\u001b[0m\u001b[0m\n",
      "\u001b[1;32m~\\AppData\\Roaming\\Python\\Python38\\site-packages\\pandas\\_libs\\index.pyx\u001b[0m in \u001b[0;36mpandas._libs.index.IndexEngine.get_loc\u001b[1;34m()\u001b[0m\n",
      "\u001b[1;32m~\\AppData\\Roaming\\Python\\Python38\\site-packages\\pandas\\_libs\\index.pyx\u001b[0m in \u001b[0;36mpandas._libs.index.IndexEngine.get_loc\u001b[1;34m()\u001b[0m\n",
      "\u001b[1;32mpandas\\_libs\\hashtable_class_helper.pxi\u001b[0m in \u001b[0;36mpandas._libs.hashtable.PyObjectHashTable.get_item\u001b[1;34m()\u001b[0m\n",
      "\u001b[1;32mpandas\\_libs\\hashtable_class_helper.pxi\u001b[0m in \u001b[0;36mpandas._libs.hashtable.PyObjectHashTable.get_item\u001b[1;34m()\u001b[0m\n",
      "\u001b[1;31mKeyError\u001b[0m: 'date'",
      "\nThe above exception was the direct cause of the following exception:\n",
      "\u001b[1;31mKeyError\u001b[0m                                  Traceback (most recent call last)",
      "\u001b[1;32m<ipython-input-11-78a69acdb5d4>\u001b[0m in \u001b[0;36m<module>\u001b[1;34m\u001b[0m\n\u001b[0;32m      4\u001b[0m \u001b[1;33m\u001b[0m\u001b[0m\n\u001b[0;32m      5\u001b[0m \u001b[1;31m# Converting appropriate columns to their correct data types\u001b[0m\u001b[1;33m\u001b[0m\u001b[1;33m\u001b[0m\u001b[1;33m\u001b[0m\u001b[0m\n\u001b[1;32m----> 6\u001b[1;33m \u001b[0mdata\u001b[0m\u001b[1;33m[\u001b[0m\u001b[1;34m'date'\u001b[0m\u001b[1;33m]\u001b[0m \u001b[1;33m=\u001b[0m \u001b[0mpd\u001b[0m\u001b[1;33m.\u001b[0m\u001b[0mto_datetime\u001b[0m\u001b[1;33m(\u001b[0m\u001b[0mdata\u001b[0m\u001b[1;33m[\u001b[0m\u001b[1;34m'date'\u001b[0m\u001b[1;33m]\u001b[0m\u001b[1;33m)\u001b[0m\u001b[1;33m\u001b[0m\u001b[1;33m\u001b[0m\u001b[0m\n\u001b[0m\u001b[0;32m      7\u001b[0m \u001b[0mdata\u001b[0m\u001b[1;33m[\u001b[0m\u001b[1;34m'price'\u001b[0m\u001b[1;33m]\u001b[0m \u001b[1;33m=\u001b[0m \u001b[0mpd\u001b[0m\u001b[1;33m.\u001b[0m\u001b[0mto_numeric\u001b[0m\u001b[1;33m(\u001b[0m\u001b[0mdata\u001b[0m\u001b[1;33m[\u001b[0m\u001b[1;34m'price'\u001b[0m\u001b[1;33m]\u001b[0m\u001b[1;33m,\u001b[0m \u001b[0merrors\u001b[0m\u001b[1;33m=\u001b[0m\u001b[1;34m'coerce'\u001b[0m\u001b[1;33m)\u001b[0m\u001b[1;33m\u001b[0m\u001b[1;33m\u001b[0m\u001b[0m\n",
      "\u001b[1;32m~\\AppData\\Roaming\\Python\\Python38\\site-packages\\pandas\\core\\frame.py\u001b[0m in \u001b[0;36m__getitem__\u001b[1;34m(self, key)\u001b[0m\n\u001b[0;32m   3759\u001b[0m             \u001b[1;32mif\u001b[0m \u001b[0mself\u001b[0m\u001b[1;33m.\u001b[0m\u001b[0mcolumns\u001b[0m\u001b[1;33m.\u001b[0m\u001b[0mnlevels\u001b[0m \u001b[1;33m>\u001b[0m \u001b[1;36m1\u001b[0m\u001b[1;33m:\u001b[0m\u001b[1;33m\u001b[0m\u001b[1;33m\u001b[0m\u001b[0m\n\u001b[0;32m   3760\u001b[0m                 \u001b[1;32mreturn\u001b[0m \u001b[0mself\u001b[0m\u001b[1;33m.\u001b[0m\u001b[0m_getitem_multilevel\u001b[0m\u001b[1;33m(\u001b[0m\u001b[0mkey\u001b[0m\u001b[1;33m)\u001b[0m\u001b[1;33m\u001b[0m\u001b[1;33m\u001b[0m\u001b[0m\n\u001b[1;32m-> 3761\u001b[1;33m             \u001b[0mindexer\u001b[0m \u001b[1;33m=\u001b[0m \u001b[0mself\u001b[0m\u001b[1;33m.\u001b[0m\u001b[0mcolumns\u001b[0m\u001b[1;33m.\u001b[0m\u001b[0mget_loc\u001b[0m\u001b[1;33m(\u001b[0m\u001b[0mkey\u001b[0m\u001b[1;33m)\u001b[0m\u001b[1;33m\u001b[0m\u001b[1;33m\u001b[0m\u001b[0m\n\u001b[0m\u001b[0;32m   3762\u001b[0m             \u001b[1;32mif\u001b[0m \u001b[0mis_integer\u001b[0m\u001b[1;33m(\u001b[0m\u001b[0mindexer\u001b[0m\u001b[1;33m)\u001b[0m\u001b[1;33m:\u001b[0m\u001b[1;33m\u001b[0m\u001b[1;33m\u001b[0m\u001b[0m\n\u001b[0;32m   3763\u001b[0m                 \u001b[0mindexer\u001b[0m \u001b[1;33m=\u001b[0m \u001b[1;33m[\u001b[0m\u001b[0mindexer\u001b[0m\u001b[1;33m]\u001b[0m\u001b[1;33m\u001b[0m\u001b[1;33m\u001b[0m\u001b[0m\n",
      "\u001b[1;32m~\\AppData\\Roaming\\Python\\Python38\\site-packages\\pandas\\core\\indexes\\base.py\u001b[0m in \u001b[0;36mget_loc\u001b[1;34m(self, key)\u001b[0m\n\u001b[0;32m   3653\u001b[0m             \u001b[1;32mreturn\u001b[0m \u001b[0mself\u001b[0m\u001b[1;33m.\u001b[0m\u001b[0m_engine\u001b[0m\u001b[1;33m.\u001b[0m\u001b[0mget_loc\u001b[0m\u001b[1;33m(\u001b[0m\u001b[0mcasted_key\u001b[0m\u001b[1;33m)\u001b[0m\u001b[1;33m\u001b[0m\u001b[1;33m\u001b[0m\u001b[0m\n\u001b[0;32m   3654\u001b[0m         \u001b[1;32mexcept\u001b[0m \u001b[0mKeyError\u001b[0m \u001b[1;32mas\u001b[0m \u001b[0merr\u001b[0m\u001b[1;33m:\u001b[0m\u001b[1;33m\u001b[0m\u001b[1;33m\u001b[0m\u001b[0m\n\u001b[1;32m-> 3655\u001b[1;33m             \u001b[1;32mraise\u001b[0m \u001b[0mKeyError\u001b[0m\u001b[1;33m(\u001b[0m\u001b[0mkey\u001b[0m\u001b[1;33m)\u001b[0m \u001b[1;32mfrom\u001b[0m \u001b[0merr\u001b[0m\u001b[1;33m\u001b[0m\u001b[1;33m\u001b[0m\u001b[0m\n\u001b[0m\u001b[0;32m   3656\u001b[0m         \u001b[1;32mexcept\u001b[0m \u001b[0mTypeError\u001b[0m\u001b[1;33m:\u001b[0m\u001b[1;33m\u001b[0m\u001b[1;33m\u001b[0m\u001b[0m\n\u001b[0;32m   3657\u001b[0m             \u001b[1;31m# If we have a listlike key, _check_indexing_error will raise\u001b[0m\u001b[1;33m\u001b[0m\u001b[1;33m\u001b[0m\u001b[1;33m\u001b[0m\u001b[0m\n",
      "\u001b[1;31mKeyError\u001b[0m: 'date'"
     ]
    }
   ],
   "source": [
    "# Removing the first row\n",
    "data = data.drop(index=0)\n",
    "print(f\"\\nThe dataset now contains {data.shape[0]} rows and {data.shape[1]} columns after dropping the first row.\\n\")\n",
    "\n",
    "# Converting appropriate columns to their correct data types\n",
    "data['date'] = pd.to_datetime(data['date'])\n",
    "data['price'] = pd.to_numeric(data['price'], errors='coerce')"
   ]
  },
  {
   "cell_type": "code",
   "execution_count": null,
   "metadata": {
    "colab": {
     "base_uri": "https://localhost:8080/"
    },
    "id": "aAa5TRT28QO6",
    "outputId": "530b3f58-e99a-463a-c18d-95c0ffa03e08",
    "scrolled": true
   },
   "outputs": [],
   "source": [
    "#Confirming the change to the data types\n",
    "data.info()"
   ]
  },
  {
   "cell_type": "markdown",
   "metadata": {
    "id": "Yo0fnTff8QO6"
   },
   "source": [
    "Great. now we can see that the datatypes have been updated to the appropriate types and we can also see that we don't have any missing values, we can proceed to drop some columns **'region', 'category', 'priceflag', 'usdprice', 'longitude'** and **'latitude'** will not be necessary in our analysis."
   ]
  },
  {
   "cell_type": "code",
   "execution_count": null,
   "metadata": {
    "id": "T16qbkc_8QO6"
   },
   "outputs": [],
   "source": [
    "# Listing of columns to drop\n",
    "columns_to_drop = ['region', 'category', 'priceflag', 'usdprice', 'longitude', 'latitude']\n",
    "\n",
    "# Dropping the specified columns\n",
    "data = data.drop(columns=columns_to_drop, errors='ignore')"
   ]
  },
  {
   "cell_type": "markdown",
   "metadata": {
    "id": "EZr_wcdQ8QO6"
   },
   "source": [
    "### 2.4  Basic Statistics\n",
    "In this section, We'll get a brief statistical overview of the numerical features in the dataset."
   ]
  },
  {
   "cell_type": "code",
   "execution_count": null,
   "metadata": {
    "colab": {
     "base_uri": "https://localhost:8080/",
     "height": 581
    },
    "id": "IyTn7L6v8QO7",
    "outputId": "b8f53c67-1e6f-43a2-b048-9cd917c58229"
   },
   "outputs": [],
   "source": [
    "# Displaying basic statistics\n",
    "data.describe(include='all')"
   ]
  },
  {
   "cell_type": "markdown",
   "metadata": {
    "id": "Ad-K4CBZ8QO7"
   },
   "source": [
    "* The dataset covers a time span from **January 2006** to **August 2023**.\n",
    "* It includes 22 Districts in Kenya, with **62 different markets represented.**\n",
    "* There are **47 unique commodities**, with **'Maize (white)'** being the most frequent.\n",
    "* Prices vary significantly, with some commodities having prices as low as **5 KES** and as high as **19,800 KES**. The average price is around **2025 KES**.\n",
    "* The dataset includes both **wholesale and retail price** types."
   ]
  },
  {
   "cell_type": "markdown",
   "metadata": {},
   "source": [
    "# 3. **Exploratory Data Analysis**"
   ]
  },
  {
   "cell_type": "markdown",
   "metadata": {
    "id": "_gjUyib28QO7"
   },
   "source": [
    "## 3.1 Univariate Analysis\n",
    "In this section, wIn this stage, we'll analyze individual variables (features) to understand their characteristics. This includes distribution, central tendency, variability, and presence of outliers.e take a deeper aproach into our analysis to find more trends that may inform our next steps"
   ]
  },
  {
   "cell_type": "markdown",
   "metadata": {
    "id": "Y59MQcLC8QO7"
   },
   "source": [
    "### 3.1.1 Price Distribution\n",
    "We'll start by examining the distribution of commodity prices (in Kenyan Shilling) to understand its range, central tendency, and any potential skewness or outliers."
   ]
  },
  {
   "cell_type": "code",
   "execution_count": null,
   "metadata": {
    "colab": {
     "base_uri": "https://localhost:8080/",
     "height": 203
    },
    "id": "JN5FZo8X8QO7",
    "outputId": "ccfc0529-6034-431f-eb61-efd9092c7fbc",
    "scrolled": true
   },
   "outputs": [],
   "source": [
    "# Plotting the distribution of prices\n",
    "plt.figure(figsize=(16, 4))\n",
    "sns.histplot(data['price'], kde=True, bins= 40)\n",
    "plt.title('Distribution of Commodity Prices')\n",
    "plt.xlabel('Price (KES)')\n",
    "plt.ylabel('Frequency')\n",
    "plt.grid()\n",
    "plt.show()"
   ]
  },
  {
   "cell_type": "markdown",
   "metadata": {
    "id": "ks5pJMUP8QO7"
   },
   "source": [
    "The histogram shows a highly right-skewed distribution. This suggests that most commodity prices are on the lower end, with a few commodities having significantly higher prices.\n",
    "\n",
    "The presence of a long tail indicates substantial variation in prices, with a small number of commodities being much more expensive than the majority."
   ]
  },
  {
   "cell_type": "code",
   "execution_count": null,
   "metadata": {
    "colab": {
     "base_uri": "https://localhost:8080/",
     "height": 212
    },
    "id": "kgOG0Duq8QO8",
    "outputId": "b1598a1d-08b3-49e6-c256-ddbc2a603418"
   },
   "outputs": [],
   "source": [
    "# Boxplot for commodity prices to identify outliers\n",
    "plt.figure(figsize = (16, 4))\n",
    "sns.boxplot(x = data['price'], palette = 'Set2')\n",
    "plt.title('Box Plot of Commodity Prices')\n",
    "plt.xlabel('Price (KES)')\n",
    "plt.grid()\n",
    "plt.show()"
   ]
  },
  {
   "cell_type": "markdown",
   "metadata": {
    "id": "IdQrxT898QO8"
   },
   "source": [
    "The box plot further illustrates the skewness in the data with many outliers on the higher end. These outliers represent commodities with exceptionally high prices.\n",
    "The median price (indicated by the line inside the box) is relatively low compared to the maximum price, reinforcing the notion of a skewed distribution."
   ]
  },
  {
   "cell_type": "markdown",
   "metadata": {
    "id": "Qu3YJDk98QO8"
   },
   "source": [
    "### 3.1.2 Comodity Frequencies\n",
    "Let's create a bar plot to show the frequency of different commodities in the dataset. This will help us understand which commodities are most common and might be of greater interest for further analysis. ​"
   ]
  },
  {
   "cell_type": "code",
   "execution_count": null,
   "metadata": {
    "colab": {
     "base_uri": "https://localhost:8080/",
     "height": 247
    },
    "id": "42pLgTNW8QO9",
    "outputId": "bfc7c79d-309c-42c0-e866-340df89c879e"
   },
   "outputs": [],
   "source": [
    "# Top 10 most frequent commodities in the dataset\n",
    "top_commodities = data['commodity'].value_counts().head(10)\n",
    "\n",
    "plt.figure(figsize=(16, 4))\n",
    "top_commodities.plot(kind='bar', color='blue')\n",
    "plt.title('Top 10 Most Frequent Commodities')\n",
    "plt.xlabel('Commodity')\n",
    "plt.ylabel('Frequency')\n",
    "plt.xticks(rotation=90)\n",
    "plt.grid()\n",
    "plt.show()"
   ]
  },
  {
   "cell_type": "markdown",
   "metadata": {
    "id": "O3y03Ub_8QO9"
   },
   "source": [
    "### 3.1.3 District Distribution Analysis"
   ]
  },
  {
   "cell_type": "code",
   "execution_count": null,
   "metadata": {
    "colab": {
     "base_uri": "https://localhost:8080/",
     "height": 236
    },
    "id": "lvhuHlaq8QO9",
    "outputId": "a8bd4306-afd6-4419-932b-2e4ace8cc7e6"
   },
   "outputs": [],
   "source": [
    "# Re-running the code for Top 10 districts with the most records in the dataset\n",
    "top_markets = data['district'].value_counts().head(10)\n",
    "\n",
    "plt.figure(figsize=(16, 4))\n",
    "top_markets.plot(kind='bar', color='orange')\n",
    "plt.title('Top 10 Districts with Most Records')\n",
    "plt.xlabel('Market')\n",
    "plt.ylabel('Number of Records')\n",
    "plt.xticks(rotation=90)\n",
    "plt.grid()\n",
    "plt.show()\n"
   ]
  },
  {
   "cell_type": "markdown",
   "metadata": {
    "id": "GuOQxzFJ8QO9"
   },
   "source": [
    "From this analysis we can see the top 10 districts with the most records in the dataset.\n",
    "* Markets like **Nairobi**, **Turkana**, **Mombasa** and **Uasin Gishu** are among the most represented, indicating either their larger market size or more frequent data collection.\n",
    "\n",
    "* This distribution helps in understanding which markets are most prominent in the dataset, which is important for evaluating the representativeness of our analysis and identifying any potential gaps in market coverage."
   ]
  },
  {
   "cell_type": "markdown",
   "metadata": {
    "id": "kpz303Wh8QO9"
   },
   "source": [
    "## 3.2 Bivariate Analysis\n",
    "In this section, we'll explore relationships between two variables at a time. This can provide insights into how different variables interact with each other, which is particularly useful for understanding the dynamics of commodity prices in relation to other factors."
   ]
  },
  {
   "cell_type": "markdown",
   "metadata": {
    "id": "Eui9pG8C8QO-"
   },
   "source": [
    "### 3.2.1 Commodity vs. Price\n",
    "We'll start by analyzing the commodity prices have changed per variation. Before we do,  We first check the number and type of commodities we have."
   ]
  },
  {
   "cell_type": "code",
   "execution_count": null,
   "metadata": {
    "colab": {
     "base_uri": "https://localhost:8080/"
    },
    "id": "az0yqcON8QO-",
    "outputId": "27b6e1cd-729b-4d36-9b2d-97cc6271203e"
   },
   "outputs": [],
   "source": [
    "# Checking for the value counts of each commodity.\n",
    "data[\"commodity\"].value_counts().sort_index(ascending=True)"
   ]
  },
  {
   "cell_type": "code",
   "execution_count": null,
   "metadata": {
    "colab": {
     "base_uri": "https://localhost:8080/",
     "height": 805
    },
    "id": "PaKw_nX58QO-",
    "outputId": "392deab5-f9db-4ca3-c379-5ced376542ad"
   },
   "outputs": [],
   "source": [
    "# List of commodity pairs/groups for comparison\n",
    "commodity_groups = {\n",
    "    'Beans': ['Beans', 'Beans (dry)', 'Beans (dolichos)','Beans (kidney)',\n",
    "              'Beans (mung)','Beans (rosecoco)','Beans (yellow)'],\n",
    "\n",
    "    'Maize': ['Maize', 'Maize (white)', 'Maize (white, dry)'],\n",
    "    'Potatoes (Irish)': ['Potatoes (Irish)', 'Potatoes (Irish, red)',\n",
    "                         'Potatoes (Irish, white)'],\n",
    "\n",
    "    'Milk (UHT)': ['Milk (cow, pasteurized)', 'Milk (UHT)',\n",
    "                   'Milk (cow, fresh)'],\n",
    "\n",
    "    'Rice': ['Rice', 'Rice (aromatic)', 'Rice (imported, Pakistan)'],\n",
    "    'Sorghum': ['Sorghum', 'Sorghum (red)', 'Sorghum (white)'],\n",
    "\n",
    "}\n",
    "\n",
    "# density plots for each commodity group\n",
    "plt.figure(figsize=(12, 15))\n",
    "for i, (group_name, commodities) in enumerate(commodity_groups.items(), 1):\n",
    "    plt.subplot(len(commodity_groups), 1, i)\n",
    "    for commodity in commodities:\n",
    "        subset = data[data['commodity'] == commodity]\n",
    "        sns.kdeplot(subset['price'], label=commodity, shade=True)\n",
    "    plt.title(f'Density Plot for {group_name}')\n",
    "    plt.xlabel('Price in KES')\n",
    "    plt.ylabel('Density')\n",
    "    plt.legend()\n",
    "\n",
    "plt.tight_layout()\n",
    "plt.show()"
   ]
  },
  {
   "cell_type": "markdown",
   "metadata": {
    "id": "XBogxy9L8QO-"
   },
   "source": [
    "From the analysis we can see that there are multiple variant enries of some commodities. \n",
    "We'll go on to merge the commodities in order to simply our analysis moving on for a general analysis, the goal is to simplify the dataset while still capturing the essence of market variations."
   ]
  },
  {
   "cell_type": "code",
   "execution_count": null,
   "metadata": {
    "colab": {
     "base_uri": "https://localhost:8080/",
     "height": 244
    },
    "id": "66R0gGHe8QO-",
    "outputId": "53e43641-60f6-47d5-fc25-1a1ab7c51d5e",
    "scrolled": true
   },
   "outputs": [],
   "source": [
    "# Defining the mapping of variants to general categories\n",
    "commodity_replacement = {\n",
    "    'Beans (dry)': 'Beans',\n",
    "    'Beans (kidney)': 'Beans',\n",
    "    'Beans (rosecoco)': 'Beans',\n",
    "    'Beans (yellow)': 'Beans',\n",
    "    'Beans (dolichos)': 'Beans',\n",
    "    'Beans (mung)': 'Beans',\n",
    "    'Maize (white)': 'Maize',\n",
    "    'Maize (white, dry)': 'Maize',\n",
    "    'Potatoes (Irish)': 'Potatoes',\n",
    "    'Potatoes (Irish, red)': 'Potatoes',\n",
    "    'Potatoes (Irish, white)': 'Potatoes',\n",
    "    'Rice (imported, Pakistan)':'Rice',\n",
    "    'Rice (aromatic)' : 'Rice',\n",
    "    'Sorghum (white)' : 'Sorghum',\n",
    "    'Sorghum (red)' : 'Sorghum',\n",
    "    'Onions (red)' : 'Onions',\n",
    "    'Onions (dry)': 'Onions',\n",
    "    'Milk (cow, pasteurized)':'Milk',\n",
    "    'Milk (UHT)' : 'Milk',\n",
    "    'Milk (cow, fresh)' : 'Milk'\n",
    "}\n",
    "\n",
    "# Updating the 'commodity' column by replacing variant names with the general category name\n",
    "data['commodity'] = data['commodity'].replace(commodity_replacement)\n",
    "\n",
    "# Confirming the changes\n",
    "# Plotting the bar chart with value counts\n",
    "plt.figure(figsize=(16, 4.2))\n",
    "top_commodities = data['commodity'].value_counts().head(10)\n",
    "bars = plt.bar(top_commodities.index, top_commodities.values, color='green')\n",
    "\n",
    "# Adding the text with the value counts above each bar\n",
    "for bar in bars:\n",
    "    yval = bar.get_height()\n",
    "    plt.text(bar.get_x() + bar.get_width()/2, yval + 5, int(yval), ha='center', va='bottom')\n",
    "\n",
    "plt.title('Top 10 Most Frequent Commodities')\n",
    "plt.xlabel('Commodity')\n",
    "plt.ylabel('Frequency')\n",
    "plt.xticks(rotation=0)\n",
    "plt.grid()\n",
    "plt.show()"
   ]
  },
  {
   "cell_type": "code",
   "execution_count": null,
   "metadata": {
    "colab": {
     "base_uri": "https://localhost:8080/",
     "height": 1000
    },
    "id": "IMU4RwG78QO-",
    "outputId": "7ebaadbd-5c6a-4e99-b29b-826483d3e6b2"
   },
   "outputs": [],
   "source": [
    "# Setting the date to index\n",
    "data.set_index('date', inplace=True)\n",
    "\n",
    "# Get the list of unique commodities\n",
    "commodities = data['commodity'].unique()\n",
    "\n",
    "# Calculating the number of rows for the subplots\n",
    "num_rows = len(commodities) // 2 + (len(commodities) % 2 > 0)\n",
    "\n",
    "# Setting up the matplotlib figure\n",
    "fig, axes = plt.subplots(nrows=num_rows, ncols=2, figsize=(14, 5 * num_rows), sharex=True)\n",
    "\n",
    "# Flattening the axes array for easy iteration\n",
    "axes = axes.flatten()\n",
    "\n",
    "# Plotting each commodity's price over time in a subplot\n",
    "for i, commodity in enumerate(commodities):\n",
    "    sns.lineplot(data=data[data['commodity'] == commodity]['price'], ax=axes[i])\n",
    "    axes[i].set_title(commodity)\n",
    "    axes[i].set_ylabel('Price in KES')\n",
    "\n",
    "# Remove any unused subplots if commodities are an odd number\n",
    "if len(commodities) % 2:\n",
    "    fig.delaxes(axes[-1])\n",
    "\n",
    "plt.tight_layout()\n",
    "plt.show();"
   ]
  },
  {
   "cell_type": "markdown",
   "metadata": {
    "id": "USj9rRdV8QPK"
   },
   "source": [
    "From this visualization, we can see that not all the commodity prices have been recorded since 2006.\n",
    "In order to reduce noise, We will go ahead and drop all the commodities that have not been recorded since 2006"
   ]
  },
  {
   "cell_type": "code",
   "execution_count": null,
   "metadata": {
    "colab": {
     "base_uri": "https://localhost:8080/"
    },
    "id": "MCAJKPFh8QPK",
    "outputId": "e89c5332-db65-4692-b5bd-1357069fd02e"
   },
   "outputs": [],
   "source": [
    "# Filtering data to include only commodities with records starting from 2006 or earlier\n",
    "commodities_since_2006 = data[data.index.year <= 2006]['commodity'].unique()\n",
    "\n",
    "# Now filtering main dataframe to include only these commodities\n",
    "filtered_data = data[data['commodity'].isin(commodities_since_2006)]\n",
    "\n",
    "# After filtering we check the unique commodities and their counts again\n",
    "filtered_commodity_counts = filtered_data['commodity'].value_counts()\n",
    "filtered_commodity_counts"
   ]
  },
  {
   "cell_type": "code",
   "execution_count": null,
   "metadata": {
    "colab": {
     "base_uri": "https://localhost:8080/",
     "height": 918
    },
    "id": "IdCW1lBB8QPL",
    "outputId": "c4267d19-926a-4c9e-efd2-e45f433dda4a",
    "scrolled": true
   },
   "outputs": [],
   "source": [
    "# Getting the list of unique commodities after filtering\n",
    "commodities = filtered_data['commodity'].unique()\n",
    "\n",
    "# Calculating the number of rows for the subplots\n",
    "num_rows = len(commodities) // 2 + (len(commodities) % 2)\n",
    "\n",
    "# Setying up the matplotlib figure\n",
    "fig, axes = plt.subplots(nrows=num_rows, ncols=2, figsize=(14, 5 * num_rows), sharex=True)\n",
    "\n",
    "# Flattening the axes array for easy iteration\n",
    "axes = axes.flatten()\n",
    "\n",
    "# Ploting each commodity's price over time in a subplot\n",
    "for i, commodity in enumerate(commodities):\n",
    "    sns.lineplot(data=filtered_data[filtered_data['commodity'] == commodity]['price'], ax=axes[i])\n",
    "    axes[i].set_title(commodity)\n",
    "    axes[i].set_ylabel('Price in KES')\n",
    "    axes[i].set_xlabel('Date')\n",
    "\n",
    "plt.tight_layout()\n",
    "plt.show();"
   ]
  },
  {
   "cell_type": "markdown",
   "metadata": {
    "id": "Km_WTYCg8QPL"
   },
   "source": [
    "Great. Now that we have commoditie with substatial data, we can proceed to the next level of our analysis."
   ]
  },
  {
   "cell_type": "markdown",
   "metadata": {
    "id": "9XSrZQHm8QPL"
   },
   "source": [
    "### 3.2.2 Price vs. District\n",
    "Next, we'll examine the relationship between commodity prices and different districts. This can highlight regional price variations."
   ]
  },
  {
   "cell_type": "code",
   "execution_count": null,
   "metadata": {
    "colab": {
     "base_uri": "https://localhost:8080/",
     "height": 1000
    },
    "id": "B_iEUVyz8QPL",
    "outputId": "c1a4fc8b-632f-45fe-d750-b45ba6022935"
   },
   "outputs": [],
   "source": [
    "# Selecting the commodities for visualization\n",
    "key_commodities = ['Maize', 'Beans', 'Potatoes', 'Sorghum', 'Oil (vegetable)', 'Milk', 'Bread' ]\n",
    "\n",
    "# Seting up the matplotlib figure - adjust the size as needed\n",
    "num_rows = len(key_commodities)\n",
    "fig, axes = plt.subplots(nrows=num_rows, ncols=1, figsize=(16, 4*num_rows))\n",
    "\n",
    "# Flattening the axes array if it's multidimensional\n",
    "axes = axes.flatten() if num_rows > 1 else [axes]\n",
    "\n",
    "# box plots for each commodity's price across districts\n",
    "for i, commodity in enumerate(key_commodities):\n",
    "    sns.boxplot(data=filtered_data[filtered_data['commodity'] == commodity], x='district', y='price', ax=axes[i])\n",
    "    axes[i].set_title(f'Price Distribution of {commodity} Across Districts')\n",
    "    axes[i].set_xticklabels(axes[i].get_xticklabels(), rotation=45)\n",
    "    axes[i].set_ylabel('Price in KES')\n",
    "    axes[i].set_xlabel('District')\n",
    "\n",
    "plt.tight_layout()\n",
    "plt.show();"
   ]
  },
  {
   "cell_type": "markdown",
   "metadata": {
    "id": "fMRn0gpR8QPM"
   },
   "source": [
    "from this analysis, We cans see that\n",
    "* **Maize** prices vary widely across districts, with some having higher median prices and greater variability, suggesting regional factors influence prices.\n",
    "* **Beans** also exhibit significant variation, indicating occasional spikes possibly due to seasonal shortages.\n",
    "* **Potato** prices are relatively consistent across districts, with occasional outliers indicating price surges.\n",
    "* **Sorghum** prices vary notably, reflecting regional differences in its importance.\n",
    "* **Vegetable oil** prices are relatively uniform, but some districts show greater price ranges.\n",
    "* **Milk prices** show less variability, suggesting a more consistent supply chain, though occasional fluctuations occur.\n",
    "* **Limited data on bread** prices hinders comparative district analysis so we will go on and drop the commodity all together"
   ]
  },
  {
   "cell_type": "code",
   "execution_count": null,
   "metadata": {
    "colab": {
     "base_uri": "https://localhost:8080/"
    },
    "id": "Zw_lN4eb8QPM",
    "outputId": "dc80437f-8cae-4ba7-db97-e6be0bc02adc"
   },
   "outputs": [],
   "source": [
    "# Filtering and maintaining rows where the commodity is not \"Bread\"\n",
    "filtered_data = filtered_data[filtered_data['commodity'] != 'Bread']\n",
    "filtered_commodity_counts = filtered_data['commodity'].value_counts()\n",
    "filtered_commodity_counts"
   ]
  },
  {
   "cell_type": "markdown",
   "metadata": {
    "id": "yOj7Dhuo8QPM"
   },
   "source": [
    "### 3.2.3 Unit vs Commodity\n",
    "Next we'll analyse our data to understand how many different units we have recorderd per each commodity."
   ]
  },
  {
   "cell_type": "code",
   "execution_count": null,
   "metadata": {
    "colab": {
     "base_uri": "https://localhost:8080/",
     "height": 426
    },
    "id": "xTln1vB_8QPM",
    "outputId": "4a17b9cc-158b-456e-96b8-549ea8e3f39a"
   },
   "outputs": [],
   "source": [
    "# Grouping for analysis\n",
    "unit_analysis = filtered_data.groupby(['commodity', 'unit']).size().reset_index(name='count')\n",
    "\n",
    "# Sorting the results for better readability\n",
    "unit_analysis = unit_analysis.sort_values(by=['commodity', 'count'], ascending=[True, False])\n",
    "\n",
    "# Displaying the dataframe\n",
    "unit_analysis"
   ]
  },
  {
   "cell_type": "markdown",
   "metadata": {
    "id": "RKYLy92h8QPM"
   },
   "source": [
    "* **Beans:** The majority of bean prices are recorded in '90 KG' units, followed by 'KG'. This suggests that beans are commonly traded in bulk.\n",
    "\n",
    "* **Maize:** Maize prices are commonly reported in both 'KG' and '90 KG', with more records in 'KG'. This reflects the different market segments (retail vs. wholesale).\n",
    "\n",
    "* **Milk:** Milk is primarily measured in '500 ML' units, with very few records in 'L' and '200 ML'. The dominance of the '500 ML' unit indicates standard packaging size for milk.\n",
    "\n",
    "* **Oil (Vegetable):** All records for vegetable oil are in liters, which indicates consistency in the unit of measurement for vegetable oil.\n",
    "\n",
    "* **Potatoes:** Potatoes also have a significant number of records in '50 KG' suggesting bulk trade, but there are also a substantial number of records in 'KG' which might represent smaller purchases or retail sales.\n",
    "\n",
    "* **Sorghum:** The unit '90 KG' is used for most of the sorghum records, with fewer in 'KG'. This is indicative of bulk trade for sorghum."
   ]
  },
  {
   "cell_type": "markdown",
   "metadata": {
    "id": "kHKTtSZ-8QPN"
   },
   "source": [
    "To compare prices across all commodities we'll need to standardize the units of measure. For solid commodities like beans, maize, and sorghum, 'KG' could be the standard unit. For the liquids, 'L' (liter) could be the standard."
   ]
  },
  {
   "cell_type": "code",
   "execution_count": null,
   "metadata": {
    "colab": {
     "base_uri": "https://localhost:8080/",
     "height": 643
    },
    "id": "Bj1u7Ltq8QPN",
    "outputId": "3667dba4-be8b-4429-a601-9007c198464c"
   },
   "outputs": [],
   "source": [
    "# Defining the conversion factors\n",
    "conversion_factors = {\n",
    "    '90 KG': 1/90,   # Converting prices for 90 KG to price per KG\n",
    "    'KG': 1,         # No conversion needed\n",
    "    '500 ML': 2,     # Converting prices for 500 ML to price per L\n",
    "    'L': 1,          # No conversion needed\n",
    "    '50 KG': 1/50,   # Converting prices for 50 KG to price per KG\n",
    "    '200 ML': 5      # Converting prices for 200 ML to price per L\n",
    "}\n",
    "\n",
    "# Applying the conversion factors to create a new 'standardized_price' column\n",
    "filtered_data['standardized_price'] = filtered_data.apply(\n",
    "    lambda row: row['price'] * conversion_factors.get(row['unit'], 1), axis=1\n",
    ")\n",
    "\n",
    "filtered_data = filtered_data.reset_index()\n",
    "filtered_data = filtered_data.rename(columns={\"index\":'date'})\n",
    "\n",
    "# Saving the updated DataFrame to a new CSV file\n",
    "#filtered_data.to_csv('Data/filtered_data.csv', index=False)\n",
    "\n",
    "# Sampling the data to confirm the changes\n",
    "filtered_data.sample(10)"
   ]
  },
  {
   "cell_type": "code",
   "execution_count": null,
   "metadata": {
    "colab": {
     "base_uri": "https://localhost:8080/",
     "height": 240
    },
    "id": "Xk-fTN_u8QPN",
    "outputId": "b0f0e144-ead7-4a3a-8d81-bae48d391d69"
   },
   "outputs": [],
   "source": [
    "# Plotting the distribution of prices\n",
    "plt.figure(figsize=(16, 5))\n",
    "sns.histplot(filtered_data['standardized_price'], kde=True, bins= 40)\n",
    "plt.title('Distribution of standardized_prices')\n",
    "plt.xlabel('Price (KES)')\n",
    "plt.ylabel('Frequency')\n",
    "plt.grid()\n",
    "plt.show()"
   ]
  },
  {
   "cell_type": "markdown",
   "metadata": {
    "id": "t3uBc75V8QPN"
   },
   "source": [
    "### 3.2.4  Commodity vs  PriceType\n",
    "Next we'll analyse our data to understand the pricetype distribution per each commodity."
   ]
  },
  {
   "cell_type": "code",
   "execution_count": null,
   "metadata": {
    "colab": {
     "base_uri": "https://localhost:8080/",
     "height": 363
    },
    "id": "DNqqXCWd8QPN",
    "outputId": "85de89e1-13b4-4fe0-d83c-6d2d268d9839"
   },
   "outputs": [],
   "source": [
    "# Grouping the data by commodity and price type\n",
    "price_type_analysis = filtered_data.groupby(['commodity', 'pricetype']).size().reset_index(name='count')\n",
    "\n",
    "# Sorting the results for better readabilityc\n",
    "price_type_analysis = price_type_analysis.sort_values(by=['commodity', 'count'], ascending=[True, False])\n",
    "\n",
    "# Checking the results\n",
    "price_type_analysis"
   ]
  },
  {
   "cell_type": "markdown",
   "metadata": {
    "id": "98pd9C468QPO"
   },
   "source": [
    "**Beans:** The majority of price records for beans are for wholesale prices, which are more than three times the records for retail prices. This suggests that beans are commonly traded in bulk, and wholesale prices are more frequently reported.\n",
    "\n",
    "**Maize:** Wholesale prices for maize also have a higher count compared to retail, but the difference is not as pronounced as with beans. This indicates a significant presence of maize in both wholesale and retail markets.\n",
    "\n",
    "**Milk:** All price records for milk are retail, indicating that the dataset might be capturing consumer prices rather than bulk trading prices.\n",
    "\n",
    "**Oil (Vegetable):** Similar to milk, all records for vegetable oil are retail prices, suggesting the data reflects end-consumer pricing.\n",
    "\n",
    "**Potatoes:** The count of wholesale price records is significantly higher than retail for potatoes, indicating a focus on bulk trade within the dataset for this commodity.\n",
    "\n",
    "**Sorghum:** Wholesale price records outnumber retail ones."
   ]
  },
  {
   "cell_type": "markdown",
   "metadata": {
    "id": "JFpMh_t88QPO"
   },
   "source": [
    "### 3.2.5 Temporal Analysis:\n",
    "Now we'll check how the standardized prices of commodities fluctuate over time due to various factors such as seasonality, demand, broader economic conditions and supply changes."
   ]
  },
  {
   "cell_type": "code",
   "execution_count": 12,
   "metadata": {
    "colab": {
     "base_uri": "https://localhost:8080/",
     "height": 704
    },
    "id": "JStre7_s8QPO",
    "outputId": "b98c18db-e152-4ad2-8459-5eaa1e78709f"
   },
   "outputs": [
    {
     "ename": "NameError",
     "evalue": "name 'filtered_data' is not defined",
     "output_type": "error",
     "traceback": [
      "\u001b[1;31m---------------------------------------------------------------------------\u001b[0m",
      "\u001b[1;31mNameError\u001b[0m                                 Traceback (most recent call last)",
      "\u001b[1;32m<ipython-input-12-6286831ef148>\u001b[0m in \u001b[0;36m<module>\u001b[1;34m\u001b[0m\n\u001b[0;32m      1\u001b[0m \u001b[1;31m# Grouping by 'commodity' and resample to get monthly means\u001b[0m\u001b[1;33m\u001b[0m\u001b[1;33m\u001b[0m\u001b[1;33m\u001b[0m\u001b[0m\n\u001b[1;32m----> 2\u001b[1;33m \u001b[0mfiltered_data\u001b[0m\u001b[1;33m.\u001b[0m\u001b[0mset_index\u001b[0m\u001b[1;33m(\u001b[0m\u001b[1;34m'date'\u001b[0m\u001b[1;33m,\u001b[0m \u001b[0minplace\u001b[0m\u001b[1;33m=\u001b[0m\u001b[1;32mTrue\u001b[0m\u001b[1;33m)\u001b[0m\u001b[1;31m# Setting the date to index\u001b[0m\u001b[1;33m\u001b[0m\u001b[1;33m\u001b[0m\u001b[0m\n\u001b[0m\u001b[0;32m      3\u001b[0m \u001b[0mgrouped\u001b[0m \u001b[1;33m=\u001b[0m \u001b[0mfiltered_data\u001b[0m\u001b[1;33m.\u001b[0m\u001b[0mgroupby\u001b[0m\u001b[1;33m(\u001b[0m\u001b[1;34m'commodity'\u001b[0m\u001b[1;33m)\u001b[0m\u001b[1;33m.\u001b[0m\u001b[0mresample\u001b[0m\u001b[1;33m(\u001b[0m\u001b[1;34m'M'\u001b[0m\u001b[1;33m)\u001b[0m\u001b[1;33m[\u001b[0m\u001b[1;34m'standardized_price'\u001b[0m\u001b[1;33m]\u001b[0m\u001b[1;33m.\u001b[0m\u001b[0mmean\u001b[0m\u001b[1;33m(\u001b[0m\u001b[1;33m)\u001b[0m\u001b[1;33m\u001b[0m\u001b[1;33m\u001b[0m\u001b[0m\n\u001b[0;32m      4\u001b[0m \u001b[1;33m\u001b[0m\u001b[0m\n\u001b[0;32m      5\u001b[0m \u001b[1;31m# Resetting the index\u001b[0m\u001b[1;33m\u001b[0m\u001b[1;33m\u001b[0m\u001b[1;33m\u001b[0m\u001b[0m\n",
      "\u001b[1;31mNameError\u001b[0m: name 'filtered_data' is not defined"
     ]
    }
   ],
   "source": [
    "# Grouping by 'commodity' and resample to get monthly means\n",
    "filtered_data.set_index('date', inplace=True)# Setting the date to index\n",
    "grouped = filtered_data.groupby('commodity').resample('M')['standardized_price'].mean()\n",
    "\n",
    "# Resetting the index\n",
    "grouped = grouped.reset_index()\n",
    "\n",
    "# Plotting each commodity\n",
    "commodities = grouped['commodity'].unique()\n",
    "for commodity in commodities:\n",
    "    plt.figure(figsize=(16, 2))\n",
    "    sns.lineplot(\n",
    "        data=grouped[grouped['commodity'] == commodity],\n",
    "        x='date',\n",
    "        y='standardized_price'\n",
    "    )\n",
    "    plt.title(f'Standardized Monthly Prices of {commodity} Over Time')\n",
    "    plt.xlabel('Date')\n",
    "    plt.ylabel('Standardized Price')\n",
    "    plt.grid()\n",
    "    plt.show()\n",
    "\n",
    "filtered_data = filtered_data.reset_index()\n",
    "filtered_data = filtered_data.rename(columns={\"index\":'date'})"
   ]
  },
  {
   "cell_type": "markdown",
   "metadata": {
    "id": "fnZJ0l0X8QPO"
   },
   "source": [
    "The visualizations indicate both **seasonal patterns and long-term trends** in the prices of commodities. These patterns are critical for any predictive modeling efforts.\n",
    "The fluctuations and trends can be influenced by a variety of factors including **market demand**, **supply chain issues**, **seasonal harvests**, and **broader economic conditions**.\n",
    "Our predictive model will need to account for these temporal dynamics."
   ]
  },
  {
   "cell_type": "markdown",
   "metadata": {
    "id": "EaSY89mT8QPO"
   },
   "source": [
    "### 3.3 Outlier Detection:\n",
    "Next we analyse our data to Identify any outliers since they can distort predictive modeling and can be indicative of data entry errors, unusual market conditions, or true price spikes."
   ]
  },
  {
   "cell_type": "code",
   "execution_count": 13,
   "metadata": {
    "colab": {
     "base_uri": "https://localhost:8080/"
    },
    "id": "7mm_xIy08QPO",
    "outputId": "62ea5e23-ee4b-44a0-ad06-7d662775de0f"
   },
   "outputs": [
    {
     "ename": "NameError",
     "evalue": "name 'filtered_data' is not defined",
     "output_type": "error",
     "traceback": [
      "\u001b[1;31m---------------------------------------------------------------------------\u001b[0m",
      "\u001b[1;31mNameError\u001b[0m                                 Traceback (most recent call last)",
      "\u001b[1;32m<ipython-input-13-a5f01e3436bc>\u001b[0m in \u001b[0;36m<module>\u001b[1;34m\u001b[0m\n\u001b[0;32m     12\u001b[0m \u001b[0moutliers_by_commodity\u001b[0m \u001b[1;33m=\u001b[0m \u001b[1;33m{\u001b[0m\u001b[1;33m}\u001b[0m\u001b[1;33m\u001b[0m\u001b[1;33m\u001b[0m\u001b[0m\n\u001b[0;32m     13\u001b[0m \u001b[1;33m\u001b[0m\u001b[0m\n\u001b[1;32m---> 14\u001b[1;33m \u001b[1;32mfor\u001b[0m \u001b[0mcommodity\u001b[0m \u001b[1;32min\u001b[0m \u001b[0mfiltered_data\u001b[0m\u001b[1;33m[\u001b[0m\u001b[1;34m'commodity'\u001b[0m\u001b[1;33m]\u001b[0m\u001b[1;33m.\u001b[0m\u001b[0munique\u001b[0m\u001b[1;33m(\u001b[0m\u001b[1;33m)\u001b[0m\u001b[1;33m:\u001b[0m\u001b[1;33m\u001b[0m\u001b[1;33m\u001b[0m\u001b[0m\n\u001b[0m\u001b[0;32m     15\u001b[0m     \u001b[0mcommodity_data\u001b[0m \u001b[1;33m=\u001b[0m \u001b[0mfiltered_data\u001b[0m\u001b[1;33m[\u001b[0m\u001b[0mfiltered_data\u001b[0m\u001b[1;33m[\u001b[0m\u001b[1;34m'commodity'\u001b[0m\u001b[1;33m]\u001b[0m \u001b[1;33m==\u001b[0m \u001b[0mcommodity\u001b[0m\u001b[1;33m]\u001b[0m\u001b[1;33m[\u001b[0m\u001b[1;34m'standardized_price'\u001b[0m\u001b[1;33m]\u001b[0m\u001b[1;33m\u001b[0m\u001b[1;33m\u001b[0m\u001b[0m\n\u001b[0;32m     16\u001b[0m     \u001b[0moutliers\u001b[0m \u001b[1;33m=\u001b[0m \u001b[0mdetect_outliers_iqr\u001b[0m\u001b[1;33m(\u001b[0m\u001b[0mcommodity_data\u001b[0m\u001b[1;33m)\u001b[0m\u001b[1;33m\u001b[0m\u001b[1;33m\u001b[0m\u001b[0m\n",
      "\u001b[1;31mNameError\u001b[0m: name 'filtered_data' is not defined"
     ]
    }
   ],
   "source": [
    "# Creating a function to calculate IQR and identify outliers\n",
    "def detect_outliers_iqr(data):\n",
    "    q1 = data.quantile(0.25)\n",
    "    q3 = data.quantile(0.75)\n",
    "    iqr = q3 - q1\n",
    "    lower_bound = q1 - (1.5 * iqr)\n",
    "    upper_bound = q3 + (1.5 * iqr)\n",
    "    outliers = data[(data < lower_bound) | (data > upper_bound)]\n",
    "    return outliers\n",
    "\n",
    "# We will now apply this function to each commodity group in our dataset\n",
    "outliers_by_commodity = {}\n",
    "\n",
    "for commodity in filtered_data['commodity'].unique():\n",
    "    commodity_data = filtered_data[filtered_data['commodity'] == commodity]['standardized_price']\n",
    "    outliers = detect_outliers_iqr(commodity_data)\n",
    "    outliers_by_commodity[commodity] = outliers\n",
    "\n",
    "# Displaying the outliers for each commodity\n",
    "for commodity, outliers in outliers_by_commodity.items():\n",
    "    print(f\"Outliers for {commodity}:\")\n",
    "    print(outliers)\n",
    "    print(\"\\n\")"
   ]
  },
  {
   "cell_type": "markdown",
   "metadata": {
    "id": "GcOD8oAW8QPP"
   },
   "source": [
    "* **Maize:** Numerous outliers observed between 2013 and 2023, with notable spikes in 2017 and 2023.\n",
    "Potential indicators of market stress, supply issues, or external factors impacting prices.\n",
    "* **Beans:** Outliers concentrated in 2021 and 2023, reaching up to 220 units.\n",
    "Suggestive of high demand or reduced supply, prompting further investigation into market conditions.\n",
    "* **Potatoes:** Outliers across multiple years, highest prices recorded in 2018 and 2023.\n",
    "Persistent outliers indicate recurring factors affecting the potato market, potentially linked to seasonal weather impacts.\n",
    "* **Sorghum:** Fewer outliers compared to other commodities, significant spikes in 2021 and 2023.\n",
    "* **Milk:** No outliers detected, indicating consistent milk prices without extreme spikes or dips.\n",
    "* **Oil (Vegetable):** Sporadic outliers across the dataset's timeline, significant spikes in 2018, 2022, and 2023.\n",
    "Possibly linked to global oil prices or shifts in trade policies, as vegetable oil prices are influenced by international markets. "
   ]
  },
  {
   "cell_type": "markdown",
   "metadata": {
    "id": "VAEKQhQy8QPP"
   },
   "source": [
    "* **Limitations**: Price trends in the different Districts could be affected by multiple factore includung demand and supply and Transport and Production cost. WIth that in mind, we will not be dropping the outliers in this case."
   ]
  },
  {
   "cell_type": "markdown",
   "metadata": {},
   "source": [
    "### 3.4. Analysing the Nairobi District data"
   ]
  },
  {
   "cell_type": "code",
   "execution_count": 14,
   "metadata": {
    "colab": {
     "base_uri": "https://localhost:8080/",
     "height": 332
    },
    "id": "SZbFQkST8QPQ",
    "outputId": "1dda9519-b18f-4985-b18c-93cab91bc8a4"
   },
   "outputs": [
    {
     "ename": "NameError",
     "evalue": "name 'filtered_data' is not defined",
     "output_type": "error",
     "traceback": [
      "\u001b[1;31m---------------------------------------------------------------------------\u001b[0m",
      "\u001b[1;31mNameError\u001b[0m                                 Traceback (most recent call last)",
      "\u001b[1;32m<ipython-input-14-c29a514a7adc>\u001b[0m in \u001b[0;36m<module>\u001b[1;34m\u001b[0m\n\u001b[0;32m      1\u001b[0m \u001b[1;31m# Bar plot visualization to explore the the frequency distribution of different price types within the 'Nairobi' district\u001b[0m\u001b[1;33m\u001b[0m\u001b[1;33m\u001b[0m\u001b[1;33m\u001b[0m\u001b[0m\n\u001b[1;32m----> 2\u001b[1;33m \u001b[0mdistrict_counts\u001b[0m \u001b[1;33m=\u001b[0m \u001b[0mfiltered_data\u001b[0m\u001b[1;33m[\u001b[0m\u001b[0mfiltered_data\u001b[0m\u001b[1;33m[\u001b[0m\u001b[1;34m'district'\u001b[0m\u001b[1;33m]\u001b[0m\u001b[1;33m==\u001b[0m\u001b[1;34m'Nairobi'\u001b[0m\u001b[1;33m]\u001b[0m\u001b[1;33m[\u001b[0m\u001b[1;34m'pricetype'\u001b[0m\u001b[1;33m]\u001b[0m\u001b[1;33m.\u001b[0m\u001b[0mvalue_counts\u001b[0m\u001b[1;33m(\u001b[0m\u001b[1;33m)\u001b[0m\u001b[1;33m\u001b[0m\u001b[1;33m\u001b[0m\u001b[0m\n\u001b[0m\u001b[0;32m      3\u001b[0m \u001b[1;33m\u001b[0m\u001b[0m\n\u001b[0;32m      4\u001b[0m \u001b[0mplt\u001b[0m\u001b[1;33m.\u001b[0m\u001b[0mfigure\u001b[0m\u001b[1;33m(\u001b[0m\u001b[0mfigsize\u001b[0m\u001b[1;33m=\u001b[0m\u001b[1;33m(\u001b[0m\u001b[1;36m15\u001b[0m\u001b[1;33m,\u001b[0m \u001b[1;36m7\u001b[0m\u001b[1;33m)\u001b[0m\u001b[1;33m)\u001b[0m\u001b[1;33m\u001b[0m\u001b[1;33m\u001b[0m\u001b[0m\n\u001b[0;32m      5\u001b[0m \u001b[0msns\u001b[0m\u001b[1;33m.\u001b[0m\u001b[0mbarplot\u001b[0m\u001b[1;33m(\u001b[0m\u001b[0mx\u001b[0m\u001b[1;33m=\u001b[0m\u001b[0mdistrict_counts\u001b[0m\u001b[1;33m.\u001b[0m\u001b[0mindex\u001b[0m\u001b[1;33m,\u001b[0m \u001b[0my\u001b[0m\u001b[1;33m=\u001b[0m\u001b[0mdistrict_counts\u001b[0m\u001b[1;33m.\u001b[0m\u001b[0mvalues\u001b[0m\u001b[1;33m)\u001b[0m\u001b[1;33m\u001b[0m\u001b[1;33m\u001b[0m\u001b[0m\n",
      "\u001b[1;31mNameError\u001b[0m: name 'filtered_data' is not defined"
     ]
    }
   ],
   "source": [
    "# Bar plot visualization to explore the the frequency distribution of different price types within the 'Nairobi' district \n",
    "district_counts = filtered_data[filtered_data['district']=='Nairobi']['pricetype'].value_counts()\n",
    "\n",
    "plt.figure(figsize=(15, 7))\n",
    "sns.barplot(x=district_counts.index, y=district_counts.values)\n",
    "plt.title('Frequency of Each pricetype')\n",
    "plt.xlabel('Price Type')\n",
    "plt.ylabel('Frequency')\n",
    "plt.show()"
   ]
  },
  {
   "cell_type": "markdown",
   "metadata": {},
   "source": [
    "1. Wholesale emerges as the predominant price type in the Nairobi district.\n",
    "2. This prevalence may stem from a higher concentration of data collection in markets where small-scale traders procure goods for subsequent retail sales."
   ]
  },
  {
   "cell_type": "code",
   "execution_count": null,
   "metadata": {
    "colab": {
     "base_uri": "https://localhost:8080/",
     "height": 373
    },
    "id": "XhLvsdt-8QPR",
    "outputId": "61e9310b-d38e-4305-dbe0-48e84bc652cc"
   },
   "outputs": [],
   "source": [
    "# Droping the specified columns from the  filtered_data DataFrame since we wont use the columns during the modelling stage\n",
    "columns_to_drop = ['market', 'unit', 'currency', 'price']\n",
    "filtered_data.drop(columns=columns_to_drop, inplace=True)"
   ]
  },
  {
   "cell_type": "code",
   "execution_count": null,
   "metadata": {
    "colab": {
     "base_uri": "https://localhost:8080/"
    },
    "id": "cHHvY5kz8QPR",
    "outputId": "4be8dd9d-ce19-4e6f-836d-f8c0b32832ae"
   },
   "outputs": [],
   "source": [
    "# Extracting the Nairobi district markets data from the filtered_data DataFrame\n",
    "df_nairobi = filtered_data[filtered_data['district'] == 'Nairobi']\n",
    "df_nairobi.shape"
   ]
  },
  {
   "cell_type": "code",
   "execution_count": null,
   "metadata": {},
   "outputs": [],
   "source": [
    "df_nairobi.head()"
   ]
  },
  {
   "cell_type": "code",
   "execution_count": null,
   "metadata": {},
   "outputs": [],
   "source": [
    "commodity_counts = df_nairobi['commodity'].value_counts()\n",
    "\n",
    "# Plotting\n",
    "plt.figure(figsize=(12, 6))\n",
    "ax = commodity_counts.plot(kind='bar', color='skyblue')\n",
    "\n",
    "# Adding annotations on top of the bars\n",
    "for p in ax.patches:\n",
    "    ax.annotate(str(p.get_height()), (p.get_x() + p.get_width() / 2., p.get_height()), ha='center', va='center', xytext=(0, 10), textcoords='offset points')\n",
    "\n",
    "plt.title('Number of Entries by Commodity')\n",
    "plt.xlabel('Commodity')\n",
    "plt.ylabel('Number of Entries')\n",
    "plt.xticks(rotation=0)\n",
    "plt.show()"
   ]
  },
  {
   "cell_type": "markdown",
   "metadata": {},
   "source": [
    "1. The primary commodities consumed in markets within the Nairobi district are beans, maize, and potatoes.\n",
    "2. This distribution provides insights into the preferences of customers within the district.\n",
    "3. Additionally, this pattern may be attributed to the affordability of these products and their versatility."
   ]
  },
  {
   "cell_type": "markdown",
   "metadata": {},
   "source": [
    "Since Beans had the highest entries, we'll go to the next level and prepare our beans data to build a time series model to predict it's prices before applying the same strategy to the other commodities."
   ]
  },
  {
   "cell_type": "markdown",
   "metadata": {},
   "source": [
    "## 4. Data Preprocessing "
   ]
  },
  {
   "cell_type": "code",
   "execution_count": null,
   "metadata": {},
   "outputs": [],
   "source": [
    "# Filtering the dataset for Beans in Nairobi and for wholesale prices only\n",
    "Beans_df = df_nairobi[(df_nairobi['commodity'] == 'Beans') & \n",
    "                      (df_nairobi['district'] == 'Nairobi') & \n",
    "                      (df_nairobi['pricetype'] == 'Wholesale')]\n",
    "\n",
    "# Size of the filtered dataset\n",
    "dataset_size = Beans_df.shape\n",
    "\n",
    "# Descriptive statistics for the relevant features\n",
    "descriptive_stats = Beans_df.describe(include='all')\n",
    "\n",
    "dataset_size, descriptive_stats"
   ]
  },
  {
   "cell_type": "code",
   "execution_count": null,
   "metadata": {},
   "outputs": [],
   "source": [
    "# Sorting the dataset based on the index (date)\n",
    "Beans_df.sort_index(inplace=True)\n",
    "\n",
    "# Displaying the first few rows to verify changes\n",
    "Beans_df.head()"
   ]
  },
  {
   "cell_type": "code",
   "execution_count": null,
   "metadata": {},
   "outputs": [],
   "source": [
    "# Checking for missing values in 'standardized_price'\n",
    "missing_values = Beans_df['standardized_price'].isnull().sum()\n",
    "\n",
    "# Checking the frequency of the date entries\n",
    "date_frequency = Beans_df.index.to_series().diff().unique()\n",
    "\n",
    "missing_values, date_frequency"
   ]
  },
  {
   "cell_type": "code",
   "execution_count": null,
   "metadata": {},
   "outputs": [],
   "source": [
    "# Convert 'date' to datetime format and set as index\n",
    "Beans_df.loc[:, 'date'] = pd.to_datetime(Beans_df['date'])\n",
    "Beans_df.set_index('date', inplace=True)\n",
    "\n",
    "# Sort the dataset based on the index (date)\n",
    "Beans_df.sort_index(inplace=True)\n",
    "\n",
    "# Resampling the data to a monthly frequency, taking the average of prices in each month\n",
    "monthly_Beans_df = Beans_df['standardized_price'].resample('M').mean()\n",
    "\n",
    "# Displaying the first few rows of the resampled data\n",
    "monthly_Beans_df.head()"
   ]
  },
  {
   "cell_type": "code",
   "execution_count": null,
   "metadata": {},
   "outputs": [],
   "source": [
    "# Checking for missing values in the resampled monthly data\n",
    "missing_values_monthly = monthly_Beans_df.isnull().sum()\n",
    "\n",
    "# Filling missing values with the mean (if any)\n",
    "monthly_Beans_filled_df = monthly_Beans_df.fillna(monthly_Beans_df.mean())\n",
    "\n",
    "# Rechecking for missing values after filling\n",
    "recheck_missing_values = monthly_Beans_filled_df.isnull().sum()\n",
    "\n",
    "missing_values_monthly, recheck_missing_values"
   ]
  },
  {
   "cell_type": "markdown",
   "metadata": {},
   "source": [
    "### 4.1 Checking for Stationarity "
   ]
  },
  {
   "cell_type": "code",
   "execution_count": null,
   "metadata": {},
   "outputs": [],
   "source": [
    "# Trying the Augmented Dickey-Fuller test for stationarity on the filled dataset\n",
    "adf_test_result_filled = adfuller(monthly_Beans_filled_df)\n",
    "\n",
    "# Extracting the p-value from the test results\n",
    "adf_p_value_filled = adf_test_result_filled[1]\n",
    "\n",
    "adf_p_value_filled"
   ]
  },
  {
   "cell_type": "markdown",
   "metadata": {},
   "source": [
    "The Augmented Dickey-Fuller (ADF) test on the filled dataset yields a p-value of approximately **0.97**. In the context of the ADF test:\n",
    "A high p-value (typically > 0.05) suggests that the null hypothesis of the presence of a unit root (i.e., non-stationarity) cannot be rejected. In this case our data is not stationary and we'll need to go ahead and do some transformations."
   ]
  },
  {
   "cell_type": "markdown",
   "metadata": {},
   "source": [
    "### 4.2 Differencing and decomposing"
   ]
  },
  {
   "cell_type": "code",
   "execution_count": null,
   "metadata": {},
   "outputs": [],
   "source": [
    "# Applying differencing to make the series stationary\n",
    "monthly_beans_diff = monthly_Beans_filled_df.diff().dropna()\n",
    "\n",
    "# Performing the Augmented Dickey-Fuller test again on the differenced data\n",
    "adf_test_result_diff = adfuller(monthly_beans_diff)\n",
    "adf_p_value_diff = adf_test_result_diff[1]\n",
    "\n",
    "# Seasonality and trend analysis using seasonal decomposition\n",
    "decomposition = seasonal_decompose(monthly_Beans_filled_df, model='additive')\n",
    "\n",
    "# Plotting the original series, trend, seasonal, and residual components\n",
    "plt.figure(figsize=(14, 10))\n",
    "plt.subplot(411)\n",
    "plt.plot(monthly_Beans_filled_df, label='Original', color='blue')\n",
    "plt.legend(loc='upper left')\n",
    "plt.subplot(412)\n",
    "plt.plot(decomposition.trend, label='Trend', color='orange')\n",
    "plt.legend(loc='upper left')\n",
    "plt.subplot(413)\n",
    "plt.plot(decomposition.seasonal, label='Seasonal', color='green')\n",
    "plt.legend(loc='upper left')\n",
    "plt.subplot(414)\n",
    "plt.plot(decomposition.resid, label='Residual', color='red')\n",
    "plt.legend(loc='upper left')\n",
    "plt.tight_layout()\n",
    "\n",
    "adf_p_value_diff"
   ]
  },
  {
   "cell_type": "markdown",
   "metadata": {},
   "source": [
    "## 5. Modelling\n",
    "Now that we've made our data stationary, We can proceed on to start modeling. Will first split our data to Train and test data, then build our baseline model."
   ]
  },
  {
   "cell_type": "code",
   "execution_count": null,
   "metadata": {},
   "outputs": [],
   "source": [
    "# Splitting our dataset into training and testing sets\n",
    "# We'll use 80% of the data for training and 20% for testing\n",
    "train_size = int(len(monthly_beans_diff) * 0.8)\n",
    "train_data, test_data = monthly_beans_diff[0:train_size], monthly_beans_diff[train_size:]\n",
    "\n",
    "# Checking the sizes of the training and testing sets\n",
    "train_data_size = train_data.shape[0]\n",
    "test_data_size = test_data.shape[0]\n",
    "\n",
    "train_data_size, test_data_size"
   ]
  },
  {
   "cell_type": "markdown",
   "metadata": {},
   "source": [
    "### 5.1 Baseline Model"
   ]
  },
  {
   "cell_type": "code",
   "execution_count": null,
   "metadata": {},
   "outputs": [],
   "source": [
    "from statsmodels.tsa.arima.model import ARIMA\n",
    "# Function to train and evaluate an ARIMA model\n",
    "def train_evaluate_arima(train, test, arima_order):\n",
    "    \"\"\"\n",
    "    Train an ARIMA model and evaluate its performance.\n",
    "    \n",
    "    :param train: Training dataset\n",
    "    :param test: Testing dataset\n",
    "    :param arima_order: Tuple of ARIMA parameters (p, d, q)\n",
    "    :return: Root Mean Squared Error (RMSE) of the model\n",
    "    \"\"\"\n",
    "    history = [x for x in train]\n",
    "    predictions = []\n",
    "    \n",
    "    # Walk-forward validation\n",
    "    for t in range(len(test)):\n",
    "        model = ARIMA(history, order=arima_order)\n",
    "        model_fit = model.fit()\n",
    "        yhat = model_fit.forecast()[0]\n",
    "        predictions.append(yhat)\n",
    "        history.append(test[t])\n",
    "    \n",
    "    # Calculate and return RMSE\n",
    "    rmse = np.sqrt(mean_squared_error(test, predictions))\n",
    "    return rmse, predictions"
   ]
  },
  {
   "cell_type": "code",
   "execution_count": null,
   "metadata": {},
   "outputs": [],
   "source": [
    "# Baseline ARIMA mode\n",
    "arima_order = (1, 2, 1)\n",
    "baseline_rmse, baseline_predictions = train_evaluate_arima(train_data, test_data, arima_order)\n",
    "\n",
    "baseline_rmse"
   ]
  },
  {
   "cell_type": "code",
   "execution_count": null,
   "metadata": {},
   "outputs": [],
   "source": [
    "# Fit the ARIMA model\n",
    "model = ARIMA(train_data, order=arima_order)\n",
    "model_fit = model.fit()\n",
    "\n",
    "model_fit.summary()\n",
    "\n",
    "# Visualize actual vs predicted values\n",
    "plt.figure(figsize=(12, 6))\n",
    "plt.plot(train_data, label='Train')\n",
    "plt.plot(test_data.index, test_data, label='Test')\n",
    "plt.plot(test_data.index, baseline_predictions, label='ARIMA Predictions', color='green')\n",
    "plt.title('ARIMA Model Predictions vs Actuals')\n",
    "plt.xlabel('Date')\n",
    "plt.ylabel('Standardized Price')\n",
    "plt.legend()\n",
    "plt.show()"
   ]
  },
  {
   "cell_type": "code",
   "execution_count": null,
   "metadata": {},
   "outputs": [],
   "source": [
    "# Plot diagnostics\n",
    "model_fit.plot_diagnostics(figsize=(12, 8))\n",
    "plt.suptitle('ARIMA Model Diagnostics', y=1.02)\n",
    "plt.show()"
   ]
  },
  {
   "cell_type": "markdown",
   "metadata": {},
   "source": [
    "### 5.2 Model 2"
   ]
  },
  {
   "cell_type": "code",
   "execution_count": null,
   "metadata": {},
   "outputs": [],
   "source": [
    "# SARIMA Order\n",
    "sarima_order = (1, 1, 1, 12)  # (p, d, q, S) for seasonal order - S is 12 for monthly data\n",
    "# Train and fit the SARIMA model\n",
    "sarima_model = SARIMAX(train_data, order=(2, 1, 2), seasonal_order=sarima_order)\n",
    "sarima_model_fit = sarima_model.fit(disp=False)\n",
    "sarima_model_fit.summary()\n",
    "\n",
    "# Forecasting\n",
    "sarima_forecast = sarima_model_fit.get_forecast(steps=len(test_data))\n",
    "sarima_forecast_mean = sarima_forecast.predicted_mean\n",
    "\n",
    "# Calculate RMSE\n",
    "sarima_rmse = np.sqrt(mean_squared_error(test_data, sarima_forecast_mean))\n",
    "print(f'SARIMA 1 RMSE: {sarima_rmse:.2f}')"
   ]
  },
  {
   "cell_type": "code",
   "execution_count": null,
   "metadata": {},
   "outputs": [],
   "source": [
    "# Plotting\n",
    "plt.figure(figsize=(12, 6))\n",
    "plt.plot(train_data, label='Train')\n",
    "plt.plot(test_data, label='Test')\n",
    "plt.plot(sarima_forecast_mean.index, sarima_forecast_mean, label='SARIMA Forecast')\n",
    "plt.title('SARIMA Model 1 Forecast vs Actual')\n",
    "plt.legend()\n",
    "plt.show()"
   ]
  },
  {
   "cell_type": "code",
   "execution_count": null,
   "metadata": {},
   "outputs": [],
   "source": [
    "# Plot diagnostics\n",
    "sarima_model_fit.plot_diagnostics(figsize=(12, 8))\n",
    "plt.suptitle('SARIMA Model 1 Diagnostics', y=1.02)\n",
    "plt.show()"
   ]
  },
  {
   "cell_type": "markdown",
   "metadata": {},
   "source": [
    "### 5.3 Model 3"
   ]
  },
  {
   "cell_type": "code",
   "execution_count": null,
   "metadata": {},
   "outputs": [],
   "source": [
    "# SARIMA Order\n",
    "sarima_order = (1, 2, 1, 12)  # (p, d, q, S) for seasonal order - S is 12 for monthly data\n",
    "# Train and fit the SARIMA model\n",
    "sarima_model = SARIMAX(train_data, order=(2, 1, 2), seasonal_order=sarima_order)\n",
    "sarima_model_fit2 = sarima_model.fit(disp=False)\n",
    "sarima_model_fit2.summary()\n",
    "\n",
    "# Forecasting\n",
    "sarima_forecast = sarima_model_fit2.get_forecast(steps=len(test_data))\n",
    "sarima_forecast_mean2 = sarima_forecast.predicted_mean\n",
    "\n",
    "# Calculating RMSE\n",
    "sarima_rmse = np.sqrt(mean_squared_error(test_data, sarima_forecast_mean2))\n",
    "print(f'SARIMA 2 RMSE: {sarima_rmse:.2f}')"
   ]
  },
  {
   "cell_type": "code",
   "execution_count": null,
   "metadata": {},
   "outputs": [],
   "source": [
    "# Plotting\n",
    "plt.figure(figsize=(12, 6))\n",
    "plt.plot(train_data, label='Train')\n",
    "plt.plot(test_data, label='Test')\n",
    "plt.plot(sarima_forecast_mean.index, sarima_forecast_mean2, label='SARIMA Forecast')\n",
    "plt.title('SARIMA Model 2 Forecast vs Actual')\n",
    "plt.legend()\n",
    "plt.show()"
   ]
  },
  {
   "cell_type": "code",
   "execution_count": null,
   "metadata": {},
   "outputs": [],
   "source": [
    "# Plot diagnostics\n",
    "sarima_model_fit2.plot_diagnostics(figsize=(12, 8))\n",
    "plt.suptitle('SARIMA Model 2 Diagnostics', y=1.02)\n",
    "plt.show()"
   ]
  },
  {
   "cell_type": "code",
   "execution_count": null,
   "metadata": {},
   "outputs": [],
   "source": [
    "# SARIMA Order\n",
    "sarima_order = (1, 2, 1, 12)  # (p, d, q, S) for seasonal order - S is 12 for monthly data\n",
    "# Train and fit the SARIMA model\n",
    "sarima_model = SARIMAX(train_data, order=(1, 0, 2), seasonal_order=sarima_order)\n",
    "sarima_model_fit3 = sarima_model.fit(disp=False)\n",
    "sarima_model_fit3.summary()\n",
    "\n",
    "# Forecasting\n",
    "sarima_forecast = sarima_model_fit3.get_forecast(steps=len(test_data))\n",
    "sarima_forecast_mean3 = sarima_forecast.predicted_mean\n",
    "\n",
    "# Calculating RMSE\n",
    "sarima_rmse = np.sqrt(mean_squared_error(test_data, sarima_forecast_mean3))\n",
    "print(f'SARIMA 3 RMSE: {sarima_rmse:.2f}')\n",
    "\n",
    "# Plotting\n",
    "plt.figure(figsize=(12, 6))\n",
    "plt.plot(train_data, label='Train')\n",
    "plt.plot(test_data, label='Test')\n",
    "plt.plot(sarima_forecast_mean.index, sarima_forecast_mean3, label='SARIMA Forecast')\n",
    "plt.title('SARIMA Model 3 Forecast vs Actual')\n",
    "plt.legend()\n",
    "plt.show()"
   ]
  },
  {
   "cell_type": "code",
   "execution_count": null,
   "metadata": {},
   "outputs": [],
   "source": [
    "# Plotting diagnostics\n",
    "sarima_model_fit3.plot_diagnostics(figsize=(16, 9))\n",
    "plt.suptitle('SARIMA Model 3 Diagnostics')\n",
    "plt.show()"
   ]
  },
  {
   "cell_type": "markdown",
   "metadata": {},
   "source": [
    "# 6. Evaluation"
   ]
  },
  {
   "cell_type": "markdown",
   "metadata": {},
   "source": [
    "We will be using the Root Mean Squared Error (RMSE) to evaluate our models since it is a widely used metric in regression and time series forecasting that measures the square root of the average of the squares of the errors — in other words, it is the square root of the average squared differences between the predicted values and the observed actual values. A lower RMSE value denotes a closer fit of the model to the data and suggests better predictive accuracy. RMSE gives a relatively high weight to large errors, meaning that models with large but infrequent errors will be penalized more than models with frequent but small errors."
   ]
  },
  {
   "cell_type": "markdown",
   "metadata": {},
   "source": [
    "In this section, we evaluate the performance of our time series forecasting models. We have developed several models, starting with a baseline ARIMA model and followed by three different Seasonal ARIMA (SARIMA) models. Each model's performance has been quantified using the Root Mean Squared Error (RMSE), which measures the average magnitude of the forecasting errors.\n",
    "\n",
    "### Baseline ARIMA Model\n",
    "- **RMSE**: 13.8997\n",
    "- The baseline ARIMA model does not incorporate seasonality, which is a crucial aspect of our dataset. As expected, the RMSE is higher, indicating a less accurate model compared to the seasonal models.\n",
    "\n",
    "### SARIMA Model 1\n",
    "- **RMSE**: 11.66\n",
    "- Introducing seasonality into the model improves accuracy as evidenced by a lower RMSE. This model provides a better fit to the data compared to the baseline ARIMA model, confirming the importance of accounting for seasonal variations.\n",
    "\n",
    "### SARIMA Model 2\n",
    "- **RMSE**: 11.60\n",
    "- With further adjustments to capture seasonal behavior more effectively, SARIMA Model 2 shows a small improvement over SARIMA Model 1. This incremental gain suggests that we are moving towards a more refined model.\n",
    "\n",
    "### SARIMA Model 3\n",
    "- **RMSE**: 11.58\n",
    "- SARIMA Model 3 achieves the lowest RMSE among the models we tested, indicating the highest forecasting accuracy. The slight improvement over SARIMA Model 2 suggests that the additional complexity or changes in the model parameters are capturing the underlying seasonal patterns just a bit more closely.\n",
    "\n",
    "### Summary\n",
    "The consistent reduction in RMSE from the baseline ARIMA to the SARIMA models demonstrates the value of incorporating seasonal elements into our forecasts. The differences between the SARIMA models' RMSE values are modest, and each step of refinement yields only minor improvements. It is crucial to balance the complexity of the model against the practicality and interpretability of the results. In some scenarios, the simplest model that provides acceptable accuracy is preferred for ease of use and understanding."
   ]
  },
  {
   "cell_type": "markdown",
   "metadata": {},
   "source": [
    "# 7. Conclusion"
   ]
  },
  {
   "cell_type": "markdown",
   "metadata": {},
   "source": [
    "Throughout our analysis, we have observed the impact of incorporating seasonality into our time series models. The improvement in RMSE from the Baseline ARIMA model to the SARIMA models validates our hypothesis that seasonality is a significant component of our dataset.\n",
    "\n",
    "The Baseline ARIMA model, without accounting for seasonality, had the highest RMSE, indicating a less accurate model. Each subsequent SARIMA model, which incorporated seasonal elements, showed a decrease in RMSE, underscoring the importance of capturing seasonal patterns.\n",
    "\n",
    "Despite the progressive enhancements, the RMSE differences between the SARIMA models were relatively minor. SARIMA Model 3, while yielding the lowest RMSE, offered only a slight improvement over SARIMA Model 2. This marginal gain needs to be considered in the context of model complexity and operational efficiency.\n",
    "\n",
    "The model diagnostics have confirmed that the residuals of all models exhibit no significant autocorrelations and are well approximated by a normal distribution, indicating that the models are well-specified and the underlying assumptions are reasonable.\n",
    "\n",
    "Moving forward, the selection of the final model should not be based solely on RMSE. We must also consider the complexity, interpretability, and computational demands of the model. In practical terms, a simpler model that offers sufficient forecasting accuracy may be preferred for its ease of use and understanding. While SARIMA Model 3 has the statistical edge, SARIMA Model 1 or 2 may provide the best balance between accuracy and simplicity for our operational needs."
   ]
  },
  {
   "cell_type": "markdown",
   "metadata": {},
   "source": [
    "# 8. Recommendations "
   ]
  },
  {
   "cell_type": "code",
   "execution_count": null,
   "metadata": {},
   "outputs": [],
   "source": []
  },
  {
   "cell_type": "markdown",
   "metadata": {},
   "source": [
    "# 9. DATA LIMITATIONS\n",
    "\n",
    "a) **Data Quality:** The accuracy and reliability of the analysis heavily depend on the quality of the available data. Inaccuracies or missing data points for some market  could impact the validity and accuracy of our timeseries forecasting.\n",
    "\n",
    "b) **External Factors:** Unforeseen external factors, such as extreme weather events or economic shocks, may not be fully captured in the dataset but can significantly influence commodity prices.\n",
    "\n",
    "c) **Model Limitations:** The forecasting models used (ARIMA and SARIMA) may have inherent limitations and assumptions. Continuous validation and adjustment may be necessary as market dynamics evolve.\n",
    "\n",
    "d) **Socioeconomic Factors:** The analysis might not fully capture the impact of socioeconomic factors on market dynamics, which could affect the practicality of the recommendations given above."
   ]
  },
  {
   "cell_type": "markdown",
   "metadata": {},
   "source": [
    "# Saving our Models to test practicality when deployed"
   ]
  },
  {
   "cell_type": "code",
   "execution_count": null,
   "metadata": {},
   "outputs": [],
   "source": [
    "import joblib\n",
    "\n",
    "# Fit the SARIMA model to the entire dataset (after differencing and handling stationarity)\n",
    "sarima_model_full = SARIMAX(monthly_Beans_df.diff(1).dropna(), order=(1, 0, 2), seasonal_order=(1, 2, 1, 12))\n",
    "sarima_model_fit_full = sarima_model_full.fit(disp=False)\n",
    "# Save the model\n",
    "joblib.dump(sarima_model_fit_full, 'sarima_beans_model.pkl')\n",
    "\n",
    "# Fit the SARIMA model to the entire dataset (after differencing and handling stationarity)\n",
    "sarima_model_full2 = SARIMAX(monthly_Beans_df.diff(1).dropna(), order=(2, 1, 2), seasonal_order=(1, 2, 1, 12))\n",
    "sarima_model_fit_full2 = sarima_model_full2.fit(disp=False)\n",
    "# Save the model\n",
    "joblib.dump(sarima_model_fit_full2, 'sarima_beans_model2.pkl')\n",
    "\n",
    "# Fit the SARIMA model to the entire dataset (after differencing and handling stationarity)\n",
    "sarima_model_full3 = SARIMAX(monthly_Beans_df.diff(1).dropna(), order=(2, 1, 2), seasonal_order=(1, 1, 1, 12))\n",
    "sarima_model_fit_full3 = sarima_model_full3.fit(disp=False)\n",
    "# Save the model\n",
    "joblib.dump(sarima_model_fit_full3, 'sarima_beans_model3.pkl')\n"
   ]
  },
  {
   "cell_type": "code",
   "execution_count": null,
   "metadata": {},
   "outputs": [],
   "source": [
    "#Function to predict the prices\n",
    "def predict_price(model_fit, start_date, end_date, initial_value):\n",
    "    # Forecast future prices\n",
    "    forecast = model_fit.get_prediction(start=pd.to_datetime(start_date), end=pd.to_datetime(end_date))\n",
    "    forecast_mean = forecast.predicted_mean\n",
    "    \n",
    "    # Undoing the differencing\n",
    "    # Since we took the first difference, we just need to add the last known value to all differences\n",
    "    forecast_mean_cumsum = forecast_mean.cumsum()\n",
    "    forecast_prices = initial_value + forecast_mean_cumsum\n",
    "    \n",
    "    return forecast_prices"
   ]
  }
 ],
 "metadata": {
  "colab": {
   "provenance": []
  },
  "kernelspec": {
   "display_name": "Python 3",
   "language": "python",
   "name": "python3"
  },
  "language_info": {
   "codemirror_mode": {
    "name": "ipython",
    "version": 3
   },
   "file_extension": ".py",
   "mimetype": "text/x-python",
   "name": "python",
   "nbconvert_exporter": "python",
   "pygments_lexer": "ipython3",
   "version": "3.8.5"
  },
  "widgets": {
   "application/vnd.jupyter.widget-state+json": {
    "3702b8f7903b403c89308a191aa89653": {
     "model_module": "@jupyter-widgets/base",
     "model_module_version": "1.2.0",
     "model_name": "LayoutModel",
     "state": {
      "_model_module": "@jupyter-widgets/base",
      "_model_module_version": "1.2.0",
      "_model_name": "LayoutModel",
      "_view_count": null,
      "_view_module": "@jupyter-widgets/base",
      "_view_module_version": "1.2.0",
      "_view_name": "LayoutView",
      "align_content": null,
      "align_items": null,
      "align_self": null,
      "border": null,
      "bottom": null,
      "display": null,
      "flex": null,
      "flex_flow": null,
      "grid_area": null,
      "grid_auto_columns": null,
      "grid_auto_flow": null,
      "grid_auto_rows": null,
      "grid_column": null,
      "grid_gap": null,
      "grid_row": null,
      "grid_template_areas": null,
      "grid_template_columns": null,
      "grid_template_rows": null,
      "height": null,
      "justify_content": null,
      "justify_items": null,
      "left": null,
      "margin": null,
      "max_height": null,
      "max_width": null,
      "min_height": null,
      "min_width": null,
      "object_fit": null,
      "object_position": null,
      "order": null,
      "overflow": null,
      "overflow_x": null,
      "overflow_y": null,
      "padding": null,
      "right": null,
      "top": null,
      "visibility": null,
      "width": null
     }
    },
    "6b723975da754c0cbc090d75be1d7a30": {
     "model_module": "@jupyter-widgets/controls",
     "model_module_version": "1.5.0",
     "model_name": "HTMLModel",
     "state": {
      "_dom_classes": [],
      "_model_module": "@jupyter-widgets/controls",
      "_model_module_version": "1.5.0",
      "_model_name": "HTMLModel",
      "_view_count": null,
      "_view_module": "@jupyter-widgets/controls",
      "_view_module_version": "1.5.0",
      "_view_name": "HTMLView",
      "description": "",
      "description_tooltip": null,
      "layout": "IPY_MODEL_f4d6ad9c58a445859375cd5be4575fa5",
      "placeholder": "​",
      "style": "IPY_MODEL_9f668bde98734be6b517a7ab6ac820ca",
      "value": "100%"
     }
    },
    "8be4131a19124cb5a69268b8b80f1467": {
     "model_module": "@jupyter-widgets/base",
     "model_module_version": "1.2.0",
     "model_name": "LayoutModel",
     "state": {
      "_model_module": "@jupyter-widgets/base",
      "_model_module_version": "1.2.0",
      "_model_name": "LayoutModel",
      "_view_count": null,
      "_view_module": "@jupyter-widgets/base",
      "_view_module_version": "1.2.0",
      "_view_name": "LayoutView",
      "align_content": null,
      "align_items": null,
      "align_self": null,
      "border": null,
      "bottom": null,
      "display": null,
      "flex": null,
      "flex_flow": null,
      "grid_area": null,
      "grid_auto_columns": null,
      "grid_auto_flow": null,
      "grid_auto_rows": null,
      "grid_column": null,
      "grid_gap": null,
      "grid_row": null,
      "grid_template_areas": null,
      "grid_template_columns": null,
      "grid_template_rows": null,
      "height": null,
      "justify_content": null,
      "justify_items": null,
      "left": null,
      "margin": null,
      "max_height": null,
      "max_width": null,
      "min_height": null,
      "min_width": null,
      "object_fit": null,
      "object_position": null,
      "order": null,
      "overflow": null,
      "overflow_x": null,
      "overflow_y": null,
      "padding": null,
      "right": null,
      "top": null,
      "visibility": null,
      "width": null
     }
    },
    "8f94939b85534e44b874313d339ac11f": {
     "model_module": "@jupyter-widgets/controls",
     "model_module_version": "1.5.0",
     "model_name": "DescriptionStyleModel",
     "state": {
      "_model_module": "@jupyter-widgets/controls",
      "_model_module_version": "1.5.0",
      "_model_name": "DescriptionStyleModel",
      "_view_count": null,
      "_view_module": "@jupyter-widgets/base",
      "_view_module_version": "1.2.0",
      "_view_name": "StyleView",
      "description_width": ""
     }
    },
    "96e6d66c9c144fc583b682aa05f58a7a": {
     "model_module": "@jupyter-widgets/controls",
     "model_module_version": "1.5.0",
     "model_name": "FloatProgressModel",
     "state": {
      "_dom_classes": [],
      "_model_module": "@jupyter-widgets/controls",
      "_model_module_version": "1.5.0",
      "_model_name": "FloatProgressModel",
      "_view_count": null,
      "_view_module": "@jupyter-widgets/controls",
      "_view_module_version": "1.5.0",
      "_view_name": "ProgressView",
      "bar_style": "success",
      "description": "",
      "description_tooltip": null,
      "layout": "IPY_MODEL_ca5bbacddd0d4363b90e518225e911e0",
      "max": 30,
      "min": 0,
      "orientation": "horizontal",
      "style": "IPY_MODEL_ce368587acfb49238bfa380753ca5dcb",
      "value": 30
     }
    },
    "9f668bde98734be6b517a7ab6ac820ca": {
     "model_module": "@jupyter-widgets/controls",
     "model_module_version": "1.5.0",
     "model_name": "DescriptionStyleModel",
     "state": {
      "_model_module": "@jupyter-widgets/controls",
      "_model_module_version": "1.5.0",
      "_model_name": "DescriptionStyleModel",
      "_view_count": null,
      "_view_module": "@jupyter-widgets/base",
      "_view_module_version": "1.2.0",
      "_view_name": "StyleView",
      "description_width": ""
     }
    },
    "a3d4069c60e242ef8dcc06b6a5890015": {
     "model_module": "@jupyter-widgets/controls",
     "model_module_version": "1.5.0",
     "model_name": "HBoxModel",
     "state": {
      "_dom_classes": [],
      "_model_module": "@jupyter-widgets/controls",
      "_model_module_version": "1.5.0",
      "_model_name": "HBoxModel",
      "_view_count": null,
      "_view_module": "@jupyter-widgets/controls",
      "_view_module_version": "1.5.0",
      "_view_name": "HBoxView",
      "box_style": "",
      "children": [
       "IPY_MODEL_6b723975da754c0cbc090d75be1d7a30",
       "IPY_MODEL_96e6d66c9c144fc583b682aa05f58a7a",
       "IPY_MODEL_d312708f74c441cda62c425125e90782"
      ],
      "layout": "IPY_MODEL_8be4131a19124cb5a69268b8b80f1467"
     }
    },
    "ca5bbacddd0d4363b90e518225e911e0": {
     "model_module": "@jupyter-widgets/base",
     "model_module_version": "1.2.0",
     "model_name": "LayoutModel",
     "state": {
      "_model_module": "@jupyter-widgets/base",
      "_model_module_version": "1.2.0",
      "_model_name": "LayoutModel",
      "_view_count": null,
      "_view_module": "@jupyter-widgets/base",
      "_view_module_version": "1.2.0",
      "_view_name": "LayoutView",
      "align_content": null,
      "align_items": null,
      "align_self": null,
      "border": null,
      "bottom": null,
      "display": null,
      "flex": null,
      "flex_flow": null,
      "grid_area": null,
      "grid_auto_columns": null,
      "grid_auto_flow": null,
      "grid_auto_rows": null,
      "grid_column": null,
      "grid_gap": null,
      "grid_row": null,
      "grid_template_areas": null,
      "grid_template_columns": null,
      "grid_template_rows": null,
      "height": null,
      "justify_content": null,
      "justify_items": null,
      "left": null,
      "margin": null,
      "max_height": null,
      "max_width": null,
      "min_height": null,
      "min_width": null,
      "object_fit": null,
      "object_position": null,
      "order": null,
      "overflow": null,
      "overflow_x": null,
      "overflow_y": null,
      "padding": null,
      "right": null,
      "top": null,
      "visibility": null,
      "width": null
     }
    },
    "ce368587acfb49238bfa380753ca5dcb": {
     "model_module": "@jupyter-widgets/controls",
     "model_module_version": "1.5.0",
     "model_name": "ProgressStyleModel",
     "state": {
      "_model_module": "@jupyter-widgets/controls",
      "_model_module_version": "1.5.0",
      "_model_name": "ProgressStyleModel",
      "_view_count": null,
      "_view_module": "@jupyter-widgets/base",
      "_view_module_version": "1.2.0",
      "_view_name": "StyleView",
      "bar_color": null,
      "description_width": ""
     }
    },
    "d312708f74c441cda62c425125e90782": {
     "model_module": "@jupyter-widgets/controls",
     "model_module_version": "1.5.0",
     "model_name": "HTMLModel",
     "state": {
      "_dom_classes": [],
      "_model_module": "@jupyter-widgets/controls",
      "_model_module_version": "1.5.0",
      "_model_name": "HTMLModel",
      "_view_count": null,
      "_view_module": "@jupyter-widgets/controls",
      "_view_module_version": "1.5.0",
      "_view_name": "HTMLView",
      "description": "",
      "description_tooltip": null,
      "layout": "IPY_MODEL_3702b8f7903b403c89308a191aa89653",
      "placeholder": "​",
      "style": "IPY_MODEL_8f94939b85534e44b874313d339ac11f",
      "value": " 30/30 [00:06&lt;00:00,  5.20it/s]"
     }
    },
    "f4d6ad9c58a445859375cd5be4575fa5": {
     "model_module": "@jupyter-widgets/base",
     "model_module_version": "1.2.0",
     "model_name": "LayoutModel",
     "state": {
      "_model_module": "@jupyter-widgets/base",
      "_model_module_version": "1.2.0",
      "_model_name": "LayoutModel",
      "_view_count": null,
      "_view_module": "@jupyter-widgets/base",
      "_view_module_version": "1.2.0",
      "_view_name": "LayoutView",
      "align_content": null,
      "align_items": null,
      "align_self": null,
      "border": null,
      "bottom": null,
      "display": null,
      "flex": null,
      "flex_flow": null,
      "grid_area": null,
      "grid_auto_columns": null,
      "grid_auto_flow": null,
      "grid_auto_rows": null,
      "grid_column": null,
      "grid_gap": null,
      "grid_row": null,
      "grid_template_areas": null,
      "grid_template_columns": null,
      "grid_template_rows": null,
      "height": null,
      "justify_content": null,
      "justify_items": null,
      "left": null,
      "margin": null,
      "max_height": null,
      "max_width": null,
      "min_height": null,
      "min_width": null,
      "object_fit": null,
      "object_position": null,
      "order": null,
      "overflow": null,
      "overflow_x": null,
      "overflow_y": null,
      "padding": null,
      "right": null,
      "top": null,
      "visibility": null,
      "width": null
     }
    }
   }
  }
 },
 "nbformat": 4,
 "nbformat_minor": 1
}
