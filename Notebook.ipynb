{
 "cells": [
  {
   "cell_type": "markdown",
   "metadata": {},
   "source": [
    "# **Food Commodity Prices Analysis and Forecasting in Kenya**\n",
    "\n",
    "**By:** Charles Kagwanja   **|**   Kevin Kagia  |   Lucy Njambi  | \n",
    " Mwenda Mugambi\n",
    "\n",
    "\n",
    "---\n"
   ]
  },
  {
   "cell_type": "markdown",
   "metadata": {},
   "source": [
    "## **Introduction**\n",
    "The focus of this project is to analyze and predict the dynamics of food commodity prices in various regions of Kenya. This initiative is essential in a country where agriculture is not only a key economic driver but also vital to the sustenance of its population. The fluctuation in food prices significantly impacts consumers, retailers, farmers, and policymakers. Understanding these price trends and being able to forecast future changes are crucial for effective agricultural planning, budgeting, and policy-making."
   ]
  },
  {
   "cell_type": "markdown",
   "metadata": {},
   "source": [
    "### Why This Project Matters\n",
    "\n",
    "1. **Economic Impact on Farmers and Producers**: Empowering farmers with the knowledge of future price trends, which can guide their crop production and marketing strategies.\n",
    "\n",
    "2. **Consumer Protection and Budgeting**: Assisting consumers, especially in lower-income groups, to better plan their food budgets.\n",
    "\n",
    "3. **Policy Making and Food Security**: Enabling policymakers to formulate strategies that can stabilize food markets and ensure food security.\n",
    "\n",
    "4. **Retail and Distribution Management**: Helping retailers and distributors in optimizing their inventory and pricing strategies.\n",
    "\n",
    "5. **Aid and Intervention Planning**: Assisting NGOs and international organizations in planning and distributing aid more effectively.\n",
    "\n",
    "6. **Market Stability and Investment**: Attracting investment in the agricultural sector by providing a clearer understanding of market dynamics.\n",
    "\n",
    "7. **Research and Development**: Contributing to academic and practical research in market dynamics and agricultural economics.\n",
    "\n",
    "### Goals of the Project\n",
    "\n",
    "- **Analyzing Price Trends and Seasonality**: Identify historical patterns in commodity prices across different markets in Kenya.\n",
    "- **Understanding Regional Variations**: Examine price differences across various regions to understand market dynamics.\n",
    "- **Forecasting Future Prices**: Develop models to predict future commodity prices.\n",
    "\n",
    "\n",
    "### Primary Stakeholders\n",
    "\n",
    "- Kenyan Ministry of Agriculture\n",
    "- Farmers' Associations and Agricultural Cooperatives\n",
    "- Retailers and Market Analysts\n",
    "- Non-Governmental Organizations and International Bodies\n",
    "- The General Public"
   ]
  },
  {
   "cell_type": "markdown",
   "metadata": {},
   "source": [
    "## **Business Understanding**\n",
    "\n",
    "This project aims to provide actionable insights into the trends and future predictions of food commodity prices in Kenya. By leveraging data science and time series forecasting methods, this project seeks to contribute towards more stable and predictable food markets in Kenya."
   ]
  },
  {
   "cell_type": "markdown",
   "metadata": {},
   "source": [
    "## **Data Understanding**\n",
    "### Data Source\n",
    "\n",
    "The dataset for this project was obtained from the Humanitarian Data Exchange (HDX), specifically from the World Food Programme's food price database for Kenya. The dataset can be accessed [here](https://data.humdata.org/dataset/wfp-food-prices-for-kenya).\n",
    "\n",
    "This dataset is particularly suitable for our analysis due to the following reasons:\n",
    "1. **Comprehensiveness**: It covers a wide range of food commodities and spans multiple regions within Kenya.\n",
    "2. **Relevance**: The data directly relates to the prices of food commodities, which is the central focus of our project.\n",
    "3. **Timeliness**: The dataset includes recent data, which is crucial for accurate forecasting.\n",
    "\n",
    "First, we'll load the dataset and take a preliminary look at its structure, types of data it contains, and any initial observations we can make about it."
   ]
  },
  {
   "cell_type": "code",
   "execution_count": 1,
   "metadata": {},
   "outputs": [],
   "source": [
    "# Importing necessary Libraries\n",
    "import numpy as np\n",
    "import pandas as pd\n",
    "import seaborn as sns\n",
    "import matplotlib.pyplot as plt\n",
    "\n",
    "from statsmodels.tsa.arima_model import ARIMA\n",
    "from statsmodels.tsa.stattools import adfuller\n",
    "from statsmodels.tsa.seasonal import seasonal_decompose\n",
    "\n",
    "from sklearn.model_selection import train_test_split\n",
    "from sklearn.metrics import mean_squared_error, mean_absolute_error\n",
    "\n",
    "%matplotlib inline\n",
    "import warnings\n",
    "warnings.filterwarnings('ignore')"
   ]
  },
  {
   "cell_type": "markdown",
   "metadata": {},
   "source": [
    "### Dataset Overview\n",
    "Here, we will load the dataset and present its size, and an overview of its features."
   ]
  },
  {
   "cell_type": "code",
   "execution_count": 2,
   "metadata": {},
   "outputs": [
    {
     "name": "stdout",
     "output_type": "stream",
     "text": [
      "\n",
      "The dataset contains 15736 rows and 14 columns.\n",
      "\n"
     ]
    }
   ],
   "source": [
    "# Loading the dataset\n",
    "data = pd.read_csv('Data/wfp_food_prices_ken.csv')\n",
    "\n",
    "# Checking the size of the dataset\n",
    "print(f\"\\nThe dataset contains {data.shape[0]} rows and {data.shape[1]} columns.\\n\")"
   ]
  },
  {
   "cell_type": "code",
   "execution_count": 3,
   "metadata": {
    "scrolled": true
   },
   "outputs": [
    {
     "data": {
      "text/plain": [
       "Index(['date', 'admin1', 'admin2', 'market', 'latitude', 'longitude',\n",
       "       'category', 'commodity', 'unit', 'priceflag', 'pricetype', 'currency',\n",
       "       'price', 'usdprice'],\n",
       "      dtype='object')"
      ]
     },
     "execution_count": 3,
     "metadata": {},
     "output_type": "execute_result"
    }
   ],
   "source": [
    "# Checking the columns in our dataframe\n",
    "data.columns"
   ]
  },
  {
   "cell_type": "markdown",
   "metadata": {},
   "source": [
    "#### **Column Descriptions**\n",
    "- <code><b>(date):</b></code>, Indicates the date of the price recording\n",
    "- <code><b>Administrative Levels (admin1, admin2):</b></code>, Geographical categorizations, Representing different regions and sub-regions in Kenya.\n",
    "- <code><b>(market):</b></code>,  The specific market where prices were recorded.\n",
    "- <code><b>(latitude, longitude): </b></code>,  The geographical location of each market.\n",
    "- <code><b> (category): </b></code>, The type of food commodity (e.g., cereals, pulses).\n",
    "- <code><b> (commodity): </b></code>, The specific food item (e.g., Maize, Beans).\n",
    "- <code><b> (unit): </b></code>,The unit of measurement for the price.\n",
    "- <code><b> (priceflag): </b></code>, Indicates the nature of the price data (e.g., actual, estimated).\n",
    "- <code><b> (pricetype): </b></code>, Whether the price is retail or wholesale.\n",
    "- <code><b> (currency):</b></code>, The currency in which the price is given.\n",
    "- <code><b> (price): </b></code>, The price of the commodity in Kenyan Shillings.\n",
    "- <code><b> (usdprice): </b></code>,  The price converted to US Dollars."
   ]
  },
  {
   "cell_type": "code",
   "execution_count": 4,
   "metadata": {},
   "outputs": [
    {
     "name": "stdout",
     "output_type": "stream",
     "text": [
      "<class 'pandas.core.frame.DataFrame'>\n",
      "RangeIndex: 15736 entries, 0 to 15735\n",
      "Data columns (total 14 columns):\n",
      " #   Column     Non-Null Count  Dtype \n",
      "---  ------     --------------  ----- \n",
      " 0   date       15736 non-null  object\n",
      " 1   admin1     15736 non-null  object\n",
      " 2   admin2     15736 non-null  object\n",
      " 3   market     15736 non-null  object\n",
      " 4   latitude   15736 non-null  object\n",
      " 5   longitude  15736 non-null  object\n",
      " 6   category   15736 non-null  object\n",
      " 7   commodity  15736 non-null  object\n",
      " 8   unit       15736 non-null  object\n",
      " 9   priceflag  15736 non-null  object\n",
      " 10  pricetype  15736 non-null  object\n",
      " 11  currency   15736 non-null  object\n",
      " 12  price      15736 non-null  object\n",
      " 13  usdprice   15736 non-null  object\n",
      "dtypes: object(14)\n",
      "memory usage: 1.7+ MB\n"
     ]
    }
   ],
   "source": [
    "# Displaying general information about the dataset \n",
    "# to confirm if the datatypes in the description match the expected entries in our dataset\n",
    "data.info()"
   ]
  },
  {
   "cell_type": "code",
   "execution_count": 5,
   "metadata": {},
   "outputs": [
    {
     "data": {
      "text/html": [
       "<div>\n",
       "<style scoped>\n",
       "    .dataframe tbody tr th:only-of-type {\n",
       "        vertical-align: middle;\n",
       "    }\n",
       "\n",
       "    .dataframe tbody tr th {\n",
       "        vertical-align: top;\n",
       "    }\n",
       "\n",
       "    .dataframe thead th {\n",
       "        text-align: right;\n",
       "    }\n",
       "</style>\n",
       "<table border=\"1\" class=\"dataframe\">\n",
       "  <thead>\n",
       "    <tr style=\"text-align: right;\">\n",
       "      <th></th>\n",
       "      <th>date</th>\n",
       "      <th>admin1</th>\n",
       "      <th>admin2</th>\n",
       "      <th>market</th>\n",
       "      <th>latitude</th>\n",
       "      <th>longitude</th>\n",
       "      <th>category</th>\n",
       "      <th>commodity</th>\n",
       "      <th>unit</th>\n",
       "      <th>priceflag</th>\n",
       "      <th>pricetype</th>\n",
       "      <th>currency</th>\n",
       "      <th>price</th>\n",
       "      <th>usdprice</th>\n",
       "    </tr>\n",
       "  </thead>\n",
       "  <tbody>\n",
       "    <tr>\n",
       "      <th>0</th>\n",
       "      <td>#date</td>\n",
       "      <td>#adm1+name</td>\n",
       "      <td>#adm2+name</td>\n",
       "      <td>#loc+market+name</td>\n",
       "      <td>#geo+lat</td>\n",
       "      <td>#geo+lon</td>\n",
       "      <td>#item+type</td>\n",
       "      <td>#item+name</td>\n",
       "      <td>#item+unit</td>\n",
       "      <td>#item+price+flag</td>\n",
       "      <td>#item+price+type</td>\n",
       "      <td>#currency</td>\n",
       "      <td>#value</td>\n",
       "      <td>#value+usd</td>\n",
       "    </tr>\n",
       "    <tr>\n",
       "      <th>1</th>\n",
       "      <td>2006-01-15</td>\n",
       "      <td>Coast</td>\n",
       "      <td>Mombasa</td>\n",
       "      <td>Mombasa</td>\n",
       "      <td>-4.05</td>\n",
       "      <td>39.666667</td>\n",
       "      <td>cereals and tubers</td>\n",
       "      <td>Maize (white)</td>\n",
       "      <td>90 KG</td>\n",
       "      <td>actual</td>\n",
       "      <td>Wholesale</td>\n",
       "      <td>KES</td>\n",
       "      <td>1480.0</td>\n",
       "      <td>20.5041</td>\n",
       "    </tr>\n",
       "    <tr>\n",
       "      <th>2</th>\n",
       "      <td>2006-01-15</td>\n",
       "      <td>Coast</td>\n",
       "      <td>Mombasa</td>\n",
       "      <td>Mombasa</td>\n",
       "      <td>-4.05</td>\n",
       "      <td>39.666667</td>\n",
       "      <td>pulses and nuts</td>\n",
       "      <td>Beans</td>\n",
       "      <td>KG</td>\n",
       "      <td>actual</td>\n",
       "      <td>Wholesale</td>\n",
       "      <td>KES</td>\n",
       "      <td>33.63</td>\n",
       "      <td>0.4659</td>\n",
       "    </tr>\n",
       "    <tr>\n",
       "      <th>3</th>\n",
       "      <td>2006-01-15</td>\n",
       "      <td>Coast</td>\n",
       "      <td>Mombasa</td>\n",
       "      <td>Mombasa</td>\n",
       "      <td>-4.05</td>\n",
       "      <td>39.666667</td>\n",
       "      <td>pulses and nuts</td>\n",
       "      <td>Beans (dry)</td>\n",
       "      <td>90 KG</td>\n",
       "      <td>actual</td>\n",
       "      <td>Wholesale</td>\n",
       "      <td>KES</td>\n",
       "      <td>3246.0</td>\n",
       "      <td>44.9705</td>\n",
       "    </tr>\n",
       "    <tr>\n",
       "      <th>4</th>\n",
       "      <td>2006-01-15</td>\n",
       "      <td>Eastern</td>\n",
       "      <td>Kitui</td>\n",
       "      <td>Kitui</td>\n",
       "      <td>-1.366667</td>\n",
       "      <td>38.016667</td>\n",
       "      <td>cereals and tubers</td>\n",
       "      <td>Maize (white)</td>\n",
       "      <td>KG</td>\n",
       "      <td>actual</td>\n",
       "      <td>Retail</td>\n",
       "      <td>KES</td>\n",
       "      <td>17.0</td>\n",
       "      <td>0.2355</td>\n",
       "    </tr>\n",
       "    <tr>\n",
       "      <th>...</th>\n",
       "      <td>...</td>\n",
       "      <td>...</td>\n",
       "      <td>...</td>\n",
       "      <td>...</td>\n",
       "      <td>...</td>\n",
       "      <td>...</td>\n",
       "      <td>...</td>\n",
       "      <td>...</td>\n",
       "      <td>...</td>\n",
       "      <td>...</td>\n",
       "      <td>...</td>\n",
       "      <td>...</td>\n",
       "      <td>...</td>\n",
       "      <td>...</td>\n",
       "    </tr>\n",
       "    <tr>\n",
       "      <th>15731</th>\n",
       "      <td>2023-08-15</td>\n",
       "      <td>North Eastern</td>\n",
       "      <td>Garissa</td>\n",
       "      <td>Dagahaley (Daadab)</td>\n",
       "      <td>0.185656</td>\n",
       "      <td>40.291621</td>\n",
       "      <td>miscellaneous food</td>\n",
       "      <td>Salt</td>\n",
       "      <td>200 G</td>\n",
       "      <td>aggregate</td>\n",
       "      <td>Retail</td>\n",
       "      <td>KES</td>\n",
       "      <td>10.0</td>\n",
       "      <td>0.07</td>\n",
       "    </tr>\n",
       "    <tr>\n",
       "      <th>15732</th>\n",
       "      <td>2023-08-15</td>\n",
       "      <td>North Eastern</td>\n",
       "      <td>Garissa</td>\n",
       "      <td>Dagahaley (Daadab)</td>\n",
       "      <td>0.185656</td>\n",
       "      <td>40.291621</td>\n",
       "      <td>miscellaneous food</td>\n",
       "      <td>Sugar</td>\n",
       "      <td>KG</td>\n",
       "      <td>aggregate</td>\n",
       "      <td>Retail</td>\n",
       "      <td>KES</td>\n",
       "      <td>138.46</td>\n",
       "      <td>0.9696</td>\n",
       "    </tr>\n",
       "    <tr>\n",
       "      <th>15733</th>\n",
       "      <td>2023-08-15</td>\n",
       "      <td>North Eastern</td>\n",
       "      <td>Garissa</td>\n",
       "      <td>Dagahaley (Daadab)</td>\n",
       "      <td>0.185656</td>\n",
       "      <td>40.291621</td>\n",
       "      <td>oil and fats</td>\n",
       "      <td>Oil (vegetable)</td>\n",
       "      <td>L</td>\n",
       "      <td>aggregate</td>\n",
       "      <td>Retail</td>\n",
       "      <td>KES</td>\n",
       "      <td>259.23</td>\n",
       "      <td>1.8153</td>\n",
       "    </tr>\n",
       "    <tr>\n",
       "      <th>15734</th>\n",
       "      <td>2023-08-15</td>\n",
       "      <td>North Eastern</td>\n",
       "      <td>Garissa</td>\n",
       "      <td>Dagahaley (Daadab)</td>\n",
       "      <td>0.185656</td>\n",
       "      <td>40.291621</td>\n",
       "      <td>pulses and nuts</td>\n",
       "      <td>Beans (dry)</td>\n",
       "      <td>KG</td>\n",
       "      <td>aggregate</td>\n",
       "      <td>Retail</td>\n",
       "      <td>KES</td>\n",
       "      <td>191.67</td>\n",
       "      <td>1.3422</td>\n",
       "    </tr>\n",
       "    <tr>\n",
       "      <th>15735</th>\n",
       "      <td>2023-08-15</td>\n",
       "      <td>North Eastern</td>\n",
       "      <td>Garissa</td>\n",
       "      <td>Dagahaley (Daadab)</td>\n",
       "      <td>0.185656</td>\n",
       "      <td>40.291621</td>\n",
       "      <td>vegetables and fruits</td>\n",
       "      <td>Bananas</td>\n",
       "      <td>Unit</td>\n",
       "      <td>aggregate</td>\n",
       "      <td>Retail</td>\n",
       "      <td>KES</td>\n",
       "      <td>10.0</td>\n",
       "      <td>0.07</td>\n",
       "    </tr>\n",
       "  </tbody>\n",
       "</table>\n",
       "<p>15736 rows × 14 columns</p>\n",
       "</div>"
      ],
      "text/plain": [
       "             date         admin1      admin2              market   latitude  \\\n",
       "0           #date     #adm1+name  #adm2+name    #loc+market+name   #geo+lat   \n",
       "1      2006-01-15          Coast     Mombasa             Mombasa      -4.05   \n",
       "2      2006-01-15          Coast     Mombasa             Mombasa      -4.05   \n",
       "3      2006-01-15          Coast     Mombasa             Mombasa      -4.05   \n",
       "4      2006-01-15        Eastern       Kitui               Kitui  -1.366667   \n",
       "...           ...            ...         ...                 ...        ...   \n",
       "15731  2023-08-15  North Eastern     Garissa  Dagahaley (Daadab)   0.185656   \n",
       "15732  2023-08-15  North Eastern     Garissa  Dagahaley (Daadab)   0.185656   \n",
       "15733  2023-08-15  North Eastern     Garissa  Dagahaley (Daadab)   0.185656   \n",
       "15734  2023-08-15  North Eastern     Garissa  Dagahaley (Daadab)   0.185656   \n",
       "15735  2023-08-15  North Eastern     Garissa  Dagahaley (Daadab)   0.185656   \n",
       "\n",
       "       longitude               category        commodity        unit  \\\n",
       "0       #geo+lon             #item+type       #item+name  #item+unit   \n",
       "1      39.666667     cereals and tubers    Maize (white)       90 KG   \n",
       "2      39.666667        pulses and nuts            Beans          KG   \n",
       "3      39.666667        pulses and nuts      Beans (dry)       90 KG   \n",
       "4      38.016667     cereals and tubers    Maize (white)          KG   \n",
       "...          ...                    ...              ...         ...   \n",
       "15731  40.291621     miscellaneous food             Salt       200 G   \n",
       "15732  40.291621     miscellaneous food            Sugar          KG   \n",
       "15733  40.291621           oil and fats  Oil (vegetable)           L   \n",
       "15734  40.291621        pulses and nuts      Beans (dry)          KG   \n",
       "15735  40.291621  vegetables and fruits          Bananas        Unit   \n",
       "\n",
       "              priceflag         pricetype   currency   price    usdprice  \n",
       "0      #item+price+flag  #item+price+type  #currency  #value  #value+usd  \n",
       "1                actual         Wholesale        KES  1480.0     20.5041  \n",
       "2                actual         Wholesale        KES   33.63      0.4659  \n",
       "3                actual         Wholesale        KES  3246.0     44.9705  \n",
       "4                actual            Retail        KES    17.0      0.2355  \n",
       "...                 ...               ...        ...     ...         ...  \n",
       "15731         aggregate            Retail        KES    10.0        0.07  \n",
       "15732         aggregate            Retail        KES  138.46      0.9696  \n",
       "15733         aggregate            Retail        KES  259.23      1.8153  \n",
       "15734         aggregate            Retail        KES  191.67      1.3422  \n",
       "15735         aggregate            Retail        KES    10.0        0.07  \n",
       "\n",
       "[15736 rows x 14 columns]"
      ]
     },
     "execution_count": 5,
     "metadata": {},
     "output_type": "execute_result"
    }
   ],
   "source": [
    "# Displaying data entries to get a glimpse of our dataset.\n",
    "data"
   ]
  },
  {
   "cell_type": "markdown",
   "metadata": {},
   "source": [
    "### Initial cleaning of the dataset\n",
    "\n",
    "From these outputs, we can see that the first row seems to contain unnecessary headers. We can go ahead and drop that row.\n",
    "We will also go ahead to convert the **date, latitude, longitude, price,** and **usdprice** columns to their appropriate data types."
   ]
  },
  {
   "cell_type": "code",
   "execution_count": 6,
   "metadata": {
    "scrolled": true
   },
   "outputs": [
    {
     "name": "stdout",
     "output_type": "stream",
     "text": [
      "\n",
      "The dataset now contains 15735 rows and 14 columns after dropping the first row.\n",
      "\n"
     ]
    }
   ],
   "source": [
    "# Removing the first row\n",
    "data = data.drop(index=0)\n",
    "print(f\"\\nThe dataset now contains {data.shape[0]} rows and {data.shape[1]} columns after dropping the first row.\\n\")\n",
    "\n",
    "# Converting appropriate columns to their correct data types\n",
    "data['date'] = pd.to_datetime(data['date'])\n",
    "data['latitude'] = pd.to_numeric(data['latitude'], errors='coerce')\n",
    "data['longitude'] = pd.to_numeric(data['longitude'], errors='coerce')\n",
    "data['price'] = pd.to_numeric(data['price'], errors='coerce')\n",
    "data['usdprice'] = pd.to_numeric(data['usdprice'], errors='coerce')"
   ]
  },
  {
   "cell_type": "code",
   "execution_count": 7,
   "metadata": {
    "scrolled": true
   },
   "outputs": [
    {
     "name": "stdout",
     "output_type": "stream",
     "text": [
      "<class 'pandas.core.frame.DataFrame'>\n",
      "Int64Index: 15735 entries, 1 to 15735\n",
      "Data columns (total 14 columns):\n",
      " #   Column     Non-Null Count  Dtype         \n",
      "---  ------     --------------  -----         \n",
      " 0   date       15735 non-null  datetime64[ns]\n",
      " 1   admin1     15735 non-null  object        \n",
      " 2   admin2     15735 non-null  object        \n",
      " 3   market     15735 non-null  object        \n",
      " 4   latitude   15735 non-null  float64       \n",
      " 5   longitude  15735 non-null  float64       \n",
      " 6   category   15735 non-null  object        \n",
      " 7   commodity  15735 non-null  object        \n",
      " 8   unit       15735 non-null  object        \n",
      " 9   priceflag  15735 non-null  object        \n",
      " 10  pricetype  15735 non-null  object        \n",
      " 11  currency   15735 non-null  object        \n",
      " 12  price      15735 non-null  float64       \n",
      " 13  usdprice   15735 non-null  float64       \n",
      "dtypes: datetime64[ns](1), float64(4), object(9)\n",
      "memory usage: 1.8+ MB\n"
     ]
    }
   ],
   "source": [
    "#Confirming the change to the data types\n",
    "data.info()"
   ]
  },
  {
   "cell_type": "markdown",
   "metadata": {},
   "source": [
    "Great. now we can see that the datatypes have been updated to the appropriate types and we can also see that we don't have any missing values."
   ]
  },
  {
   "cell_type": "markdown",
   "metadata": {},
   "source": [
    "###  Basic Statistics\n",
    "In this section, We'll get a brief statistical overview of the numerical features in the dataset."
   ]
  },
  {
   "cell_type": "code",
   "execution_count": 8,
   "metadata": {},
   "outputs": [
    {
     "data": {
      "text/html": [
       "<div>\n",
       "<style scoped>\n",
       "    .dataframe tbody tr th:only-of-type {\n",
       "        vertical-align: middle;\n",
       "    }\n",
       "\n",
       "    .dataframe tbody tr th {\n",
       "        vertical-align: top;\n",
       "    }\n",
       "\n",
       "    .dataframe thead th {\n",
       "        text-align: right;\n",
       "    }\n",
       "</style>\n",
       "<table border=\"1\" class=\"dataframe\">\n",
       "  <thead>\n",
       "    <tr style=\"text-align: right;\">\n",
       "      <th></th>\n",
       "      <th>date</th>\n",
       "      <th>admin1</th>\n",
       "      <th>admin2</th>\n",
       "      <th>market</th>\n",
       "      <th>latitude</th>\n",
       "      <th>longitude</th>\n",
       "      <th>category</th>\n",
       "      <th>commodity</th>\n",
       "      <th>unit</th>\n",
       "      <th>priceflag</th>\n",
       "      <th>pricetype</th>\n",
       "      <th>currency</th>\n",
       "      <th>price</th>\n",
       "      <th>usdprice</th>\n",
       "    </tr>\n",
       "  </thead>\n",
       "  <tbody>\n",
       "    <tr>\n",
       "      <th>count</th>\n",
       "      <td>15735</td>\n",
       "      <td>15735</td>\n",
       "      <td>15735</td>\n",
       "      <td>15735</td>\n",
       "      <td>15735.000000</td>\n",
       "      <td>15735.000000</td>\n",
       "      <td>15735</td>\n",
       "      <td>15735</td>\n",
       "      <td>15735</td>\n",
       "      <td>15735</td>\n",
       "      <td>15735</td>\n",
       "      <td>15735</td>\n",
       "      <td>15735.000000</td>\n",
       "      <td>15735.000000</td>\n",
       "    </tr>\n",
       "    <tr>\n",
       "      <th>unique</th>\n",
       "      <td>NaN</td>\n",
       "      <td>7</td>\n",
       "      <td>22</td>\n",
       "      <td>62</td>\n",
       "      <td>NaN</td>\n",
       "      <td>NaN</td>\n",
       "      <td>8</td>\n",
       "      <td>47</td>\n",
       "      <td>14</td>\n",
       "      <td>2</td>\n",
       "      <td>2</td>\n",
       "      <td>1</td>\n",
       "      <td>NaN</td>\n",
       "      <td>NaN</td>\n",
       "    </tr>\n",
       "    <tr>\n",
       "      <th>top</th>\n",
       "      <td>NaN</td>\n",
       "      <td>Rift Valley</td>\n",
       "      <td>Nairobi</td>\n",
       "      <td>Nairobi</td>\n",
       "      <td>NaN</td>\n",
       "      <td>NaN</td>\n",
       "      <td>cereals and tubers</td>\n",
       "      <td>Maize (white)</td>\n",
       "      <td>KG</td>\n",
       "      <td>actual</td>\n",
       "      <td>Wholesale</td>\n",
       "      <td>KES</td>\n",
       "      <td>NaN</td>\n",
       "      <td>NaN</td>\n",
       "    </tr>\n",
       "    <tr>\n",
       "      <th>freq</th>\n",
       "      <td>NaN</td>\n",
       "      <td>5862</td>\n",
       "      <td>3516</td>\n",
       "      <td>1763</td>\n",
       "      <td>NaN</td>\n",
       "      <td>NaN</td>\n",
       "      <td>7435</td>\n",
       "      <td>1785</td>\n",
       "      <td>6429</td>\n",
       "      <td>10649</td>\n",
       "      <td>8454</td>\n",
       "      <td>15735</td>\n",
       "      <td>NaN</td>\n",
       "      <td>NaN</td>\n",
       "    </tr>\n",
       "    <tr>\n",
       "      <th>mean</th>\n",
       "      <td>2018-09-25 12:43:25.452812032</td>\n",
       "      <td>NaN</td>\n",
       "      <td>NaN</td>\n",
       "      <td>NaN</td>\n",
       "      <td>-0.048478</td>\n",
       "      <td>36.896211</td>\n",
       "      <td>NaN</td>\n",
       "      <td>NaN</td>\n",
       "      <td>NaN</td>\n",
       "      <td>NaN</td>\n",
       "      <td>NaN</td>\n",
       "      <td>NaN</td>\n",
       "      <td>2025.314464</td>\n",
       "      <td>19.224636</td>\n",
       "    </tr>\n",
       "    <tr>\n",
       "      <th>min</th>\n",
       "      <td>2006-01-15 00:00:00</td>\n",
       "      <td>NaN</td>\n",
       "      <td>NaN</td>\n",
       "      <td>NaN</td>\n",
       "      <td>-4.659730</td>\n",
       "      <td>34.727999</td>\n",
       "      <td>NaN</td>\n",
       "      <td>NaN</td>\n",
       "      <td>NaN</td>\n",
       "      <td>NaN</td>\n",
       "      <td>NaN</td>\n",
       "      <td>NaN</td>\n",
       "      <td>5.000000</td>\n",
       "      <td>0.044100</td>\n",
       "    </tr>\n",
       "    <tr>\n",
       "      <th>25%</th>\n",
       "      <td>2016-01-15 00:00:00</td>\n",
       "      <td>NaN</td>\n",
       "      <td>NaN</td>\n",
       "      <td>NaN</td>\n",
       "      <td>-1.283333</td>\n",
       "      <td>35.283333</td>\n",
       "      <td>NaN</td>\n",
       "      <td>NaN</td>\n",
       "      <td>NaN</td>\n",
       "      <td>NaN</td>\n",
       "      <td>NaN</td>\n",
       "      <td>NaN</td>\n",
       "      <td>60.000000</td>\n",
       "      <td>0.597300</td>\n",
       "    </tr>\n",
       "    <tr>\n",
       "      <th>50%</th>\n",
       "      <td>2021-04-15 00:00:00</td>\n",
       "      <td>NaN</td>\n",
       "      <td>NaN</td>\n",
       "      <td>NaN</td>\n",
       "      <td>-0.282960</td>\n",
       "      <td>36.816667</td>\n",
       "      <td>NaN</td>\n",
       "      <td>NaN</td>\n",
       "      <td>NaN</td>\n",
       "      <td>NaN</td>\n",
       "      <td>NaN</td>\n",
       "      <td>NaN</td>\n",
       "      <td>202.250000</td>\n",
       "      <td>1.897000</td>\n",
       "    </tr>\n",
       "    <tr>\n",
       "      <th>75%</th>\n",
       "      <td>2021-11-15 00:00:00</td>\n",
       "      <td>NaN</td>\n",
       "      <td>NaN</td>\n",
       "      <td>NaN</td>\n",
       "      <td>0.516667</td>\n",
       "      <td>38.008250</td>\n",
       "      <td>NaN</td>\n",
       "      <td>NaN</td>\n",
       "      <td>NaN</td>\n",
       "      <td>NaN</td>\n",
       "      <td>NaN</td>\n",
       "      <td>NaN</td>\n",
       "      <td>3071.440000</td>\n",
       "      <td>31.123250</td>\n",
       "    </tr>\n",
       "    <tr>\n",
       "      <th>max</th>\n",
       "      <td>2023-08-15 00:00:00</td>\n",
       "      <td>NaN</td>\n",
       "      <td>NaN</td>\n",
       "      <td>NaN</td>\n",
       "      <td>3.936804</td>\n",
       "      <td>41.858383</td>\n",
       "      <td>NaN</td>\n",
       "      <td>NaN</td>\n",
       "      <td>NaN</td>\n",
       "      <td>NaN</td>\n",
       "      <td>NaN</td>\n",
       "      <td>NaN</td>\n",
       "      <td>19800.000000</td>\n",
       "      <td>183.806900</td>\n",
       "    </tr>\n",
       "    <tr>\n",
       "      <th>std</th>\n",
       "      <td>NaN</td>\n",
       "      <td>NaN</td>\n",
       "      <td>NaN</td>\n",
       "      <td>NaN</td>\n",
       "      <td>2.173516</td>\n",
       "      <td>1.859500</td>\n",
       "      <td>NaN</td>\n",
       "      <td>NaN</td>\n",
       "      <td>NaN</td>\n",
       "      <td>NaN</td>\n",
       "      <td>NaN</td>\n",
       "      <td>NaN</td>\n",
       "      <td>3042.076888</td>\n",
       "      <td>27.507549</td>\n",
       "    </tr>\n",
       "  </tbody>\n",
       "</table>\n",
       "</div>"
      ],
      "text/plain": [
       "                                 date       admin1   admin2   market  \\\n",
       "count                           15735        15735    15735    15735   \n",
       "unique                            NaN            7       22       62   \n",
       "top                               NaN  Rift Valley  Nairobi  Nairobi   \n",
       "freq                              NaN         5862     3516     1763   \n",
       "mean    2018-09-25 12:43:25.452812032          NaN      NaN      NaN   \n",
       "min               2006-01-15 00:00:00          NaN      NaN      NaN   \n",
       "25%               2016-01-15 00:00:00          NaN      NaN      NaN   \n",
       "50%               2021-04-15 00:00:00          NaN      NaN      NaN   \n",
       "75%               2021-11-15 00:00:00          NaN      NaN      NaN   \n",
       "max               2023-08-15 00:00:00          NaN      NaN      NaN   \n",
       "std                               NaN          NaN      NaN      NaN   \n",
       "\n",
       "            latitude     longitude            category      commodity   unit  \\\n",
       "count   15735.000000  15735.000000               15735          15735  15735   \n",
       "unique           NaN           NaN                   8             47     14   \n",
       "top              NaN           NaN  cereals and tubers  Maize (white)     KG   \n",
       "freq             NaN           NaN                7435           1785   6429   \n",
       "mean       -0.048478     36.896211                 NaN            NaN    NaN   \n",
       "min        -4.659730     34.727999                 NaN            NaN    NaN   \n",
       "25%        -1.283333     35.283333                 NaN            NaN    NaN   \n",
       "50%        -0.282960     36.816667                 NaN            NaN    NaN   \n",
       "75%         0.516667     38.008250                 NaN            NaN    NaN   \n",
       "max         3.936804     41.858383                 NaN            NaN    NaN   \n",
       "std         2.173516      1.859500                 NaN            NaN    NaN   \n",
       "\n",
       "       priceflag  pricetype currency         price      usdprice  \n",
       "count      15735      15735    15735  15735.000000  15735.000000  \n",
       "unique         2          2        1           NaN           NaN  \n",
       "top       actual  Wholesale      KES           NaN           NaN  \n",
       "freq       10649       8454    15735           NaN           NaN  \n",
       "mean         NaN        NaN      NaN   2025.314464     19.224636  \n",
       "min          NaN        NaN      NaN      5.000000      0.044100  \n",
       "25%          NaN        NaN      NaN     60.000000      0.597300  \n",
       "50%          NaN        NaN      NaN    202.250000      1.897000  \n",
       "75%          NaN        NaN      NaN   3071.440000     31.123250  \n",
       "max          NaN        NaN      NaN  19800.000000    183.806900  \n",
       "std          NaN        NaN      NaN   3042.076888     27.507549  "
      ]
     },
     "execution_count": 8,
     "metadata": {},
     "output_type": "execute_result"
    }
   ],
   "source": [
    "# Displaying basic statistics\n",
    "data.describe(include='all', datetime_is_numeric=True)"
   ]
  },
  {
   "cell_type": "markdown",
   "metadata": {},
   "source": [
    "* The dataset covers a time span from **January 2006** to **August 2023**.\n",
    "* It includes data from 7 first-level administrative divisions and 22 second-level divisions in Kenya, with **62 different markets represented.**\n",
    "* There are **47 unique commodities**, with **'Maize (white)'** being the most frequent.\n",
    "* Prices vary significantly, with some commodities having prices as low as **5 KES** and as high as **19,800 KES**. The average price is around **2025 KES**.\n",
    "* The dataset includes both **wholesale and retail price** types, with the majority being actual prices rather than estimated."
   ]
  },
  {
   "cell_type": "markdown",
   "metadata": {},
   "source": [
    "## Univariate Analysis\n",
    "In this section, wIn this stage, we'll analyze individual variables (features) to understand their characteristics. This includes distribution, central tendency, variability, and presence of outliers.e take a deeper aproach into our analysis to find more trends that may inform our next steps"
   ]
  },
  {
   "cell_type": "markdown",
   "metadata": {},
   "source": [
    "### Price Distribution\n",
    "We'll start by examining the distribution of commodity prices (in Kenyan Shilling) to understand its range, central tendency, and any potential skewness or outliers."
   ]
  },
  {
   "cell_type": "code",
   "execution_count": 9,
   "metadata": {
    "scrolled": true
   },
   "outputs": [
    {
     "data": {
      "image/png": "[encoded data removed]",
      "text/plain": [
       "<Figure size 576x360 with 1 Axes>"
      ]
     },
     "metadata": {
      "needs_background": "light"
     },
     "output_type": "display_data"
    }
   ],
   "source": [
    "# Plotting the distribution of prices\n",
    "plt.figure(figsize=(8, 5))\n",
    "sns.histplot(data['price'], kde=True, bins= 40)\n",
    "plt.title('Distribution of Commodity Prices')\n",
    "plt.xlabel('Price (KES)')\n",
    "plt.ylabel('Frequency')\n",
    "plt.grid()\n",
    "plt.show()"
   ]
  },
  {
   "cell_type": "markdown",
   "metadata": {},
   "source": [
    "The histogram shows a highly right-skewed distribution. This suggests that most commodity prices are on the lower end, with a few commodities having significantly higher prices.\n",
    "\n",
    "The presence of a long tail indicates substantial variation in prices, with a small number of commodities being much more expensive than the majority."
   ]
  },
  {
   "cell_type": "code",
   "execution_count": 10,
   "metadata": {},
   "outputs": [
    {
     "data": {
      "image/png": "[encoded data removed]",
      "text/plain": [
       "<Figure size 864x432 with 1 Axes>"
      ]
     },
     "metadata": {
      "needs_background": "light"
     },
     "output_type": "display_data"
    }
   ],
   "source": [
    "# Boxplot for commodity prices to identify outliers\n",
    "plt.figure(figsize = (12, 6))\n",
    "sns.boxplot(x = data['price'], palette = 'Set2')\n",
    "plt.title('Box Plot of Commodity Prices')\n",
    "plt.xlabel('Price (KES)')\n",
    "plt.grid()\n",
    "plt.show()"
   ]
  },
  {
   "cell_type": "markdown",
   "metadata": {},
   "source": [
    "The box plot further illustrates the skewness in the data with many outliers on the higher end. These outliers represent commodities with exceptionally high prices.\n",
    "The median price (indicated by the line inside the box) is relatively low compared to the maximum price, reinforcing the notion of a skewed distribution."
   ]
  },
  {
   "cell_type": "markdown",
   "metadata": {},
   "source": [
    "### Comodity Frequencies\n",
    "Let's create a bar plot to show the frequency of different commodities in the dataset. This will help us understand which commodities are most common and might be of greater interest for further analysis. ​"
   ]
  },
  {
   "cell_type": "code",
   "execution_count": 11,
   "metadata": {},
   "outputs": [
    {
     "data": {
      "image/png": "[encoded data removed]",
      "text/plain": [
       "<Figure size 864x432 with 1 Axes>"
      ]
     },
     "metadata": {
      "needs_background": "light"
     },
     "output_type": "display_data"
    }
   ],
   "source": [
    "# Top 10 most frequent commodities in the dataset\n",
    "top_commodities = data['commodity'].value_counts().head(10)\n",
    "\n",
    "plt.figure(figsize=(12, 6))\n",
    "top_commodities.plot(kind='bar', color='blue')\n",
    "plt.title('Top 10 Most Frequent Commodities')\n",
    "plt.xlabel('Commodity')\n",
    "plt.ylabel('Frequency')\n",
    "plt.xticks(rotation=90)\n",
    "plt.grid()\n",
    "plt.show()"
   ]
  },
  {
   "cell_type": "markdown",
   "metadata": {},
   "source": [
    "### Market Distribution Analysis"
   ]
  },
  {
   "cell_type": "code",
   "execution_count": 12,
   "metadata": {},
   "outputs": [
    {
     "data": {
      "image/png": "[encoded data removed]",
      "text/plain": [
       "<Figure size 864x432 with 1 Axes>"
      ]
     },
     "metadata": {
      "needs_background": "light"
     },
     "output_type": "display_data"
    }
   ],
   "source": [
    "# Re-running the code for Top 10 markets with the most records in the dataset\n",
    "top_markets = data['market'].value_counts().head(10)\n",
    "\n",
    "plt.figure(figsize=(12, 6))\n",
    "top_markets.plot(kind='bar', color='orange')\n",
    "plt.title('Top 10 Markets with Most Records')\n",
    "plt.xlabel('Market')\n",
    "plt.ylabel('Number of Records')\n",
    "plt.xticks(rotation=90)\n",
    "plt.grid()\n",
    "plt.show()\n"
   ]
  },
  {
   "cell_type": "markdown",
   "metadata": {},
   "source": [
    "From this analysis we can see the top 10 markets with the most records in the dataset.\n",
    "* Markets like **Nairobi**, **Eldoret**, and **Kisumu** are among the most represented, indicating either their larger market size or more frequent data collection.\n",
    "\n",
    "* This distribution helps in understanding which markets are most prominent in the dataset, which is important for evaluating the representativeness of our analysis and identifying any potential gaps in market coverage."
   ]
  },
  {
   "cell_type": "markdown",
   "metadata": {},
   "source": [
    "## Bivariate Analysis\n",
    "In this section, we'll explore relationships between two variables at a time. This can provide insights into how different variables interact with each other, which is particularly useful for understanding the dynamics of commodity prices in relation to other factors."
   ]
  },
  {
   "cell_type": "markdown",
   "metadata": {},
   "source": [
    "###  **Price vs. Time**\n",
    "We'll start by analyzing how commodity prices have changed over time. This can reveal trends and cyclical patterns in the data.\n",
    "Before we do,  We first check the number and type of commodities we have. "
   ]
  },
  {
   "cell_type": "code",
   "execution_count": 13,
   "metadata": {},
   "outputs": [
    {
     "data": {
      "text/plain": [
       "Bananas                       327\n",
       "Beans                         732\n",
       "Beans (dolichos)              217\n",
       "Beans (dry)                  1510\n",
       "Beans (kidney)                107\n",
       "Beans (mung)                   56\n",
       "Beans (rosecoco)              240\n",
       "Beans (yellow)                359\n",
       "Bread                         178\n",
       "Cabbage                       411\n",
       "Cooking fat                   123\n",
       "Cowpea leaves                  40\n",
       "Cowpeas                       206\n",
       "Fish (omena, dry)              24\n",
       "Fuel (diesel)                  67\n",
       "Fuel (kerosene)                67\n",
       "Fuel (petrol-gasoline)         67\n",
       "Kale                          387\n",
       "Maize                         964\n",
       "Maize (white)                1785\n",
       "Maize (white, dry)            328\n",
       "Maize flour                   387\n",
       "Meat (beef)                   219\n",
       "Meat (camel)                  122\n",
       "Meat (goat)                   174\n",
       "Milk (UHT)                    356\n",
       "Milk (camel, fresh)            78\n",
       "Milk (cow, fresh)              18\n",
       "Milk (cow, pasteurized)       178\n",
       "Millet (finger)                77\n",
       "Oil (vegetable)               564\n",
       "Onions (dry)                  397\n",
       "Onions (red)                    1\n",
       "Potatoes (Irish)             1069\n",
       "Potatoes (Irish, red)         147\n",
       "Potatoes (Irish, white)       336\n",
       "Rice                          388\n",
       "Rice (aromatic)               234\n",
       "Rice (imported, Pakistan)      20\n",
       "Salt                          386\n",
       "Sorghum                       942\n",
       "Sorghum (red)                  82\n",
       "Sorghum (white)               112\n",
       "Spinach                        54\n",
       "Sugar                         388\n",
       "Tomatoes                      425\n",
       "Wheat flour                   386\n",
       "Name: commodity, dtype: int64"
      ]
     },
     "execution_count": 13,
     "metadata": {},
     "output_type": "execute_result"
    }
   ],
   "source": [
    "# Checking for the value counts of each commodity.\n",
    "data[\"commodity\"].value_counts().sort_index(ascending=True)"
   ]
  },
  {
   "cell_type": "code",
   "execution_count": 14,
   "metadata": {},
   "outputs": [
    {
     "data": {
      "image/png": "[encoded data removed]",
      "text/plain": [
       "<Figure size 1080x1800 with 7 Axes>"
      ]
     },
     "metadata": {
      "needs_background": "light"
     },
     "output_type": "display_data"
    }
   ],
   "source": [
    "# List of commodity pairs/groups for comparison\n",
    "commodity_groups = {\n",
    "    'Beans': ['Beans', 'Beans (dry)', 'Beans (dolichos)','Beans (kidney)',\n",
    "              'Beans (mung)','Beans (rosecoco)','Beans (yellow)'],\n",
    "    \n",
    "    'Maize': ['Maize', 'Maize (white)', 'Maize (white, dry)'],\n",
    "    'Potatoes (Irish)': ['Potatoes (Irish)', 'Potatoes (Irish, red)', \n",
    "                         'Potatoes (Irish, white)'],\n",
    "    \n",
    "    'Milk (UHT)': ['Milk (cow, pasteurized)', 'Milk (UHT)', \n",
    "                   'Milk (cow, fresh)', 'Milk (camel, fresh)'],\n",
    "    \n",
    "    'Onions (dry)': ['Onions (dry)', 'Onions (red)'],\n",
    "    'Rice': ['Rice', 'Rice (aromatic)', 'Rice (imported, Pakistan)'],\n",
    "    'Sorghum': ['Sorghum', 'Sorghum (red)', 'Sorghum (white)'],\n",
    "  \n",
    "}\n",
    "\n",
    "# Creating box plots for sample groups to see how the different named variants compare to price\n",
    "plt.figure(figsize=(15, 25))\n",
    "for i, (group_name, commodities) in enumerate(commodity_groups.items(), 1):\n",
    "    plt.subplot(len(commodity_groups), 1, i)\n",
    "    sns.boxplot(x='commodity', y='price', data=data[data['commodity'].isin(commodities)])\n",
    "    plt.title(f'Price Distribution for {group_name}')\n",
    "    plt.xlabel('Commodity')\n",
    "    plt.ylabel('Price in KES')\n",
    "\n",
    "plt.tight_layout()\n",
    "plt.show()"
   ]
  },
  {
   "cell_type": "markdown",
   "metadata": {},
   "source": [
    "Since the goal of the analysis is to understand broader trends in food prices and conduct a high-level forecast of the commodities, We'll go on to merge the commodities in order to simply "
   ]
  },
  {
   "cell_type": "code",
   "execution_count": 15,
   "metadata": {},
   "outputs": [
    {
     "data": {
      "text/plain": [
       "Beans                        3221\n",
       "Maize                        3077\n",
       "Potatoes                     1552\n",
       "Sorghum                       942\n",
       "Oil (vegetable)               564\n",
       "Tomatoes                      425\n",
       "Cabbage                       411\n",
       "Onions (dry)                  397\n",
       "Sugar                         388\n",
       "Rice                          388\n",
       "Kale                          387\n",
       "Maize flour                   387\n",
       "Wheat flour                   386\n",
       "Salt                          386\n",
       "Milk (UHT)                    356\n",
       "Bananas                       327\n",
       "Rice (aromatic)               234\n",
       "Meat (beef)                   219\n",
       "Cowpeas                       206\n",
       "Bread                         178\n",
       "Milk (cow, pasteurized)       178\n",
       "Meat (goat)                   174\n",
       "Cooking fat                   123\n",
       "Meat (camel)                  122\n",
       "Sorghum (white)               112\n",
       "Sorghum (red)                  82\n",
       "Milk (camel, fresh)            78\n",
       "Millet (finger)                77\n",
       "Fuel (petrol-gasoline)         67\n",
       "Fuel (diesel)                  67\n",
       "Fuel (kerosene)                67\n",
       "Spinach                        54\n",
       "Cowpea leaves                  40\n",
       "Fish (omena, dry)              24\n",
       "Rice (imported, Pakistan)      20\n",
       "Milk (cow, fresh)              18\n",
       "Onions (red)                    1\n",
       "Name: commodity, dtype: int64"
      ]
     },
     "execution_count": 15,
     "metadata": {},
     "output_type": "execute_result"
    }
   ],
   "source": [
    "# Defining the mapping of variants to general categories\n",
    "commodity_replacement = {\n",
    "    'Beans (dry)': 'Beans',\n",
    "    'Beans (kidney)': 'Beans',\n",
    "    'Beans (rosecoco)': 'Beans',\n",
    "    'Beans (yellow)': 'Beans',\n",
    "    'Beans (dolichos)': 'Beans',\n",
    "    'Beans (mung)': 'Beans',\n",
    "    'Maize (white)': 'Maize',\n",
    "    'Maize (white, dry)': 'Maize',\n",
    "    'Potatoes (Irish)': 'Potatoes',\n",
    "    'Potatoes (Irish, red)': 'Potatoes',\n",
    "    'Potatoes (Irish, white)': 'Potatoes'\n",
    "}\n",
    "\n",
    "# Updating the 'commodity' column by replacing variant names with the general category name\n",
    "data['commodity'] = data['commodity'].replace(commodity_replacement)\n",
    "\n",
    "# Confirming the changes\n",
    "data['commodity'].value_counts()"
   ]
  },
  {
   "cell_type": "code",
   "execution_count": 16,
   "metadata": {},
   "outputs": [],
   "source": [
    "# Setting the date to be index column\n",
    "data.set_index('date', inplace=True)"
   ]
  },
  {
   "cell_type": "code",
   "execution_count": null,
   "metadata": {},
   "outputs": [],
   "source": []
  },
  {
   "cell_type": "markdown",
   "metadata": {},
   "source": [
    "### **Price vs. Market**\n",
    "Next, we'll examine the relationship between commodity prices and different markets. This can highlight regional price variations.\n"
   ]
  },
  {
   "cell_type": "markdown",
   "metadata": {},
   "source": [
    "### **Price vs. Commodity Category** \n",
    "We'll also look at how prices vary across different commodity categories."
   ]
  }
 ],
 "metadata": {
  "kernelspec": {
   "display_name": "Python 3",
   "language": "python",
   "name": "python3"
  },
  "language_info": {
   "codemirror_mode": {
    "name": "ipython",
    "version": 3
   },
   "file_extension": ".py",
   "mimetype": "text/x-python",
   "name": "python",
   "nbconvert_exporter": "python",
   "pygments_lexer": "ipython3",
   "version": "3.8.5"
  }
 },
 "nbformat": 4,
 "nbformat_minor": 2
}
